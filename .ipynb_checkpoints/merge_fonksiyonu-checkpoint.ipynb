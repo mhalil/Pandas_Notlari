{
 "cells": [
  {
   "cell_type": "markdown",
   "id": "a04a32c8",
   "metadata": {},
   "source": [
    "## merge() Fonksiyonu\n",
    "<code>merge()</code> fonksiyonu <code>join</code> fonksiyonuna benzer ancak bazı farklı özellikleri vardır. Veri Çerçevesi (DataFrame) veya adlandırılmış Seri nesnelerini (Series) veritabanı stili birleştirme yöntemi ile (SQL’de bulunan inner join, outer join … ‘e benzer) birleştirmek için <code>merge()</code> fonksiyonunu kullanılabilir.\n",
    "\n",
    "Adlandırılmış Seri nesnesi (Series), adlandırılmış tek bir sütuna sahip Veri çerçevesi (DataFrame) olarak ele alınır.\n",
    "\n",
    "<code>merge()</code> fonksiyonunun bir çok parametresi vardır. Biz burada temel bir kaç parametreye değineceğiz. \n",
    "\n",
    "<code> DataFrame.merge(right, how='inner', on=None, left_on=None, right_on=None, \n",
    "                  left_index=False, right_index=False, sort=False, \n",
    "                  suffixes=('_x', '_y'), copy=True, indicator=False, validate=None)</code>\n",
    "\n",
    "### on Parametresi\n",
    "<code>on</code> parametresi, Veri Çerçevelerinin hangi sütun baz alınarak birleştirileceğini belirteceğimiz parametredir. "
   ]
  },
  {
   "cell_type": "code",
   "execution_count": 1,
   "id": "b0dd0885",
   "metadata": {},
   "outputs": [],
   "source": [
    "import pandas as pd"
   ]
  }
 ],
 "metadata": {
  "kernelspec": {
   "display_name": "Python 3 (ipykernel)",
   "language": "python",
   "name": "python3"
  },
  "language_info": {
   "codemirror_mode": {
    "name": "ipython",
    "version": 3
   },
   "file_extension": ".py",
   "mimetype": "text/x-python",
   "name": "python",
   "nbconvert_exporter": "python",
   "pygments_lexer": "ipython3",
   "version": "3.10.6"
  }
 },
 "nbformat": 4,
 "nbformat_minor": 5
}
