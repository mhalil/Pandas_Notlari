{
 "cells": [
  {
   "cell_type": "markdown",
   "id": "14dbc1c4",
   "metadata": {},
   "source": [
    "# DÜZENLEME KOMUTLARI\n",
    "\n",
    "## İndeks Değerlerini Ayarlamak\n",
    "\n",
    "## index_col() Parametresi\n",
    "\n",
    "Veri Çerçevesi (Data Frame) içerisinde bulunan sütunlardan birini, indeks değeri olarak ayarlamak/atamak istersek, **index_col()** fonksiyonunu kullanabiliriz.\n",
    "Öncelikle elimizdeki excel dosyamızı veri çerçevesine dönüştürüp içeriğine göz atalım."
   ]
  },
  {
   "cell_type": "code",
   "execution_count": 36,
   "id": "ac3b0328",
   "metadata": {},
   "outputs": [
    {
     "data": {
      "text/html": [
       "<div>\n",
       "<style scoped>\n",
       "    .dataframe tbody tr th:only-of-type {\n",
       "        vertical-align: middle;\n",
       "    }\n",
       "\n",
       "    .dataframe tbody tr th {\n",
       "        vertical-align: top;\n",
       "    }\n",
       "\n",
       "    .dataframe thead th {\n",
       "        text-align: right;\n",
       "    }\n",
       "</style>\n",
       "<table border=\"1\" class=\"dataframe\">\n",
       "  <thead>\n",
       "    <tr style=\"text-align: right;\">\n",
       "      <th></th>\n",
       "      <th>Yıl</th>\n",
       "      <th>Toplam</th>\n",
       "      <th>Ortalama</th>\n",
       "    </tr>\n",
       "  </thead>\n",
       "  <tbody>\n",
       "    <tr>\n",
       "      <th>0</th>\n",
       "      <td>2001</td>\n",
       "      <td>1323341</td>\n",
       "      <td>110278.416667</td>\n",
       "    </tr>\n",
       "    <tr>\n",
       "      <th>1</th>\n",
       "      <td>2002</td>\n",
       "      <td>1229555</td>\n",
       "      <td>102462.916667</td>\n",
       "    </tr>\n",
       "    <tr>\n",
       "      <th>2</th>\n",
       "      <td>2003</td>\n",
       "      <td>1198927</td>\n",
       "      <td>99910.583333</td>\n",
       "    </tr>\n",
       "    <tr>\n",
       "      <th>3</th>\n",
       "      <td>2004</td>\n",
       "      <td>1222484</td>\n",
       "      <td>101873.666667</td>\n",
       "    </tr>\n",
       "    <tr>\n",
       "      <th>4</th>\n",
       "      <td>2005</td>\n",
       "      <td>1244041</td>\n",
       "      <td>103670.083333</td>\n",
       "    </tr>\n",
       "  </tbody>\n",
       "</table>\n",
       "</div>"
      ],
      "text/plain": [
       "    Yıl   Toplam       Ortalama\n",
       "0  2001  1323341  110278.416667\n",
       "1  2002  1229555  102462.916667\n",
       "2  2003  1198927   99910.583333\n",
       "3  2004  1222484  101873.666667\n",
       "4  2005  1244041  103670.083333"
      ]
     },
     "execution_count": 36,
     "metadata": {},
     "output_type": "execute_result"
    }
   ],
   "source": [
    "import pandas as pd\n",
    "\n",
    "dogumlar = pd.read_excel(\"Veri_Setleri/AyaGöreDoğumlar.xlsx\", sheet_name = \"ortalama\")\n",
    "dogumlar.head()"
   ]
  },
  {
   "cell_type": "markdown",
   "id": "c3c24216",
   "metadata": {},
   "source": [
    "Oluşan veri çerçevesindeki **Yıl** sütununu indeks olarak ayarlayalım."
   ]
  },
  {
   "cell_type": "code",
   "execution_count": null,
   "id": "a502bb9b",
   "metadata": {
    "scrolled": true
   },
   "outputs": [],
   "source": [
    "dogumlar = pd.read_excel(\"Veri_Setleri/AyaGöreDoğumlar.xlsx\", sheet_name = \"ortalama\", index_col=0)\n",
    "dogumlar.head()"
   ]
  },
  {
   "cell_type": "markdown",
   "id": "8d0d3c6f",
   "metadata": {},
   "source": [
    "İşlem başarılı. **Yıl** Sütunu, indeks olarak ayarlandı.\n",
    "\n",
    "## set_index() metodu\n",
    "\n",
    "Veri Çerçevelerinin indeks değerlerini **index_col** parametresi ile değiştirebildiğimiz gibi İstersek **set_index()** metodu ile de değiştirebilir / atayabiliriz.\n",
    "**dogumlar** isimli veri çerçevemizi yeniden oluşturup indeks başlığı **set_index()** metodu ile değiştirelim."
   ]
  },
  {
   "cell_type": "code",
   "execution_count": null,
   "id": "11d7bf19",
   "metadata": {
    "scrolled": true
   },
   "outputs": [],
   "source": [
    "dogumlar = pd.read_excel(\"Veri_Setleri/AyaGöreDoğumlar.xlsx\")\n",
    "dogumlar"
   ]
  },
  {
   "cell_type": "markdown",
   "id": "656957f4",
   "metadata": {},
   "source": [
    "Veri çerçevesini yeniden (AyaGöreDoğumlar.xlsx isimli excel doyasından içe aktararak) oluşturduğumuz ve **index_col** parametresi kullanmadığımız için, İndeks değerleri Pandas tarafından otomatik olarak oluşturuldu. Bu kez de **Toplam** isimli sütun değerlerini **set_index** metoduyla, indeks değerleri olarak atayalım."
   ]
  },
  {
   "cell_type": "code",
   "execution_count": null,
   "id": "9afdd720",
   "metadata": {},
   "outputs": [],
   "source": [
    "dogumlar.set_index(\"Toplam\")"
   ]
  },
  {
   "cell_type": "markdown",
   "id": "f30343c5",
   "metadata": {},
   "source": [
    "## Sütunları Atla\n",
    "\n",
    "## usecols Parametresi\n",
    "\n",
    "Bir Excel çalışma sayfasını, Pandas Veri Çerçevesine (DataFrame'e) dönüştürürken, bazı sütunları atlamamız / göz ardı etmemiz gerekebilir, bunu **usecols** parametresi kullanarak yapabiliriz. Bu parametre, tamsayı (int), metin (str), list-like veya callable (varsayılan None) değerlerini alır. Sütun adlarının veya konumlarının listesini belirtmek için, bir dize (string) listesi veya bir tamsayı (int) listesi kullanmalıyız.\n",
    "\n",
    "Aylara Göre Doğum Sayıları tablosunu yukarıda görmüştük. Bu tabloda 14 sütun bulunmaktadır. Sadece istediğimiz aylara ait sütun bilgilerini görüntülemek istersek **usecols** parametresine ya **ay isimlerini** ya da **ayın sütun indis değerini** yazmamız gerekir. Her iki kullanımı da görelim."
   ]
  },
  {
   "cell_type": "code",
   "execution_count": null,
   "id": "f654b1b8",
   "metadata": {},
   "outputs": [],
   "source": [
    "dogumlar = pd.read_excel(\"Veri_Setleri/AyaGöreDoğumlar.xlsx\", usecols=[\"Yıl\", \"Ocak\", \"Haziran\", \"Ağustos\"])\n",
    "dogumlar.head()"
   ]
  },
  {
   "cell_type": "code",
   "execution_count": null,
   "id": "fcbb8d22",
   "metadata": {},
   "outputs": [],
   "source": [
    "dogumlar = pd.read_excel(\"Veri_Setleri/AyaGöreDoğumlar.xlsx\", usecols=[0,2,7,9])\n",
    "dogumlar.head()"
   ]
  },
  {
   "cell_type": "markdown",
   "id": "54622d67",
   "metadata": {},
   "source": [
    "**usecols** parametresine, <u>sütun isimlerini yazarken</u>, sütun isimleri metinsel (string) ifade olduğu için **çift tırnak işareti \"** kullandığımıza, <u>indis değeri yazarken</u> , indis değerleri tamsayı (int) olduğu için, tırnak işareti kullanmadığımıza dikkat edin.\n",
    "\n",
    "Ayrıca, **usecols** parametresini, sütun aralığı belirterek te kullanabiliriz. Veri çerçevemizin sütunlarını, Excel programının sütun isimleri gibi (A, B, C,... şeklinde) düşünerek aralık belirtebiliriz. Aşağıdaki örnek, ne demek istediğimi daha net anlatacaktır."
   ]
  },
  {
   "cell_type": "code",
   "execution_count": null,
   "id": "55227f69",
   "metadata": {},
   "outputs": [],
   "source": [
    "dogumlar = pd.read_excel(\"Veri_Setleri/AyaGöreDoğumlar.xlsx\", usecols=\"C:G\")\n",
    "dogumlar.head()"
   ]
  },
  {
   "cell_type": "markdown",
   "id": "f37c1b47",
   "metadata": {},
   "source": [
    "Oluşturduğumuz Veri Çerçevemizdeki **Yıl** Sütunu **A**'ya, **Toplam** sütunu **B**'ye, **Ocak** Sütunu da **C**'ye denk geldiği için, çıktımız **Ocak** Ayından başlayıp **G** sütununa denk gelen **Mayıs** ayına kadar olan aralığı alarak çıktı olarak bize sundu.\n",
    "\n",
    "## Satırları Atla\n",
    "\n",
    "## skiprows Parametresi\n",
    "\n",
    "Bir Excel çalışma sayfasını, Pandas Veri Çerçevesine (DataFrame'e) dönüştürürken, bazı satırları atlamamız / göz ardı etmemiz gerekebilir, bunu **skiprows** parametresi kullanarak yapabiliriz. Bu, parametre olarak, list-like, tamsayı (int) veya callable (isteğe bağlı) değerlerini alır. Bu parametre ile ilk birkaç satırı, seçilen satırı ve belirttiğimiz satır aralığını atlayabiliriz."
   ]
  },
  {
   "cell_type": "code",
   "execution_count": null,
   "id": "e3341e21",
   "metadata": {},
   "outputs": [],
   "source": [
    "basliksiz = pd.read_excel(\"Veri_Setleri/SatırAtla.xlsx\")\n",
    "basliksiz.head(10)"
   ]
  },
  {
   "cell_type": "markdown",
   "id": "7e742490",
   "metadata": {},
   "source": [
    "Atlamak / gözardı etmek istediğimiz satırları tek tek te belirtebiliriz."
   ]
  },
  {
   "cell_type": "code",
   "execution_count": null,
   "id": "62850c12",
   "metadata": {},
   "outputs": [],
   "source": [
    "basliksiz = pd.read_excel(\"Veri_Setleri/SatırAtla.xlsx\", skiprows=[0,1,2,3,5,8,10,12])\n",
    "basliksiz.head(10)"
   ]
  },
  {
   "cell_type": "markdown",
   "id": "03435b06",
   "metadata": {},
   "source": [
    "## Sütun Ekle\n",
    "\n",
    "Veri çerçevesine yeni bir sütun ekleyip bu sütuna değer atamak mümkündür. Bunu şu yöntemle yapabiliriz.\n",
    "\n",
    "***Veri_Çerçevesi_Adı[\"Yeni_Sütun_Adı\"] = Atanacak_Değerler***\n",
    "\n",
    "Örneğin NBA oyuncularının çeşitli bilgilerinin bulunduğu veri çerçevesinden, yıllık kazanç miktarlarını (**Salary**) 12'ye bölerek aylık kazançlarını hesaplayarak, **Aylık Kazanç** isimli yeni sütuna yazmaya çalışalım.\n",
    "Önce Veri çerçevemizin orijinal haline göz atalım."
   ]
  },
  {
   "cell_type": "code",
   "execution_count": null,
   "id": "8f7ac3b5",
   "metadata": {},
   "outputs": [],
   "source": [
    "veri = pd.read_csv(\"Veri_Setleri/nba.csv\")\n",
    "veri"
   ]
  },
  {
   "cell_type": "markdown",
   "id": "1c19b77a",
   "metadata": {},
   "source": [
    "Şimdi istediğimizi yapmaya (yıllık kazanç miktarlarını (**Salary**) 12'ye bölerek aylık kazançları, **Aylık Kazanç** isimli yeni sütuna yazmaya) sıra geldi."
   ]
  },
  {
   "cell_type": "code",
   "execution_count": null,
   "id": "1c7f5876",
   "metadata": {},
   "outputs": [],
   "source": [
    "veri[\"Aylık Kazanç\"] = veri[\"Salary\"] / 12\n",
    "veri"
   ]
  },
  {
   "cell_type": "markdown",
   "id": "d3780ad0",
   "metadata": {},
   "source": [
    "## Satır ya da Sütun Sil\n",
    "\n",
    "Veri çerçevesine ekleme yapılabildiği gibi, silme / çıkarma işlemi de yapılabiliyor.\n",
    "Bunun için **drop()** metodu kullanılıyor.\n",
    "\n",
    "## drop() Metodu\n",
    "\n",
    "Bu metodun kullanım/yazım şekli aşağıdaki gibidir.\n",
    "\n",
    "***Veri_Çerçevesi_Adı.drop(\"Sütun_Adı\", axis = 0 ya da 1, inplace = True ya da False)***\n",
    "\n",
    "**drop()** metodunun parametrelerini, sırayla açıklayalım.\n",
    "* **Sütun_Adı**, adından belli olduğu üzere, silinecek sütunun adıdır. Birden fazla sütun silinmek istenirse, isimler liste şeklinde yani köşeli parantez içinde yazılmalıdır.\n",
    "* **axis** parametresi, Sıfır **(0)** Satırları, Bir **(1)** Sütunları temsil eder. Varsayılan (default) değeri 0'dır. Aynı isme ait satır ve sütun bilgisi olması durumunda, bu parametre satırın mı, sütunun  mu silinmesi gerektiği konusunda bize yardımcı olur.\n",
    "* **inplace** parametresi, Gerçekleştirilen silme işleminin veri çerçevesinde kalıcı ya da geçici olmasını ayarladığımız kısımdır. **inplace = True** yazılırsa, yapılan işlem kalıcı hale gelecektir.\n",
    "\n",
    "NBA oyuncularının bilgilerinin bulunduğu veri çerçevesinden, **Yaş (Age)** bilgisini silmeye çalışalım."
   ]
  },
  {
   "cell_type": "code",
   "execution_count": null,
   "id": "4f0fa4ac",
   "metadata": {},
   "outputs": [],
   "source": [
    "veri.drop(\"Age\", axis = 1, inplace=True)\n",
    "veri"
   ]
  },
  {
   "cell_type": "markdown",
   "id": "aed3b220",
   "metadata": {},
   "source": [
    "Gördüğünüz gibi veri çerçevemizde artık Oyuncuların Yaş bilgilerini barındıran **Age** isimli sütun bulunmuyor, tamemiyle silindi."
   ]
  }
 ],
 "metadata": {
  "kernelspec": {
   "display_name": "Python 3 (ipykernel)",
   "language": "python",
   "name": "python3"
  },
  "language_info": {
   "codemirror_mode": {
    "name": "ipython",
    "version": 3
   },
   "file_extension": ".py",
   "mimetype": "text/x-python",
   "name": "python",
   "nbconvert_exporter": "python",
   "pygments_lexer": "ipython3",
   "version": "3.10.4"
  }
 },
 "nbformat": 4,
 "nbformat_minor": 5
}
