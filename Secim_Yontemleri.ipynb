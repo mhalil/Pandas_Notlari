{
 "cells": [
  {
   "cell_type": "markdown",
   "id": "2e11446b",
   "metadata": {},
   "source": [
    "# SEÇİM YÖNTEMLERİ\n",
    "\n",
    "# Satır ve Sütun Seçimi\n",
    "\n",
    "## iloc[] Metodu\n",
    "\n",
    "Veri Çerçevesindeki istenilen satır ve sütunu seçmek/görüntülemek için **iloc[]** metodu kullanılır. **iloc[]** kelimesini unutmamak için **İndex Location** yani, **Konumun İndeks Değeri** gibi düşünebilir, hafızanızda kodlayabilirsiniz.\n",
    "Esas olarak **iloc[]** metodu, hem satır hem de sütun numarası alarak çalışır.\n",
    "\n",
    "Veri_Cercevesi_Adı.iloc[Satir_Numarası, Sütun_Numarası]"
   ]
  },
  {
   "cell_type": "code",
   "execution_count": 19,
   "id": "6acdc103",
   "metadata": {},
   "outputs": [
    {
     "data": {
      "text/plain": [
       "'veteriner'"
      ]
     },
     "execution_count": 19,
     "metadata": {},
     "output_type": "execute_result"
    }
   ],
   "source": [
    "veri.iloc[8,2]"
   ]
  },
  {
   "cell_type": "markdown",
   "id": "eb6f5458",
   "metadata": {},
   "source": [
    " Sadece bir sayı değeri aldığında, ilgili indeks sayısına ait **satır** bilgisini verir."
   ]
  },
  {
   "cell_type": "code",
   "execution_count": 17,
   "id": "fd9a9159",
   "metadata": {},
   "outputs": [
    {
     "data": {
      "text/plain": [
       "isim           Sertaç\n",
       "yaş                52\n",
       "iş-meslek    mühendis\n",
       "Name: 5, dtype: object"
      ]
     },
     "execution_count": 17,
     "metadata": {},
     "output_type": "execute_result"
    }
   ],
   "source": [
    "veri.iloc[5]"
   ]
  },
  {
   "cell_type": "markdown",
   "id": "444cb197",
   "metadata": {},
   "source": [
    "## loc[] Metodu\n",
    "\n",
    "**iloc[]** metoduna benzer bir metottur ancak **loc[]** metodunda, satır ve sütun seçmek/görüntülemek istediğimiz zaman, saır ve sütunların isimlerini yazmalıyız. Elimizde aşağıdaki gibi bir veri çerçevesi olduğunu varsayalım."
   ]
  },
  {
   "cell_type": "code",
   "execution_count": 46,
   "id": "46aa5ea2",
   "metadata": {
    "scrolled": true
   },
   "outputs": [
    {
     "data": {
      "text/html": [
       "<div>\n",
       "<style scoped>\n",
       "    .dataframe tbody tr th:only-of-type {\n",
       "        vertical-align: middle;\n",
       "    }\n",
       "\n",
       "    .dataframe tbody tr th {\n",
       "        vertical-align: top;\n",
       "    }\n",
       "\n",
       "    .dataframe thead th {\n",
       "        text-align: right;\n",
       "    }\n",
       "</style>\n",
       "<table border=\"1\" class=\"dataframe\">\n",
       "  <thead>\n",
       "    <tr style=\"text-align: right;\">\n",
       "      <th></th>\n",
       "      <th>Yıl</th>\n",
       "      <th>Puan</th>\n",
       "      <th>Oylayan_Kişi</th>\n",
       "    </tr>\n",
       "    <tr>\n",
       "      <th>Film_Adı</th>\n",
       "      <th></th>\n",
       "      <th></th>\n",
       "      <th></th>\n",
       "    </tr>\n",
       "  </thead>\n",
       "  <tbody>\n",
       "    <tr>\n",
       "      <th>The Shawshank Redemption</th>\n",
       "      <td>1994</td>\n",
       "      <td>9,2</td>\n",
       "      <td>1071904</td>\n",
       "    </tr>\n",
       "    <tr>\n",
       "      <th>The Godfather</th>\n",
       "      <td>1972</td>\n",
       "      <td>9,2</td>\n",
       "      <td>751381</td>\n",
       "    </tr>\n",
       "    <tr>\n",
       "      <th>The Godfather: Part II</th>\n",
       "      <td>1974</td>\n",
       "      <td>9</td>\n",
       "      <td>488889</td>\n",
       "    </tr>\n",
       "    <tr>\n",
       "      <th>Pulp Fiction</th>\n",
       "      <td>1994</td>\n",
       "      <td>8,9</td>\n",
       "      <td>830504</td>\n",
       "    </tr>\n",
       "    <tr>\n",
       "      <th>The Dark Knight</th>\n",
       "      <td>2008</td>\n",
       "      <td>8,9</td>\n",
       "      <td>1045186</td>\n",
       "    </tr>\n",
       "    <tr>\n",
       "      <th>...</th>\n",
       "      <td>...</td>\n",
       "      <td>...</td>\n",
       "      <td>...</td>\n",
       "    </tr>\n",
       "    <tr>\n",
       "      <th>Mystic River</th>\n",
       "      <td>2003</td>\n",
       "      <td>7,9</td>\n",
       "      <td>256159</td>\n",
       "    </tr>\n",
       "    <tr>\n",
       "      <th>In the Heat of the Night</th>\n",
       "      <td>1967</td>\n",
       "      <td>7,9</td>\n",
       "      <td>37081</td>\n",
       "    </tr>\n",
       "    <tr>\n",
       "      <th>Arsenic and Old Lace</th>\n",
       "      <td>1944</td>\n",
       "      <td>7,9</td>\n",
       "      <td>45893</td>\n",
       "    </tr>\n",
       "    <tr>\n",
       "      <th>Before Sunrise</th>\n",
       "      <td>1995</td>\n",
       "      <td>7,9</td>\n",
       "      <td>100974</td>\n",
       "    </tr>\n",
       "    <tr>\n",
       "      <th>Papillon</th>\n",
       "      <td>1973</td>\n",
       "      <td>7,9</td>\n",
       "      <td>62517</td>\n",
       "    </tr>\n",
       "  </tbody>\n",
       "</table>\n",
       "<p>247 rows × 3 columns</p>\n",
       "</div>"
      ],
      "text/plain": [
       "                            Yıl Puan  Oylayan_Kişi\n",
       "Film_Adı                                          \n",
       "The Shawshank Redemption   1994  9,2       1071904\n",
       "The Godfather              1972  9,2        751381\n",
       "The Godfather: Part II     1974    9        488889\n",
       "Pulp Fiction               1994  8,9        830504\n",
       "The Dark Knight            2008  8,9       1045186\n",
       "...                         ...  ...           ...\n",
       "Mystic River               2003  7,9        256159\n",
       "In the Heat of the Night   1967  7,9         37081\n",
       "Arsenic and Old Lace       1944  7,9         45893\n",
       "Before Sunrise             1995  7,9        100974\n",
       "Papillon                   1973  7,9         62517\n",
       "\n",
       "[247 rows x 3 columns]"
      ]
     },
     "execution_count": 46,
     "metadata": {},
     "output_type": "execute_result"
    }
   ],
   "source": [
    "imdb = pd.read_excel(\"Veri_Setleri/imdb.xlsx\", index_col=\"Film_Adı\")\n",
    "imdb"
   ]
  },
  {
   "cell_type": "markdown",
   "id": "bfcca0be",
   "metadata": {},
   "source": [
    "**Pulp Fiction** Filminin **Puan**ını öğrenmek istediğimizi düşünelim. Bu durumda aşağıdaki kodları yazmamız doğru sonucu verecektir."
   ]
  },
  {
   "cell_type": "code",
   "execution_count": 32,
   "id": "c32aa064",
   "metadata": {},
   "outputs": [
    {
     "data": {
      "text/plain": [
       "'8,9'"
      ]
     },
     "execution_count": 32,
     "metadata": {},
     "output_type": "execute_result"
    }
   ],
   "source": [
    "imdb.loc[\"Pulp Fiction\", \"Puan\"]"
   ]
  },
  {
   "cell_type": "markdown",
   "id": "c1f23ac5",
   "metadata": {},
   "source": [
    "**Star Wars** isimli satır verisine ulaşmak için **loc[]** metoduna **Star Wars** metinsel (string) ibaresini eklemeliyiz."
   ]
  },
  {
   "cell_type": "code",
   "execution_count": 61,
   "id": "5b5d9115",
   "metadata": {},
   "outputs": [
    {
     "data": {
      "text/plain": [
       "Yıl               1977\n",
       "Puan               8,7\n",
       "Oylayan_Kişi    585132\n",
       "Name: Star Wars, dtype: object"
      ]
     },
     "execution_count": 61,
     "metadata": {},
     "output_type": "execute_result"
    }
   ],
   "source": [
    "imdb.loc[\"Star Wars\"]"
   ]
  },
  {
   "cell_type": "markdown",
   "id": "03306265",
   "metadata": {},
   "source": [
    "## Sütun Seçimi\n",
    "\n",
    "Sadece bir Sütunu seçmek/görüntülemek için veri çerçevesinin adı ile birlikte seçmek/görüntülemek istediğimiz sütunun ismini yazmak yeterlidir. Bu da iki şekilde gerçekleştirilebilir.\n",
    "\n",
    "1. **VeriCervecesiAdı.SütunAdı**\n",
    "2. **VeriCervecesiAdı[\"SütunAdı\"]**\n",
    "\n",
    "Sütun isminde boşluk ya da nokta karakterleri bulunması halinde, ilk (noktalı) seçeneği kullanamayız, o durumda 2. seçeneği (köşeli parantezli) kullanmak gerekir.\n",
    "Bunları da örneklerle görelim."
   ]
  },
  {
   "cell_type": "code",
   "execution_count": 69,
   "id": "dc80b011",
   "metadata": {
    "scrolled": false
   },
   "outputs": [
    {
     "data": {
      "text/plain": [
       "Film_Adı\n",
       "The Shawshank Redemption     9,2\n",
       "The Godfather                9,2\n",
       "The Godfather: Part II         9\n",
       "Pulp Fiction                 8,9\n",
       "The Dark Knight              8,9\n",
       "                            ... \n",
       "Mystic River                 7,9\n",
       "In the Heat of the Night     7,9\n",
       "Arsenic and Old Lace         7,9\n",
       "Before Sunrise               7,9\n",
       "Papillon                     7,9\n",
       "Name: Puan, Length: 247, dtype: object"
      ]
     },
     "execution_count": 69,
     "metadata": {},
     "output_type": "execute_result"
    }
   ],
   "source": [
    "imdb.Puan"
   ]
  },
  {
   "cell_type": "code",
   "execution_count": 71,
   "id": "1192eecc",
   "metadata": {},
   "outputs": [
    {
     "data": {
      "text/plain": [
       "Film_Adı\n",
       "The Shawshank Redemption     9,2\n",
       "The Godfather                9,2\n",
       "The Godfather: Part II         9\n",
       "Pulp Fiction                 8,9\n",
       "The Dark Knight              8,9\n",
       "                            ... \n",
       "Mystic River                 7,9\n",
       "In the Heat of the Night     7,9\n",
       "Arsenic and Old Lace         7,9\n",
       "Before Sunrise               7,9\n",
       "Papillon                     7,9\n",
       "Name: Puan, Length: 247, dtype: object"
      ]
     },
     "execution_count": 71,
     "metadata": {},
     "output_type": "execute_result"
    }
   ],
   "source": [
    "imdb[\"Puan\"]"
   ]
  },
  {
   "cell_type": "markdown",
   "id": "d354ad9c",
   "metadata": {},
   "source": [
    "Birden fazla sütun seçmek istediğimiz durumda, sütun isimlerini liste olarak (bildiğiniz gibi liste veri tipleri köşeli parantez ile temsil edilir) belirtmek/yazmak gerekir."
   ]
  },
  {
   "cell_type": "code",
   "execution_count": 76,
   "id": "9f8e518b",
   "metadata": {},
   "outputs": [
    {
     "data": {
      "text/html": [
       "<div>\n",
       "<style scoped>\n",
       "    .dataframe tbody tr th:only-of-type {\n",
       "        vertical-align: middle;\n",
       "    }\n",
       "\n",
       "    .dataframe tbody tr th {\n",
       "        vertical-align: top;\n",
       "    }\n",
       "\n",
       "    .dataframe thead th {\n",
       "        text-align: right;\n",
       "    }\n",
       "</style>\n",
       "<table border=\"1\" class=\"dataframe\">\n",
       "  <thead>\n",
       "    <tr style=\"text-align: right;\">\n",
       "      <th></th>\n",
       "      <th>Yıl</th>\n",
       "      <th>Puan</th>\n",
       "    </tr>\n",
       "    <tr>\n",
       "      <th>Film_Adı</th>\n",
       "      <th></th>\n",
       "      <th></th>\n",
       "    </tr>\n",
       "  </thead>\n",
       "  <tbody>\n",
       "    <tr>\n",
       "      <th>The Shawshank Redemption</th>\n",
       "      <td>1994</td>\n",
       "      <td>9,2</td>\n",
       "    </tr>\n",
       "    <tr>\n",
       "      <th>The Godfather</th>\n",
       "      <td>1972</td>\n",
       "      <td>9,2</td>\n",
       "    </tr>\n",
       "    <tr>\n",
       "      <th>The Godfather: Part II</th>\n",
       "      <td>1974</td>\n",
       "      <td>9</td>\n",
       "    </tr>\n",
       "    <tr>\n",
       "      <th>Pulp Fiction</th>\n",
       "      <td>1994</td>\n",
       "      <td>8,9</td>\n",
       "    </tr>\n",
       "    <tr>\n",
       "      <th>The Dark Knight</th>\n",
       "      <td>2008</td>\n",
       "      <td>8,9</td>\n",
       "    </tr>\n",
       "    <tr>\n",
       "      <th>...</th>\n",
       "      <td>...</td>\n",
       "      <td>...</td>\n",
       "    </tr>\n",
       "    <tr>\n",
       "      <th>Mystic River</th>\n",
       "      <td>2003</td>\n",
       "      <td>7,9</td>\n",
       "    </tr>\n",
       "    <tr>\n",
       "      <th>In the Heat of the Night</th>\n",
       "      <td>1967</td>\n",
       "      <td>7,9</td>\n",
       "    </tr>\n",
       "    <tr>\n",
       "      <th>Arsenic and Old Lace</th>\n",
       "      <td>1944</td>\n",
       "      <td>7,9</td>\n",
       "    </tr>\n",
       "    <tr>\n",
       "      <th>Before Sunrise</th>\n",
       "      <td>1995</td>\n",
       "      <td>7,9</td>\n",
       "    </tr>\n",
       "    <tr>\n",
       "      <th>Papillon</th>\n",
       "      <td>1973</td>\n",
       "      <td>7,9</td>\n",
       "    </tr>\n",
       "  </tbody>\n",
       "</table>\n",
       "<p>247 rows × 2 columns</p>\n",
       "</div>"
      ],
      "text/plain": [
       "                            Yıl Puan\n",
       "Film_Adı                            \n",
       "The Shawshank Redemption   1994  9,2\n",
       "The Godfather              1972  9,2\n",
       "The Godfather: Part II     1974    9\n",
       "Pulp Fiction               1994  8,9\n",
       "The Dark Knight            2008  8,9\n",
       "...                         ...  ...\n",
       "Mystic River               2003  7,9\n",
       "In the Heat of the Night   1967  7,9\n",
       "Arsenic and Old Lace       1944  7,9\n",
       "Before Sunrise             1995  7,9\n",
       "Papillon                   1973  7,9\n",
       "\n",
       "[247 rows x 2 columns]"
      ]
     },
     "execution_count": 76,
     "metadata": {},
     "output_type": "execute_result"
    }
   ],
   "source": [
    "imdb[[\"Yıl\", \"Puan\"]]"
   ]
  }
 ],
 "metadata": {
  "kernelspec": {
   "display_name": "Python 3 (ipykernel)",
   "language": "python",
   "name": "python3"
  },
  "language_info": {
   "codemirror_mode": {
    "name": "ipython",
    "version": 3
   },
   "file_extension": ".py",
   "mimetype": "text/x-python",
   "name": "python",
   "nbconvert_exporter": "python",
   "pygments_lexer": "ipython3",
   "version": "3.10.4"
  }
 },
 "nbformat": 4,
 "nbformat_minor": 5
}
