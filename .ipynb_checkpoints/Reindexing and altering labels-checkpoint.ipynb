{
 "cells": [
  {
   "cell_type": "markdown",
   "id": "6b5e7027",
   "metadata": {},
   "source": [
    "# Yeniden İndekslemek\n",
    "\n",
    "# reindex() Fonksiyonu\n",
    "\n",
    "<code>reindex()</code>, Pandas'ta temel veri sıralama (hizalama) yöntemlerinden biridir. Bir veri çerçevesinin satır ya da sütunlarını yeniden sıralamak için kullanılan en yaygın yöntemdir. Prensip olarak, etiket sıralama mantığına dayanır. Bu işlem, indeks değerlerini ya da sütun isimlerini yeniden sıralamak ve verileri belirli bir eksen (Satır ya da sütun) boyunca belirli bir etiket kümesiyle eşleşecek şekilde uyarlamak anlamına gelir. Bu fonksiyon, **hem seçim hem de sıralama** mantığıyla çalışır. Bu yöntemle şunlar sağlanır ;\n",
    "\n",
    "* Mevcut verileri, Yeni bir etiket kümesiyle eşleştirerek yeniden sıralar\n",
    "* Etiket kümesinde eşleşen verinin bulunmaması durumunda, etiket konumlarına eksik değer (NA / NaN) işaretçileri ekler\n",
    "* Belirtilmişse, mantık kullanarak eksik etiketler için verileri doldurur (fill). (zaman serisi verileriyle çalışanlar için oldukça alakalıdır)\n",
    "\n",
    "**df** veri çerçevemizin ilk 15 verisini inceleyelim."
   ]
  },
  {
   "cell_type": "code",
   "execution_count": 85,
   "id": "a78fc7d2",
   "metadata": {
    "scrolled": false
   },
   "outputs": [
    {
     "data": {
      "text/html": [
       "<div>\n",
       "<style scoped>\n",
       "    .dataframe tbody tr th:only-of-type {\n",
       "        vertical-align: middle;\n",
       "    }\n",
       "\n",
       "    .dataframe tbody tr th {\n",
       "        vertical-align: top;\n",
       "    }\n",
       "\n",
       "    .dataframe thead th {\n",
       "        text-align: right;\n",
       "    }\n",
       "</style>\n",
       "<table border=\"1\" class=\"dataframe\">\n",
       "  <thead>\n",
       "    <tr style=\"text-align: right;\">\n",
       "      <th></th>\n",
       "      <th>Yıl</th>\n",
       "      <th>Puan</th>\n",
       "      <th>Oylayan_Kişi</th>\n",
       "    </tr>\n",
       "    <tr>\n",
       "      <th>Film_Adı</th>\n",
       "      <th></th>\n",
       "      <th></th>\n",
       "      <th></th>\n",
       "    </tr>\n",
       "  </thead>\n",
       "  <tbody>\n",
       "    <tr>\n",
       "      <th>The Shawshank Redemption</th>\n",
       "      <td>1994</td>\n",
       "      <td>9,2</td>\n",
       "      <td>1071904</td>\n",
       "    </tr>\n",
       "    <tr>\n",
       "      <th>The Godfather</th>\n",
       "      <td>1972</td>\n",
       "      <td>9,2</td>\n",
       "      <td>751381</td>\n",
       "    </tr>\n",
       "    <tr>\n",
       "      <th>The Godfather: Part II</th>\n",
       "      <td>1974</td>\n",
       "      <td>9</td>\n",
       "      <td>488889</td>\n",
       "    </tr>\n",
       "    <tr>\n",
       "      <th>Pulp Fiction</th>\n",
       "      <td>1994</td>\n",
       "      <td>8,9</td>\n",
       "      <td>830504</td>\n",
       "    </tr>\n",
       "    <tr>\n",
       "      <th>The Dark Knight</th>\n",
       "      <td>2008</td>\n",
       "      <td>8,9</td>\n",
       "      <td>1045186</td>\n",
       "    </tr>\n",
       "    <tr>\n",
       "      <th>12 Angry Men</th>\n",
       "      <td>1957</td>\n",
       "      <td>8,9</td>\n",
       "      <td>264112</td>\n",
       "    </tr>\n",
       "    <tr>\n",
       "      <th>Schindler's List</th>\n",
       "      <td>1993</td>\n",
       "      <td>8,9</td>\n",
       "      <td>545703</td>\n",
       "    </tr>\n",
       "    <tr>\n",
       "      <th>The Lord of the Rings: The Return of the King</th>\n",
       "      <td>2003</td>\n",
       "      <td>8,8</td>\n",
       "      <td>758388</td>\n",
       "    </tr>\n",
       "    <tr>\n",
       "      <th>Fight Club</th>\n",
       "      <td>1999</td>\n",
       "      <td>8,8</td>\n",
       "      <td>814389</td>\n",
       "    </tr>\n",
       "    <tr>\n",
       "      <th>Star Wars: Episode V - The Empire Strikes Back</th>\n",
       "      <td>1980</td>\n",
       "      <td>8,8</td>\n",
       "      <td>519895</td>\n",
       "    </tr>\n",
       "    <tr>\n",
       "      <th>The Lord of the Rings: The Fellowship of the Ring</th>\n",
       "      <td>2001</td>\n",
       "      <td>8,8</td>\n",
       "      <td>784999</td>\n",
       "    </tr>\n",
       "    <tr>\n",
       "      <th>One Flew Over the Cuckoo's Nest</th>\n",
       "      <td>1975</td>\n",
       "      <td>8,7</td>\n",
       "      <td>447005</td>\n",
       "    </tr>\n",
       "    <tr>\n",
       "      <th>Goodfellas</th>\n",
       "      <td>1990</td>\n",
       "      <td>8,7</td>\n",
       "      <td>465445</td>\n",
       "    </tr>\n",
       "    <tr>\n",
       "      <th>Seven Samurai</th>\n",
       "      <td>1954</td>\n",
       "      <td>8,7</td>\n",
       "      <td>161969</td>\n",
       "    </tr>\n",
       "    <tr>\n",
       "      <th>Inception</th>\n",
       "      <td>2010</td>\n",
       "      <td>8,7</td>\n",
       "      <td>844938</td>\n",
       "    </tr>\n",
       "  </tbody>\n",
       "</table>\n",
       "</div>"
      ],
      "text/plain": [
       "                                                     Yıl Puan  Oylayan_Kişi\n",
       "Film_Adı                                                                   \n",
       "The Shawshank Redemption                            1994  9,2       1071904\n",
       "The Godfather                                       1972  9,2        751381\n",
       "The Godfather: Part II                              1974    9        488889\n",
       "Pulp Fiction                                        1994  8,9        830504\n",
       "The Dark Knight                                     2008  8,9       1045186\n",
       "12 Angry Men                                        1957  8,9        264112\n",
       "Schindler's List                                    1993  8,9        545703\n",
       "The Lord of the Rings: The Return of the King       2003  8,8        758388\n",
       "Fight Club                                          1999  8,8        814389\n",
       "Star Wars: Episode V - The Empire Strikes Back      1980  8,8        519895\n",
       "The Lord of the Rings: The Fellowship of the Ring   2001  8,8        784999\n",
       "One Flew Over the Cuckoo's Nest                     1975  8,7        447005\n",
       "Goodfellas                                          1990  8,7        465445\n",
       "Seven Samurai                                       1954  8,7        161969\n",
       "Inception                                           2010  8,7        844938"
      ]
     },
     "execution_count": 85,
     "metadata": {},
     "output_type": "execute_result"
    }
   ],
   "source": [
    "import pandas as pd\n",
    "df = pd.read_excel(\"Veri_Setleri/imdb.xlsx\", index_col=\"Film_Adı\")\n",
    "df.head(15)"
   ]
  },
  {
   "cell_type": "markdown",
   "id": "863f314f",
   "metadata": {},
   "source": [
    "Hem seçim hem de sıralama mantığı ile çalışan bu fonksiyon ile **Fight Club, Pulp Fiction, Inception, The Godfather, The Dark Knight** ve **Seven Samurai** filmlerini, yazdığımız sıra ile **sirala_filtrele** isimli yeni bir Veri Çerçevesine atayalım."
   ]
  },
  {
   "cell_type": "code",
   "execution_count": 86,
   "id": "aaf5bcf9",
   "metadata": {
    "scrolled": true
   },
   "outputs": [
    {
     "data": {
      "text/html": [
       "<div>\n",
       "<style scoped>\n",
       "    .dataframe tbody tr th:only-of-type {\n",
       "        vertical-align: middle;\n",
       "    }\n",
       "\n",
       "    .dataframe tbody tr th {\n",
       "        vertical-align: top;\n",
       "    }\n",
       "\n",
       "    .dataframe thead th {\n",
       "        text-align: right;\n",
       "    }\n",
       "</style>\n",
       "<table border=\"1\" class=\"dataframe\">\n",
       "  <thead>\n",
       "    <tr style=\"text-align: right;\">\n",
       "      <th></th>\n",
       "      <th>Yıl</th>\n",
       "      <th>Puan</th>\n",
       "      <th>Oylayan_Kişi</th>\n",
       "    </tr>\n",
       "    <tr>\n",
       "      <th>Film_Adı</th>\n",
       "      <th></th>\n",
       "      <th></th>\n",
       "      <th></th>\n",
       "    </tr>\n",
       "  </thead>\n",
       "  <tbody>\n",
       "    <tr>\n",
       "      <th>Fight Club</th>\n",
       "      <td>1999</td>\n",
       "      <td>8,8</td>\n",
       "      <td>814389</td>\n",
       "    </tr>\n",
       "    <tr>\n",
       "      <th>Pulp Fiction</th>\n",
       "      <td>1994</td>\n",
       "      <td>8,9</td>\n",
       "      <td>830504</td>\n",
       "    </tr>\n",
       "    <tr>\n",
       "      <th>Inception</th>\n",
       "      <td>2010</td>\n",
       "      <td>8,7</td>\n",
       "      <td>844938</td>\n",
       "    </tr>\n",
       "    <tr>\n",
       "      <th>The Godfather</th>\n",
       "      <td>1972</td>\n",
       "      <td>9,2</td>\n",
       "      <td>751381</td>\n",
       "    </tr>\n",
       "    <tr>\n",
       "      <th>The Dark Knight</th>\n",
       "      <td>2008</td>\n",
       "      <td>8,9</td>\n",
       "      <td>1045186</td>\n",
       "    </tr>\n",
       "    <tr>\n",
       "      <th>Seven Samurai</th>\n",
       "      <td>1954</td>\n",
       "      <td>8,7</td>\n",
       "      <td>161969</td>\n",
       "    </tr>\n",
       "  </tbody>\n",
       "</table>\n",
       "</div>"
      ],
      "text/plain": [
       "                   Yıl Puan  Oylayan_Kişi\n",
       "Film_Adı                                 \n",
       "Fight Club        1999  8,8        814389\n",
       "Pulp Fiction      1994  8,9        830504\n",
       "Inception         2010  8,7        844938\n",
       "The Godfather     1972  9,2        751381\n",
       "The Dark Knight   2008  8,9       1045186\n",
       "Seven Samurai     1954  8,7        161969"
      ]
     },
     "execution_count": 86,
     "metadata": {},
     "output_type": "execute_result"
    }
   ],
   "source": [
    "sirala_filtrele = df.reindex([\"Fight Club \", \"Pulp Fiction\", \"Inception\", \"The Godfather \", \"The Dark Knight \", \"Seven Samurai \"])\n",
    "sirala_filtrele"
   ]
  },
  {
   "cell_type": "markdown",
   "id": "e2d2273a",
   "metadata": {},
   "source": [
    "**df** veri çerçevemizde bulunmayan (eksik/kayıp veri) bir filmi **sirala_filtrele** veri çerçevemize eklemeye çalışırak ne olacağını görelim."
   ]
  },
  {
   "cell_type": "code",
   "execution_count": 87,
   "id": "927bf5df",
   "metadata": {},
   "outputs": [
    {
     "data": {
      "text/html": [
       "<div>\n",
       "<style scoped>\n",
       "    .dataframe tbody tr th:only-of-type {\n",
       "        vertical-align: middle;\n",
       "    }\n",
       "\n",
       "    .dataframe tbody tr th {\n",
       "        vertical-align: top;\n",
       "    }\n",
       "\n",
       "    .dataframe thead th {\n",
       "        text-align: right;\n",
       "    }\n",
       "</style>\n",
       "<table border=\"1\" class=\"dataframe\">\n",
       "  <thead>\n",
       "    <tr style=\"text-align: right;\">\n",
       "      <th></th>\n",
       "      <th>Yıl</th>\n",
       "      <th>Puan</th>\n",
       "      <th>Oylayan_Kişi</th>\n",
       "    </tr>\n",
       "    <tr>\n",
       "      <th>Film_Adı</th>\n",
       "      <th></th>\n",
       "      <th></th>\n",
       "      <th></th>\n",
       "    </tr>\n",
       "  </thead>\n",
       "  <tbody>\n",
       "    <tr>\n",
       "      <th>Deli Yürek</th>\n",
       "      <td>NaN</td>\n",
       "      <td>NaN</td>\n",
       "      <td>NaN</td>\n",
       "    </tr>\n",
       "    <tr>\n",
       "      <th>Fight Club</th>\n",
       "      <td>1999.0</td>\n",
       "      <td>8,8</td>\n",
       "      <td>814389.0</td>\n",
       "    </tr>\n",
       "    <tr>\n",
       "      <th>Pulp Fiction</th>\n",
       "      <td>1994.0</td>\n",
       "      <td>8,9</td>\n",
       "      <td>830504.0</td>\n",
       "    </tr>\n",
       "    <tr>\n",
       "      <th>Inception</th>\n",
       "      <td>2010.0</td>\n",
       "      <td>8,7</td>\n",
       "      <td>844938.0</td>\n",
       "    </tr>\n",
       "    <tr>\n",
       "      <th>The Godfather</th>\n",
       "      <td>1972.0</td>\n",
       "      <td>9,2</td>\n",
       "      <td>751381.0</td>\n",
       "    </tr>\n",
       "    <tr>\n",
       "      <th>The Dark Knight</th>\n",
       "      <td>2008.0</td>\n",
       "      <td>8,9</td>\n",
       "      <td>1045186.0</td>\n",
       "    </tr>\n",
       "    <tr>\n",
       "      <th>Seven Samurai</th>\n",
       "      <td>1954.0</td>\n",
       "      <td>8,7</td>\n",
       "      <td>161969.0</td>\n",
       "    </tr>\n",
       "  </tbody>\n",
       "</table>\n",
       "</div>"
      ],
      "text/plain": [
       "                     Yıl Puan  Oylayan_Kişi\n",
       "Film_Adı                                   \n",
       "Deli Yürek           NaN  NaN           NaN\n",
       "Fight Club        1999.0  8,8      814389.0\n",
       "Pulp Fiction      1994.0  8,9      830504.0\n",
       "Inception         2010.0  8,7      844938.0\n",
       "The Godfather     1972.0  9,2      751381.0\n",
       "The Dark Knight   2008.0  8,9     1045186.0\n",
       "Seven Samurai     1954.0  8,7      161969.0"
      ]
     },
     "execution_count": 87,
     "metadata": {},
     "output_type": "execute_result"
    }
   ],
   "source": [
    "sirala_filtrele = df.reindex([\"Deli Yürek\", \"Fight Club \", \"Pulp Fiction\", \"Inception\", \"The Godfather \", \"The Dark Knight \", \"Seven Samurai \"])\n",
    "sirala_filtrele"
   ]
  },
  {
   "cell_type": "markdown",
   "id": "cc9743f7",
   "metadata": {},
   "source": [
    "Gördüğünüz gibi, **df** veri çerçevemizde **Deli Yürek** isimli bir filmi bulunmadığı için, **sirala_filtrele** veri çerçevemize sadece **Filmin Adı** eklendi, **Yıl, Puan** ve **Oylayan_Kişi** bilgileri yerine **NaN** değeri atandı.\n",
    "\n",
    "\n",
    "## columns Parametresi\n",
    "**df** veri çerçevemizin sütun isimleri **Yıl, Puan** ve **Oylayan_Kişi** sırası ile görüntüleniyor. Bu sırayı <code>reindex()</code> fonksiyonu yardımı ile değiştirmek istersek, <code>columns</code> parametresini kullanabiliriz. **sirala_filtrele** isimli veri çerçevemizin sütunlarını **Puan, Yıl, Oylayan_Kişi** sırasına göre hizalamaya çalışalım."
   ]
  },
  {
   "cell_type": "code",
   "execution_count": 88,
   "id": "ca4a60fc",
   "metadata": {
    "scrolled": true
   },
   "outputs": [
    {
     "data": {
      "text/html": [
       "<div>\n",
       "<style scoped>\n",
       "    .dataframe tbody tr th:only-of-type {\n",
       "        vertical-align: middle;\n",
       "    }\n",
       "\n",
       "    .dataframe tbody tr th {\n",
       "        vertical-align: top;\n",
       "    }\n",
       "\n",
       "    .dataframe thead th {\n",
       "        text-align: right;\n",
       "    }\n",
       "</style>\n",
       "<table border=\"1\" class=\"dataframe\">\n",
       "  <thead>\n",
       "    <tr style=\"text-align: right;\">\n",
       "      <th></th>\n",
       "      <th>Puan</th>\n",
       "      <th>Yıl</th>\n",
       "      <th>Oylayan_Kişi</th>\n",
       "    </tr>\n",
       "    <tr>\n",
       "      <th>Film_Adı</th>\n",
       "      <th></th>\n",
       "      <th></th>\n",
       "      <th></th>\n",
       "    </tr>\n",
       "  </thead>\n",
       "  <tbody>\n",
       "    <tr>\n",
       "      <th>Deli Yürek</th>\n",
       "      <td>NaN</td>\n",
       "      <td>NaN</td>\n",
       "      <td>NaN</td>\n",
       "    </tr>\n",
       "    <tr>\n",
       "      <th>Fight Club</th>\n",
       "      <td>8,8</td>\n",
       "      <td>1999.0</td>\n",
       "      <td>814389.0</td>\n",
       "    </tr>\n",
       "    <tr>\n",
       "      <th>Pulp Fiction</th>\n",
       "      <td>8,9</td>\n",
       "      <td>1994.0</td>\n",
       "      <td>830504.0</td>\n",
       "    </tr>\n",
       "    <tr>\n",
       "      <th>Inception</th>\n",
       "      <td>8,7</td>\n",
       "      <td>2010.0</td>\n",
       "      <td>844938.0</td>\n",
       "    </tr>\n",
       "    <tr>\n",
       "      <th>The Godfather</th>\n",
       "      <td>9,2</td>\n",
       "      <td>1972.0</td>\n",
       "      <td>751381.0</td>\n",
       "    </tr>\n",
       "    <tr>\n",
       "      <th>The Dark Knight</th>\n",
       "      <td>8,9</td>\n",
       "      <td>2008.0</td>\n",
       "      <td>1045186.0</td>\n",
       "    </tr>\n",
       "    <tr>\n",
       "      <th>Seven Samurai</th>\n",
       "      <td>8,7</td>\n",
       "      <td>1954.0</td>\n",
       "      <td>161969.0</td>\n",
       "    </tr>\n",
       "  </tbody>\n",
       "</table>\n",
       "</div>"
      ],
      "text/plain": [
       "                 Puan     Yıl  Oylayan_Kişi\n",
       "Film_Adı                                   \n",
       "Deli Yürek        NaN     NaN           NaN\n",
       "Fight Club        8,8  1999.0      814389.0\n",
       "Pulp Fiction      8,9  1994.0      830504.0\n",
       "Inception         8,7  2010.0      844938.0\n",
       "The Godfather     9,2  1972.0      751381.0\n",
       "The Dark Knight   8,9  2008.0     1045186.0\n",
       "Seven Samurai     8,7  1954.0      161969.0"
      ]
     },
     "execution_count": 88,
     "metadata": {},
     "output_type": "execute_result"
    }
   ],
   "source": [
    "sirala_filtrele.reindex(columns=[\"Puan\", \"Yıl\", \"Oylayan_Kişi\"])"
   ]
  },
  {
   "cell_type": "markdown",
   "id": "0e3a8c73",
   "metadata": {},
   "source": [
    "<code>reindex()</code> fonksiyonunu, **Dilimleme** ve **Filtreleme** işlemi olarak ta kullanabiliriz. **df** veri çerçevemizdeki **Seven Samurai, Fight Club** ve **Inception** isimli filmlere ait sadece **Yıl** ve **Puan** bilgilerini elde etmek istersek <code>reindex()</code> fonksiyonu ile birlikte <code>index</code> ve <code>columns</code> parametrelerini kullanmalıyız."
   ]
  },
  {
   "cell_type": "code",
   "execution_count": 89,
   "id": "0cb9a4e8",
   "metadata": {
    "scrolled": true
   },
   "outputs": [
    {
     "data": {
      "text/html": [
       "<div>\n",
       "<style scoped>\n",
       "    .dataframe tbody tr th:only-of-type {\n",
       "        vertical-align: middle;\n",
       "    }\n",
       "\n",
       "    .dataframe tbody tr th {\n",
       "        vertical-align: top;\n",
       "    }\n",
       "\n",
       "    .dataframe thead th {\n",
       "        text-align: right;\n",
       "    }\n",
       "</style>\n",
       "<table border=\"1\" class=\"dataframe\">\n",
       "  <thead>\n",
       "    <tr style=\"text-align: right;\">\n",
       "      <th></th>\n",
       "      <th>Yıl</th>\n",
       "      <th>Puan</th>\n",
       "    </tr>\n",
       "    <tr>\n",
       "      <th>Film_Adı</th>\n",
       "      <th></th>\n",
       "      <th></th>\n",
       "    </tr>\n",
       "  </thead>\n",
       "  <tbody>\n",
       "    <tr>\n",
       "      <th>Seven Samurai</th>\n",
       "      <td>1954</td>\n",
       "      <td>8,7</td>\n",
       "    </tr>\n",
       "    <tr>\n",
       "      <th>Fight Club</th>\n",
       "      <td>1999</td>\n",
       "      <td>8,8</td>\n",
       "    </tr>\n",
       "    <tr>\n",
       "      <th>Inception</th>\n",
       "      <td>2010</td>\n",
       "      <td>8,7</td>\n",
       "    </tr>\n",
       "  </tbody>\n",
       "</table>\n",
       "</div>"
      ],
      "text/plain": [
       "                 Yıl Puan\n",
       "Film_Adı                 \n",
       "Seven Samurai   1954  8,7\n",
       "Fight Club      1999  8,8\n",
       "Inception       2010  8,7"
      ]
     },
     "execution_count": 89,
     "metadata": {},
     "output_type": "execute_result"
    }
   ],
   "source": [
    "df.reindex(index=[\"Seven Samurai \", \"Fight Club \", \"Inception\"], columns=[\"Yıl\", \"Puan\"])"
   ]
  },
  {
   "cell_type": "markdown",
   "id": "dd9a8d8d",
   "metadata": {},
   "source": [
    "## axis parametresi\n",
    "\n",
    "Veri çerçevenizin indeks değerlerini (satırlar) ya da sütun isimlerini/değerlerini <code>reindex()</code> fonksiyonun, <code>axis</code> parametresi ile de sıralayabilirsiniz.\n",
    "\n",
    "İndeks değerleri ve Sütun isimleri **0, 1** ve **2** olan bir veri çerçevesi oluşturup göz atalım."
   ]
  },
  {
   "cell_type": "code",
   "execution_count": 90,
   "id": "06c451e7",
   "metadata": {
    "scrolled": true
   },
   "outputs": [
    {
     "data": {
      "text/html": [
       "<div>\n",
       "<style scoped>\n",
       "    .dataframe tbody tr th:only-of-type {\n",
       "        vertical-align: middle;\n",
       "    }\n",
       "\n",
       "    .dataframe tbody tr th {\n",
       "        vertical-align: top;\n",
       "    }\n",
       "\n",
       "    .dataframe thead th {\n",
       "        text-align: right;\n",
       "    }\n",
       "</style>\n",
       "<table border=\"1\" class=\"dataframe\">\n",
       "  <thead>\n",
       "    <tr style=\"text-align: right;\">\n",
       "      <th></th>\n",
       "      <th>0</th>\n",
       "      <th>1</th>\n",
       "      <th>2</th>\n",
       "    </tr>\n",
       "  </thead>\n",
       "  <tbody>\n",
       "    <tr>\n",
       "      <th>0</th>\n",
       "      <td>1</td>\n",
       "      <td>2</td>\n",
       "      <td>3</td>\n",
       "    </tr>\n",
       "    <tr>\n",
       "      <th>1</th>\n",
       "      <td>40</td>\n",
       "      <td>50</td>\n",
       "      <td>60</td>\n",
       "    </tr>\n",
       "    <tr>\n",
       "      <th>2</th>\n",
       "      <td>700</td>\n",
       "      <td>800</td>\n",
       "      <td>900</td>\n",
       "    </tr>\n",
       "  </tbody>\n",
       "</table>\n",
       "</div>"
      ],
      "text/plain": [
       "     0    1    2\n",
       "0    1    2    3\n",
       "1   40   50   60\n",
       "2  700  800  900"
      ]
     },
     "execution_count": 90,
     "metadata": {},
     "output_type": "execute_result"
    }
   ],
   "source": [
    "bir = [1,2,3], [40,50,60], [700,800,900]\n",
    "sutun = [0,1,2]\n",
    "\n",
    "df_1 = pd.DataFrame(bir, columns=sutun)\n",
    "df_1"
   ]
  },
  {
   "cell_type": "markdown",
   "id": "0f4fdf5a",
   "metadata": {},
   "source": [
    "### index Seçeneği\n",
    "İndeks değerlerini **2, 1** ve **0** olacak şekilde sıralamak için <code>axis=\"index\"</code> parametre seçeneğini kullanmalıyız."
   ]
  },
  {
   "cell_type": "code",
   "execution_count": 91,
   "id": "40cf59dc",
   "metadata": {
    "scrolled": true
   },
   "outputs": [
    {
     "data": {
      "text/html": [
       "<div>\n",
       "<style scoped>\n",
       "    .dataframe tbody tr th:only-of-type {\n",
       "        vertical-align: middle;\n",
       "    }\n",
       "\n",
       "    .dataframe tbody tr th {\n",
       "        vertical-align: top;\n",
       "    }\n",
       "\n",
       "    .dataframe thead th {\n",
       "        text-align: right;\n",
       "    }\n",
       "</style>\n",
       "<table border=\"1\" class=\"dataframe\">\n",
       "  <thead>\n",
       "    <tr style=\"text-align: right;\">\n",
       "      <th></th>\n",
       "      <th>0</th>\n",
       "      <th>1</th>\n",
       "      <th>2</th>\n",
       "    </tr>\n",
       "  </thead>\n",
       "  <tbody>\n",
       "    <tr>\n",
       "      <th>2</th>\n",
       "      <td>700</td>\n",
       "      <td>800</td>\n",
       "      <td>900</td>\n",
       "    </tr>\n",
       "    <tr>\n",
       "      <th>1</th>\n",
       "      <td>40</td>\n",
       "      <td>50</td>\n",
       "      <td>60</td>\n",
       "    </tr>\n",
       "    <tr>\n",
       "      <th>0</th>\n",
       "      <td>1</td>\n",
       "      <td>2</td>\n",
       "      <td>3</td>\n",
       "    </tr>\n",
       "  </tbody>\n",
       "</table>\n",
       "</div>"
      ],
      "text/plain": [
       "     0    1    2\n",
       "2  700  800  900\n",
       "1   40   50   60\n",
       "0    1    2    3"
      ]
     },
     "execution_count": 91,
     "metadata": {},
     "output_type": "execute_result"
    }
   ],
   "source": [
    "df_1.reindex([2,1,0], axis=\"index\")"
   ]
  },
  {
   "cell_type": "markdown",
   "id": "d0d8b1c2",
   "metadata": {},
   "source": [
    "### columns Seçeneği\n",
    "İndeks değerlerini **2, 1** ve **0** olacak şekilde sıralamak için <code>axis=\"columns\"</code> parametre seçeneğini kullanmalıyız."
   ]
  },
  {
   "cell_type": "code",
   "execution_count": 92,
   "id": "6ddcfb66",
   "metadata": {},
   "outputs": [
    {
     "data": {
      "text/html": [
       "<div>\n",
       "<style scoped>\n",
       "    .dataframe tbody tr th:only-of-type {\n",
       "        vertical-align: middle;\n",
       "    }\n",
       "\n",
       "    .dataframe tbody tr th {\n",
       "        vertical-align: top;\n",
       "    }\n",
       "\n",
       "    .dataframe thead th {\n",
       "        text-align: right;\n",
       "    }\n",
       "</style>\n",
       "<table border=\"1\" class=\"dataframe\">\n",
       "  <thead>\n",
       "    <tr style=\"text-align: right;\">\n",
       "      <th></th>\n",
       "      <th>2</th>\n",
       "      <th>1</th>\n",
       "      <th>0</th>\n",
       "    </tr>\n",
       "  </thead>\n",
       "  <tbody>\n",
       "    <tr>\n",
       "      <th>0</th>\n",
       "      <td>3</td>\n",
       "      <td>2</td>\n",
       "      <td>1</td>\n",
       "    </tr>\n",
       "    <tr>\n",
       "      <th>1</th>\n",
       "      <td>60</td>\n",
       "      <td>50</td>\n",
       "      <td>40</td>\n",
       "    </tr>\n",
       "    <tr>\n",
       "      <th>2</th>\n",
       "      <td>900</td>\n",
       "      <td>800</td>\n",
       "      <td>700</td>\n",
       "    </tr>\n",
       "  </tbody>\n",
       "</table>\n",
       "</div>"
      ],
      "text/plain": [
       "     2    1    0\n",
       "0    3    2    1\n",
       "1   60   50   40\n",
       "2  900  800  700"
      ]
     },
     "execution_count": 92,
     "metadata": {},
     "output_type": "execute_result"
    }
   ],
   "source": [
    "df_1.reindex([2,1,0], axis=\"columns\")"
   ]
  },
  {
   "cell_type": "markdown",
   "id": "816bfaa1",
   "metadata": {},
   "source": [
    "### Bilgi\n",
    "<code>reindex()</code> fonksiyonunu kullanırken, gerçek eksen etiketlerini (indeksleri) içeren <code>index</code> nesnelerinin, nesneler arasında paylaşılabileceğine dikkat edin!\n",
    "\n",
    "Yani bir Seriniz (Series) ve Veri Çerçeveniz (Data Frame) varsa, bunların indeks değerlerini <code>reindex()</code> fonksiyonunda parametre olarak kullanabilirsiniz."
   ]
  },
  {
   "cell_type": "code",
   "execution_count": 93,
   "id": "91eda868",
   "metadata": {},
   "outputs": [
    {
     "data": {
      "text/html": [
       "<div>\n",
       "<style scoped>\n",
       "    .dataframe tbody tr th:only-of-type {\n",
       "        vertical-align: middle;\n",
       "    }\n",
       "\n",
       "    .dataframe tbody tr th {\n",
       "        vertical-align: top;\n",
       "    }\n",
       "\n",
       "    .dataframe thead th {\n",
       "        text-align: right;\n",
       "    }\n",
       "</style>\n",
       "<table border=\"1\" class=\"dataframe\">\n",
       "  <thead>\n",
       "    <tr style=\"text-align: right;\">\n",
       "      <th></th>\n",
       "      <th>1</th>\n",
       "      <th>2</th>\n",
       "      <th>0</th>\n",
       "    </tr>\n",
       "  </thead>\n",
       "  <tbody>\n",
       "    <tr>\n",
       "      <th>1</th>\n",
       "      <td>a</td>\n",
       "      <td>b</td>\n",
       "      <td>c</td>\n",
       "    </tr>\n",
       "    <tr>\n",
       "      <th>2</th>\n",
       "      <td>aa</td>\n",
       "      <td>bb</td>\n",
       "      <td>cc</td>\n",
       "    </tr>\n",
       "    <tr>\n",
       "      <th>0</th>\n",
       "      <td>aaa</td>\n",
       "      <td>bbb</td>\n",
       "      <td>ccc</td>\n",
       "    </tr>\n",
       "  </tbody>\n",
       "</table>\n",
       "</div>"
      ],
      "text/plain": [
       "     1    2    0\n",
       "1    a    b    c\n",
       "2   aa   bb   cc\n",
       "0  aaa  bbb  ccc"
      ]
     },
     "execution_count": 93,
     "metadata": {},
     "output_type": "execute_result"
    }
   ],
   "source": [
    "iki = [\"a\",\"b\",\"c\"], [\"aa\",\"bb\",\"cc\"], [\"aaa\",\"bbb\",\"ccc\"]\n",
    "sutun = [1,2,0]\n",
    "\n",
    "df_2 = pd.DataFrame(iki, index=sutun, columns=sutun)\n",
    "df_2"
   ]
  },
  {
   "cell_type": "markdown",
   "id": "66b39113",
   "metadata": {},
   "source": [
    "**df_2** veri çerçevesinde index ve Sütun isimleri **1,2,0** olarak atanmış. **df_1** veri çerçevesinde index ve Sütun isimleri ise **0,1,2** olarak atanmış. \n",
    "\n",
    "**df_2**'nin indeks değerlerini (satır etiketini) <code>reindex()</code> fonksiyonu ile değiştirirken, yeni sıralamayı **df_1**'in indeks değerleri ile belirleyelim/eşleştirelim."
   ]
  },
  {
   "cell_type": "code",
   "execution_count": 94,
   "id": "a691a62d",
   "metadata": {
    "scrolled": true
   },
   "outputs": [
    {
     "data": {
      "text/html": [
       "<div>\n",
       "<style scoped>\n",
       "    .dataframe tbody tr th:only-of-type {\n",
       "        vertical-align: middle;\n",
       "    }\n",
       "\n",
       "    .dataframe tbody tr th {\n",
       "        vertical-align: top;\n",
       "    }\n",
       "\n",
       "    .dataframe thead th {\n",
       "        text-align: right;\n",
       "    }\n",
       "</style>\n",
       "<table border=\"1\" class=\"dataframe\">\n",
       "  <thead>\n",
       "    <tr style=\"text-align: right;\">\n",
       "      <th></th>\n",
       "      <th>1</th>\n",
       "      <th>2</th>\n",
       "      <th>0</th>\n",
       "    </tr>\n",
       "  </thead>\n",
       "  <tbody>\n",
       "    <tr>\n",
       "      <th>0</th>\n",
       "      <td>aaa</td>\n",
       "      <td>bbb</td>\n",
       "      <td>ccc</td>\n",
       "    </tr>\n",
       "    <tr>\n",
       "      <th>1</th>\n",
       "      <td>a</td>\n",
       "      <td>b</td>\n",
       "      <td>c</td>\n",
       "    </tr>\n",
       "    <tr>\n",
       "      <th>2</th>\n",
       "      <td>aa</td>\n",
       "      <td>bb</td>\n",
       "      <td>cc</td>\n",
       "    </tr>\n",
       "  </tbody>\n",
       "</table>\n",
       "</div>"
      ],
      "text/plain": [
       "     1    2    0\n",
       "0  aaa  bbb  ccc\n",
       "1    a    b    c\n",
       "2   aa   bb   cc"
      ]
     },
     "execution_count": 94,
     "metadata": {},
     "output_type": "execute_result"
    }
   ],
   "source": [
    "df_2.reindex(df_1.index)"
   ]
  },
  {
   "cell_type": "markdown",
   "id": "d2951512",
   "metadata": {},
   "source": [
    "**df_2**'nin Sütun isimlerini <code>reindex()</code> fonksiyonun <code>columns</code> parametresi ile değiştirirken, yeni sıralamayı **df_1**'in indeks değerleri ile belirleyelim/eşleştirelim."
   ]
  },
  {
   "cell_type": "code",
   "execution_count": 95,
   "id": "f4730cb6",
   "metadata": {},
   "outputs": [
    {
     "data": {
      "text/html": [
       "<div>\n",
       "<style scoped>\n",
       "    .dataframe tbody tr th:only-of-type {\n",
       "        vertical-align: middle;\n",
       "    }\n",
       "\n",
       "    .dataframe tbody tr th {\n",
       "        vertical-align: top;\n",
       "    }\n",
       "\n",
       "    .dataframe thead th {\n",
       "        text-align: right;\n",
       "    }\n",
       "</style>\n",
       "<table border=\"1\" class=\"dataframe\">\n",
       "  <thead>\n",
       "    <tr style=\"text-align: right;\">\n",
       "      <th></th>\n",
       "      <th>0</th>\n",
       "      <th>1</th>\n",
       "      <th>2</th>\n",
       "    </tr>\n",
       "  </thead>\n",
       "  <tbody>\n",
       "    <tr>\n",
       "      <th>1</th>\n",
       "      <td>c</td>\n",
       "      <td>a</td>\n",
       "      <td>b</td>\n",
       "    </tr>\n",
       "    <tr>\n",
       "      <th>2</th>\n",
       "      <td>cc</td>\n",
       "      <td>aa</td>\n",
       "      <td>bb</td>\n",
       "    </tr>\n",
       "    <tr>\n",
       "      <th>0</th>\n",
       "      <td>ccc</td>\n",
       "      <td>aaa</td>\n",
       "      <td>bbb</td>\n",
       "    </tr>\n",
       "  </tbody>\n",
       "</table>\n",
       "</div>"
      ],
      "text/plain": [
       "     0    1    2\n",
       "1    c    a    b\n",
       "2   cc   aa   bb\n",
       "0  ccc  aaa  bbb"
      ]
     },
     "execution_count": 95,
     "metadata": {},
     "output_type": "execute_result"
    }
   ],
   "source": [
    "df_2.reindex(columns=df_1.index)"
   ]
  },
  {
   "cell_type": "markdown",
   "id": "cc049a40",
   "metadata": {},
   "source": [
    "## Karşılaştırma Operatörü Kullanımı\n",
    "\n",
    "## is Operatorü\n",
    "Veri Çerçevelerinin <code>index</code> değerleri , liste veri tipi olarak belirtildiği  için, listeler arasında karşılaştırma operatörlerini kullanmak ta mümkündür.\n",
    "\n",
    "Örneğin <code>df_1.index</code> değerlerinin <code>df_2.index</code> değerlerine eşit olup olmadığını denetleyelim;"
   ]
  },
  {
   "cell_type": "code",
   "execution_count": 96,
   "id": "942948b4",
   "metadata": {},
   "outputs": [
    {
     "data": {
      "text/plain": [
       "False"
      ]
     },
     "execution_count": 96,
     "metadata": {},
     "output_type": "execute_result"
    }
   ],
   "source": [
    "df_1.index is sirala_filtrele.index"
   ]
  },
  {
   "cell_type": "markdown",
   "id": "64b3bcc9",
   "metadata": {},
   "source": [
    "## > Operatörü\n",
    "\n",
    "Python'da kullandığımız **<, >, <=, >=, ==**, ...vb operatörleri, Pandas Veri çerçevelerinde de kullanabiliriz.\n",
    "\n",
    "Örneğin, **df** veri çerçevemizden dilimleme yöntemi ile **sf** isimli bir veri çerçevesi oluşturalım. Ardından **df_1** veri çerçevesinin satır sayısının (<code>len(df_1.index)</code>) **sf** veri çerçevesinin satır sayısından (<code>len(sf.index)</code>) büyük olup olmadığını denetleyelim;"
   ]
  },
  {
   "cell_type": "code",
   "execution_count": 97,
   "id": "4cce7e3a",
   "metadata": {
    "scrolled": true
   },
   "outputs": [
    {
     "data": {
      "text/html": [
       "<div>\n",
       "<style scoped>\n",
       "    .dataframe tbody tr th:only-of-type {\n",
       "        vertical-align: middle;\n",
       "    }\n",
       "\n",
       "    .dataframe tbody tr th {\n",
       "        vertical-align: top;\n",
       "    }\n",
       "\n",
       "    .dataframe thead th {\n",
       "        text-align: right;\n",
       "    }\n",
       "</style>\n",
       "<table border=\"1\" class=\"dataframe\">\n",
       "  <thead>\n",
       "    <tr style=\"text-align: right;\">\n",
       "      <th></th>\n",
       "      <th>Puan</th>\n",
       "      <th>Yıl</th>\n",
       "      <th>Oylayan_Kişi</th>\n",
       "    </tr>\n",
       "    <tr>\n",
       "      <th>Film_Adı</th>\n",
       "      <th></th>\n",
       "      <th></th>\n",
       "      <th></th>\n",
       "    </tr>\n",
       "  </thead>\n",
       "  <tbody>\n",
       "    <tr>\n",
       "      <th>Deli Yürek</th>\n",
       "      <td>NaN</td>\n",
       "      <td>NaN</td>\n",
       "      <td>NaN</td>\n",
       "    </tr>\n",
       "    <tr>\n",
       "      <th>Fight Club</th>\n",
       "      <td>8,8</td>\n",
       "      <td>1999.0</td>\n",
       "      <td>814389.0</td>\n",
       "    </tr>\n",
       "    <tr>\n",
       "      <th>Pulp Fiction</th>\n",
       "      <td>8,9</td>\n",
       "      <td>1994.0</td>\n",
       "      <td>830504.0</td>\n",
       "    </tr>\n",
       "    <tr>\n",
       "      <th>Inception</th>\n",
       "      <td>8,7</td>\n",
       "      <td>2010.0</td>\n",
       "      <td>844938.0</td>\n",
       "    </tr>\n",
       "    <tr>\n",
       "      <th>The Godfather</th>\n",
       "      <td>9,2</td>\n",
       "      <td>1972.0</td>\n",
       "      <td>751381.0</td>\n",
       "    </tr>\n",
       "    <tr>\n",
       "      <th>The Dark Knight</th>\n",
       "      <td>8,9</td>\n",
       "      <td>2008.0</td>\n",
       "      <td>1045186.0</td>\n",
       "    </tr>\n",
       "    <tr>\n",
       "      <th>Seven Samurai</th>\n",
       "      <td>8,7</td>\n",
       "      <td>1954.0</td>\n",
       "      <td>161969.0</td>\n",
       "    </tr>\n",
       "  </tbody>\n",
       "</table>\n",
       "</div>"
      ],
      "text/plain": [
       "                 Puan     Yıl  Oylayan_Kişi\n",
       "Film_Adı                                   \n",
       "Deli Yürek        NaN     NaN           NaN\n",
       "Fight Club        8,8  1999.0      814389.0\n",
       "Pulp Fiction      8,9  1994.0      830504.0\n",
       "Inception         8,7  2010.0      844938.0\n",
       "The Godfather     9,2  1972.0      751381.0\n",
       "The Dark Knight   8,9  2008.0     1045186.0\n",
       "Seven Samurai     8,7  1954.0      161969.0"
      ]
     },
     "execution_count": 97,
     "metadata": {},
     "output_type": "execute_result"
    }
   ],
   "source": [
    "sf = sirala_filtrele.reindex(columns=[\"Puan\", \"Yıl\", \"Oylayan_Kişi\"])\n",
    "sf"
   ]
  },
  {
   "cell_type": "code",
   "execution_count": 98,
   "id": "d19d126b",
   "metadata": {},
   "outputs": [
    {
     "data": {
      "text/plain": [
       "False"
      ]
     },
     "execution_count": 98,
     "metadata": {},
     "output_type": "execute_result"
    }
   ],
   "source": [
    "len(df_1.index) > len(sf.index)"
   ]
  },
  {
   "cell_type": "markdown",
   "id": "34762995",
   "metadata": {},
   "source": [
    "Benzer şekilde KÜÇÜKTÜR (<) operatörünün çıktısını da aşağıda görebilirsiniz;"
   ]
  },
  {
   "cell_type": "code",
   "execution_count": 99,
   "id": "399b28c7",
   "metadata": {},
   "outputs": [
    {
     "data": {
      "text/plain": [
       "True"
      ]
     },
     "execution_count": 99,
     "metadata": {},
     "output_type": "execute_result"
    }
   ],
   "source": [
    "len(df_1.index) < len(sf.index)"
   ]
  }
 ],
 "metadata": {
  "kernelspec": {
   "display_name": "Python 3 (ipykernel)",
   "language": "python",
   "name": "python3"
  },
  "language_info": {
   "codemirror_mode": {
    "name": "ipython",
    "version": 3
   },
   "file_extension": ".py",
   "mimetype": "text/x-python",
   "name": "python",
   "nbconvert_exporter": "python",
   "pygments_lexer": "ipython3",
   "version": "3.10.6"
  }
 },
 "nbformat": 4,
 "nbformat_minor": 5
}
