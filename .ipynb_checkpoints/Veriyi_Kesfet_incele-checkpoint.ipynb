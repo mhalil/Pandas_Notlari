{
 "cells": [
  {
   "cell_type": "markdown",
   "id": "ad61609d",
   "metadata": {},
   "source": [
    "# Veriyi Keşfet / İncele\n",
    "\n",
    "Bu bölümde **Veri Çerçevesi** (**Data Frame**) içeriğini görüntülemeye dair komutları öğreneceğiz.\n",
    "\n",
    "Öncelikle **Pandas** Kütüphanesini içe aktarıp, kodlama esnasında hızlı olması adına bu kütüphaneye **pd** adını atayalım;"
   ]
  },
  {
   "cell_type": "code",
   "execution_count": 1,
   "id": "ac937c9e",
   "metadata": {},
   "outputs": [],
   "source": [
    "import pandas as pd"
   ]
  },
  {
   "cell_type": "markdown",
   "id": "64feb77d",
   "metadata": {},
   "source": [
    "Bu eğitimde, fonksiyon ve metotlar konusunu anlatırken kullanmak üzere, basit bir Veri Çerçevesi (Data Frame) oluşturalım ve oluşturduğumuz Veri Çerçevesinin içeriğini görelim;"
   ]
  },
  {
   "cell_type": "code",
   "execution_count": 44,
   "id": "6fa05541",
   "metadata": {},
   "outputs": [
    {
     "data": {
      "text/html": [
       "<div>\n",
       "<style scoped>\n",
       "    .dataframe tbody tr th:only-of-type {\n",
       "        vertical-align: middle;\n",
       "    }\n",
       "\n",
       "    .dataframe tbody tr th {\n",
       "        vertical-align: top;\n",
       "    }\n",
       "\n",
       "    .dataframe thead th {\n",
       "        text-align: right;\n",
       "    }\n",
       "</style>\n",
       "<table border=\"1\" class=\"dataframe\">\n",
       "  <thead>\n",
       "    <tr style=\"text-align: right;\">\n",
       "      <th></th>\n",
       "      <th>isim</th>\n",
       "      <th>yaş</th>\n",
       "      <th>iş-meslek</th>\n",
       "    </tr>\n",
       "  </thead>\n",
       "  <tbody>\n",
       "    <tr>\n",
       "      <th>0</th>\n",
       "      <td>Mustafa</td>\n",
       "      <td>25</td>\n",
       "      <td>mühendis</td>\n",
       "    </tr>\n",
       "    <tr>\n",
       "      <th>1</th>\n",
       "      <td>Halil</td>\n",
       "      <td>38</td>\n",
       "      <td>programcı</td>\n",
       "    </tr>\n",
       "    <tr>\n",
       "      <th>2</th>\n",
       "      <td>Burak</td>\n",
       "      <td>41</td>\n",
       "      <td>akademisyen</td>\n",
       "    </tr>\n",
       "    <tr>\n",
       "      <th>3</th>\n",
       "      <td>Emre</td>\n",
       "      <td>23</td>\n",
       "      <td>yönetici</td>\n",
       "    </tr>\n",
       "    <tr>\n",
       "      <th>4</th>\n",
       "      <td>Ersin</td>\n",
       "      <td>37</td>\n",
       "      <td>amir</td>\n",
       "    </tr>\n",
       "    <tr>\n",
       "      <th>5</th>\n",
       "      <td>Sertaç</td>\n",
       "      <td>52</td>\n",
       "      <td>mühendis</td>\n",
       "    </tr>\n",
       "    <tr>\n",
       "      <th>6</th>\n",
       "      <td>Furkan</td>\n",
       "      <td>30</td>\n",
       "      <td>yönetici</td>\n",
       "    </tr>\n",
       "    <tr>\n",
       "      <th>7</th>\n",
       "      <td>Murat</td>\n",
       "      <td>23</td>\n",
       "      <td>müdür</td>\n",
       "    </tr>\n",
       "    <tr>\n",
       "      <th>8</th>\n",
       "      <td>Ahmet</td>\n",
       "      <td>40</td>\n",
       "      <td>veteriner</td>\n",
       "    </tr>\n",
       "    <tr>\n",
       "      <th>9</th>\n",
       "      <td>Abdülkadir</td>\n",
       "      <td>38</td>\n",
       "      <td>yönetici</td>\n",
       "    </tr>\n",
       "  </tbody>\n",
       "</table>\n",
       "</div>"
      ],
      "text/plain": [
       "         isim  yaş    iş-meslek\n",
       "0     Mustafa   25     mühendis\n",
       "1       Halil   38    programcı\n",
       "2       Burak   41  akademisyen\n",
       "3        Emre   23     yönetici\n",
       "4       Ersin   37         amir\n",
       "5      Sertaç   52     mühendis\n",
       "6      Furkan   30     yönetici\n",
       "7       Murat   23        müdür\n",
       "8       Ahmet   40    veteriner\n",
       "9  Abdülkadir   38     yönetici"
      ]
     },
     "execution_count": 44,
     "metadata": {},
     "output_type": "execute_result"
    }
   ],
   "source": [
    "sozluk = {\"isim\" : [\"Mustafa\", \"Halil\", \"Burak\", \"Emre\", \"Ersin\", \"Sertaç\", \"Furkan\",\"Murat\",\"Ahmet\",\"Abdülkadir\"],\n",
    "                    \"yaş\" : [25, 38, 41, 23, 37, 52, 30, 23, 40, 38],\n",
    "                   \"iş-meslek\" : [\"mühendis\", \"programcı\", \"akademisyen\", \"yönetici\",\"amir\",\"mühendis\", \"yönetici\",\"müdür\",\"veteriner\",\"yönetici\"]}\n",
    "veri = pd.DataFrame(sozluk)\n",
    "veri"
   ]
  },
  {
   "cell_type": "markdown",
   "id": "b1b3f0ab",
   "metadata": {},
   "source": [
    "\n",
    "# TEMEL FONKSİYONLAR\n",
    "\n",
    "## head() Fonksiyonu\n",
    "\n",
    "Oluşturduğumuz ya da çalışmamıza dahil ettiğimiz (içe aktardığımız) Veri Çerçevelerinin ilk satırlarını görüp, içerik hakkında bilgi edinmek istersek **head()** fonksiyonunu kullanabiliriz. **Head** kelimesi Türkçede **Baş, Kafa** anlamına gelmektedir."
   ]
  },
  {
   "cell_type": "code",
   "execution_count": 45,
   "id": "9d34be21",
   "metadata": {},
   "outputs": [
    {
     "data": {
      "text/html": [
       "<div>\n",
       "<style scoped>\n",
       "    .dataframe tbody tr th:only-of-type {\n",
       "        vertical-align: middle;\n",
       "    }\n",
       "\n",
       "    .dataframe tbody tr th {\n",
       "        vertical-align: top;\n",
       "    }\n",
       "\n",
       "    .dataframe thead th {\n",
       "        text-align: right;\n",
       "    }\n",
       "</style>\n",
       "<table border=\"1\" class=\"dataframe\">\n",
       "  <thead>\n",
       "    <tr style=\"text-align: right;\">\n",
       "      <th></th>\n",
       "      <th>isim</th>\n",
       "      <th>yaş</th>\n",
       "      <th>iş-meslek</th>\n",
       "    </tr>\n",
       "  </thead>\n",
       "  <tbody>\n",
       "    <tr>\n",
       "      <th>0</th>\n",
       "      <td>Mustafa</td>\n",
       "      <td>25</td>\n",
       "      <td>mühendis</td>\n",
       "    </tr>\n",
       "    <tr>\n",
       "      <th>1</th>\n",
       "      <td>Halil</td>\n",
       "      <td>38</td>\n",
       "      <td>programcı</td>\n",
       "    </tr>\n",
       "    <tr>\n",
       "      <th>2</th>\n",
       "      <td>Burak</td>\n",
       "      <td>41</td>\n",
       "      <td>akademisyen</td>\n",
       "    </tr>\n",
       "    <tr>\n",
       "      <th>3</th>\n",
       "      <td>Emre</td>\n",
       "      <td>23</td>\n",
       "      <td>yönetici</td>\n",
       "    </tr>\n",
       "    <tr>\n",
       "      <th>4</th>\n",
       "      <td>Ersin</td>\n",
       "      <td>37</td>\n",
       "      <td>amir</td>\n",
       "    </tr>\n",
       "  </tbody>\n",
       "</table>\n",
       "</div>"
      ],
      "text/plain": [
       "      isim  yaş    iş-meslek\n",
       "0  Mustafa   25     mühendis\n",
       "1    Halil   38    programcı\n",
       "2    Burak   41  akademisyen\n",
       "3     Emre   23     yönetici\n",
       "4    Ersin   37         amir"
      ]
     },
     "execution_count": 45,
     "metadata": {},
     "output_type": "execute_result"
    }
   ],
   "source": [
    "veri.head()"
   ]
  },
  {
   "cell_type": "markdown",
   "id": "e01684a2",
   "metadata": {},
   "source": [
    "**head()** fonksiyonunda parantez içine parametre olarak bir değer yazmazsak, veri çerçevesinin **ilk 5 (satır) değeri** görüntülenir. Değer belirtirsek belirttiğimiz değer kadar satır verisi görüntülenir."
   ]
  },
  {
   "cell_type": "code",
   "execution_count": 46,
   "id": "41673237",
   "metadata": {},
   "outputs": [
    {
     "data": {
      "text/html": [
       "<div>\n",
       "<style scoped>\n",
       "    .dataframe tbody tr th:only-of-type {\n",
       "        vertical-align: middle;\n",
       "    }\n",
       "\n",
       "    .dataframe tbody tr th {\n",
       "        vertical-align: top;\n",
       "    }\n",
       "\n",
       "    .dataframe thead th {\n",
       "        text-align: right;\n",
       "    }\n",
       "</style>\n",
       "<table border=\"1\" class=\"dataframe\">\n",
       "  <thead>\n",
       "    <tr style=\"text-align: right;\">\n",
       "      <th></th>\n",
       "      <th>isim</th>\n",
       "      <th>yaş</th>\n",
       "      <th>iş-meslek</th>\n",
       "    </tr>\n",
       "  </thead>\n",
       "  <tbody>\n",
       "    <tr>\n",
       "      <th>0</th>\n",
       "      <td>Mustafa</td>\n",
       "      <td>25</td>\n",
       "      <td>mühendis</td>\n",
       "    </tr>\n",
       "    <tr>\n",
       "      <th>1</th>\n",
       "      <td>Halil</td>\n",
       "      <td>38</td>\n",
       "      <td>programcı</td>\n",
       "    </tr>\n",
       "    <tr>\n",
       "      <th>2</th>\n",
       "      <td>Burak</td>\n",
       "      <td>41</td>\n",
       "      <td>akademisyen</td>\n",
       "    </tr>\n",
       "  </tbody>\n",
       "</table>\n",
       "</div>"
      ],
      "text/plain": [
       "      isim  yaş    iş-meslek\n",
       "0  Mustafa   25     mühendis\n",
       "1    Halil   38    programcı\n",
       "2    Burak   41  akademisyen"
      ]
     },
     "execution_count": 46,
     "metadata": {},
     "output_type": "execute_result"
    }
   ],
   "source": [
    "veri.head(3)"
   ]
  },
  {
   "cell_type": "markdown",
   "id": "9fb3647b",
   "metadata": {},
   "source": [
    "İndex değerinin 2'de bitmesi sizi şaşırtmasın, pekçok programlama dilindi olduğu gibi Python programlama dilinde de, sayma sayıları sıfırdan başlar. Zaten tabloyu incelerseniz, tabloda 3 kullanıcıya ait (3 satır) veri olduğunu görürsünüz.\n",
    "\n",
    "## tail() Fonksiyonu\n",
    "\n",
    "**head()** fonksiyonuna oldukça benzer bir fonksiyondur. Oluşturduğumuz ya da çalışmamıza dahil ettiğimiz Veri Çerçevelerinin **son satırlarını** görüp içerik hakkında bilgi edinmek istersek **tail()** fonksiyonunu kullanabiliriz. **Tail** kelimesi Türkçede, **kuyruk, son kısım** anlamına gelmektedir."
   ]
  },
  {
   "cell_type": "code",
   "execution_count": 47,
   "id": "5dcc8e6e",
   "metadata": {},
   "outputs": [
    {
     "data": {
      "text/html": [
       "<div>\n",
       "<style scoped>\n",
       "    .dataframe tbody tr th:only-of-type {\n",
       "        vertical-align: middle;\n",
       "    }\n",
       "\n",
       "    .dataframe tbody tr th {\n",
       "        vertical-align: top;\n",
       "    }\n",
       "\n",
       "    .dataframe thead th {\n",
       "        text-align: right;\n",
       "    }\n",
       "</style>\n",
       "<table border=\"1\" class=\"dataframe\">\n",
       "  <thead>\n",
       "    <tr style=\"text-align: right;\">\n",
       "      <th></th>\n",
       "      <th>isim</th>\n",
       "      <th>yaş</th>\n",
       "      <th>iş-meslek</th>\n",
       "    </tr>\n",
       "  </thead>\n",
       "  <tbody>\n",
       "    <tr>\n",
       "      <th>5</th>\n",
       "      <td>Sertaç</td>\n",
       "      <td>52</td>\n",
       "      <td>mühendis</td>\n",
       "    </tr>\n",
       "    <tr>\n",
       "      <th>6</th>\n",
       "      <td>Furkan</td>\n",
       "      <td>30</td>\n",
       "      <td>yönetici</td>\n",
       "    </tr>\n",
       "    <tr>\n",
       "      <th>7</th>\n",
       "      <td>Murat</td>\n",
       "      <td>23</td>\n",
       "      <td>müdür</td>\n",
       "    </tr>\n",
       "    <tr>\n",
       "      <th>8</th>\n",
       "      <td>Ahmet</td>\n",
       "      <td>40</td>\n",
       "      <td>veteriner</td>\n",
       "    </tr>\n",
       "    <tr>\n",
       "      <th>9</th>\n",
       "      <td>Abdülkadir</td>\n",
       "      <td>38</td>\n",
       "      <td>yönetici</td>\n",
       "    </tr>\n",
       "  </tbody>\n",
       "</table>\n",
       "</div>"
      ],
      "text/plain": [
       "         isim  yaş  iş-meslek\n",
       "5      Sertaç   52   mühendis\n",
       "6      Furkan   30   yönetici\n",
       "7       Murat   23      müdür\n",
       "8       Ahmet   40  veteriner\n",
       "9  Abdülkadir   38   yönetici"
      ]
     },
     "execution_count": 47,
     "metadata": {},
     "output_type": "execute_result"
    }
   ],
   "source": [
    "veri.tail()"
   ]
  },
  {
   "cell_type": "markdown",
   "id": "9aa45d85",
   "metadata": {},
   "source": [
    "**tail()** fonksiyonunu içine parametre olarak bir değer yazmazsak, veri çerçevesinin **son 5 (satır) değerini** görüntüler. Değer belirtirsek belirttiğimiz değer kadar satır verisi görüntüler."
   ]
  },
  {
   "cell_type": "code",
   "execution_count": 48,
   "id": "5a698a8f",
   "metadata": {},
   "outputs": [
    {
     "data": {
      "text/html": [
       "<div>\n",
       "<style scoped>\n",
       "    .dataframe tbody tr th:only-of-type {\n",
       "        vertical-align: middle;\n",
       "    }\n",
       "\n",
       "    .dataframe tbody tr th {\n",
       "        vertical-align: top;\n",
       "    }\n",
       "\n",
       "    .dataframe thead th {\n",
       "        text-align: right;\n",
       "    }\n",
       "</style>\n",
       "<table border=\"1\" class=\"dataframe\">\n",
       "  <thead>\n",
       "    <tr style=\"text-align: right;\">\n",
       "      <th></th>\n",
       "      <th>isim</th>\n",
       "      <th>yaş</th>\n",
       "      <th>iş-meslek</th>\n",
       "    </tr>\n",
       "  </thead>\n",
       "  <tbody>\n",
       "    <tr>\n",
       "      <th>3</th>\n",
       "      <td>Emre</td>\n",
       "      <td>23</td>\n",
       "      <td>yönetici</td>\n",
       "    </tr>\n",
       "    <tr>\n",
       "      <th>4</th>\n",
       "      <td>Ersin</td>\n",
       "      <td>37</td>\n",
       "      <td>amir</td>\n",
       "    </tr>\n",
       "    <tr>\n",
       "      <th>5</th>\n",
       "      <td>Sertaç</td>\n",
       "      <td>52</td>\n",
       "      <td>mühendis</td>\n",
       "    </tr>\n",
       "    <tr>\n",
       "      <th>6</th>\n",
       "      <td>Furkan</td>\n",
       "      <td>30</td>\n",
       "      <td>yönetici</td>\n",
       "    </tr>\n",
       "    <tr>\n",
       "      <th>7</th>\n",
       "      <td>Murat</td>\n",
       "      <td>23</td>\n",
       "      <td>müdür</td>\n",
       "    </tr>\n",
       "    <tr>\n",
       "      <th>8</th>\n",
       "      <td>Ahmet</td>\n",
       "      <td>40</td>\n",
       "      <td>veteriner</td>\n",
       "    </tr>\n",
       "    <tr>\n",
       "      <th>9</th>\n",
       "      <td>Abdülkadir</td>\n",
       "      <td>38</td>\n",
       "      <td>yönetici</td>\n",
       "    </tr>\n",
       "  </tbody>\n",
       "</table>\n",
       "</div>"
      ],
      "text/plain": [
       "         isim  yaş  iş-meslek\n",
       "3        Emre   23   yönetici\n",
       "4       Ersin   37       amir\n",
       "5      Sertaç   52   mühendis\n",
       "6      Furkan   30   yönetici\n",
       "7       Murat   23      müdür\n",
       "8       Ahmet   40  veteriner\n",
       "9  Abdülkadir   38   yönetici"
      ]
     },
     "execution_count": 48,
     "metadata": {},
     "output_type": "execute_result"
    }
   ],
   "source": [
    "veri.tail(7)"
   ]
  },
  {
   "cell_type": "markdown",
   "id": "374044a9",
   "metadata": {},
   "source": [
    "## columns Fonksiyonu\n",
    "\n",
    "**columns** fonksiyonu, oluşturulan ya da içe aktarılan Veri Çerçevelerinin başlık satırını çıktı olarak verir / görüntüler. **columns** fonksiyonunu kullanırken sonunda <u>parantez işaretleri kullanmadığımıza</u> dikkat edin.\n",
    "\n",
    "Sütun isimlerini değiştirmek ya da veri çerçevesine filtreleme işlemi uygulamak istediğimiz zaman, bu fonksiyon çok işimize yarar."
   ]
  },
  {
   "cell_type": "code",
   "execution_count": 49,
   "id": "f2e5df0a",
   "metadata": {},
   "outputs": [
    {
     "data": {
      "text/plain": [
       "Index(['isim', 'yaş', 'iş-meslek'], dtype='object')"
      ]
     },
     "execution_count": 49,
     "metadata": {},
     "output_type": "execute_result"
    }
   ],
   "source": [
    "veri.columns"
   ]
  },
  {
   "cell_type": "markdown",
   "id": "4ef17457",
   "metadata": {},
   "source": [
    "## len() Fonksiyonu\n",
    "\n",
    "**len()** foknsiyonu, Veri Çerçevesinin kaç satırdan oluştuğunu bildirir."
   ]
  },
  {
   "cell_type": "code",
   "execution_count": 50,
   "id": "2e0b1376",
   "metadata": {},
   "outputs": [
    {
     "data": {
      "text/plain": [
       "10"
      ]
     },
     "execution_count": 50,
     "metadata": {},
     "output_type": "execute_result"
    }
   ],
   "source": [
    "len(veri)"
   ]
  },
  {
   "cell_type": "markdown",
   "id": "2e0dda02",
   "metadata": {},
   "source": [
    "Çıktıdan anladığımız kadarıyla, **veri** isimli veri çerçevesi, 10 satırlık bir yapıdan oluşuyor.\n",
    "\n",
    "## info() Fonksiyonu\n",
    "\n",
    "**info()** fonksiyonu, Veri Çerçevesinin satır ve sütun sayısı, başlık tipleri (sayı[int, float], metin[object, string], ...vb) ve doluluk oranı (boş olmayan hücre sayısı[non-null]) hakkında bilgi görüntüler."
   ]
  },
  {
   "cell_type": "code",
   "execution_count": 51,
   "id": "fa32a3e2",
   "metadata": {},
   "outputs": [
    {
     "name": "stdout",
     "output_type": "stream",
     "text": [
      "<class 'pandas.core.frame.DataFrame'>\n",
      "RangeIndex: 10 entries, 0 to 9\n",
      "Data columns (total 3 columns):\n",
      " #   Column     Non-Null Count  Dtype \n",
      "---  ------     --------------  ----- \n",
      " 0   isim       10 non-null     object\n",
      " 1   yaş        10 non-null     int64 \n",
      " 2   iş-meslek  10 non-null     object\n",
      "dtypes: int64(1), object(2)\n",
      "memory usage: 368.0+ bytes\n"
     ]
    }
   ],
   "source": [
    "veri.info()"
   ]
  },
  {
   "cell_type": "markdown",
   "id": "dfbc7b92",
   "metadata": {},
   "source": [
    "<u>Çıktıyı incelersek;</u>\n",
    "\n",
    "**class 'pandas.core.frame.DataFrame** : **veri**'nin Pandas sınıfına ait bir DataFrame yapısı olduğunu,\n",
    "\n",
    "**RangeIndex: 10 entries, 0 to 9** : Veri Çerçevesinin 0 ile 9 arasında, toplam 10 satırlık yapı olduğunu,\n",
    "\n",
    "**Data columns (total 3 columns)** : Veri Çerçevesinin 3 sütundan oluştuğunu,\n",
    "\n",
    "**Column** : Sütun isimlerini,\n",
    "\n",
    "**Non-Null Count** : Boş olmayan veri sayısını,\n",
    "\n",
    "**Dtype** : Veri biçimini tanımlar.\n",
    "\n",
    "**int34** ya da int64 **ibaresi**, **tamsayı (integer)** olduğunu, **object** ibaresi, verinin **metin (string)** ifadesi olduğunu,\n",
    "\n",
    "**dtypes: int64(1), object(2)** : Veri Çerçevesinin 1 adet tamsayı (**int64(1)**), 2 adet metinsel (string / **object(2)**) başlık/sütun içerdiğini temsil eder.\n",
    "\n",
    "## dtypes Fonksiyonu\n",
    "\n",
    "**dtypes** fonksiyonu, veri çerçevesinin başlık tiplerini görüntüler. **dtypes** fonksiyonunu kullanırken sonunda <u>parantez işaretleri kullanmadığımıza</u> dikkat edin."
   ]
  },
  {
   "cell_type": "code",
   "execution_count": 52,
   "id": "707716f2",
   "metadata": {},
   "outputs": [
    {
     "data": {
      "text/plain": [
       "isim         object\n",
       "yaş           int64\n",
       "iş-meslek    object\n",
       "dtype: object"
      ]
     },
     "execution_count": 52,
     "metadata": {},
     "output_type": "execute_result"
    }
   ],
   "source": [
    "veri.dtypes"
   ]
  },
  {
   "cell_type": "markdown",
   "id": "3fd7c9da",
   "metadata": {},
   "source": [
    "## describe() Fonksiyonu\n",
    "\n",
    "**describe()** fonksiyonu, sayısal veri barındıran sütunlar hakkında detaylı matematiksel bilgiler verir."
   ]
  },
  {
   "cell_type": "code",
   "execution_count": 53,
   "id": "330f9a48",
   "metadata": {},
   "outputs": [
    {
     "data": {
      "text/html": [
       "<div>\n",
       "<style scoped>\n",
       "    .dataframe tbody tr th:only-of-type {\n",
       "        vertical-align: middle;\n",
       "    }\n",
       "\n",
       "    .dataframe tbody tr th {\n",
       "        vertical-align: top;\n",
       "    }\n",
       "\n",
       "    .dataframe thead th {\n",
       "        text-align: right;\n",
       "    }\n",
       "</style>\n",
       "<table border=\"1\" class=\"dataframe\">\n",
       "  <thead>\n",
       "    <tr style=\"text-align: right;\">\n",
       "      <th></th>\n",
       "      <th>yaş</th>\n",
       "    </tr>\n",
       "  </thead>\n",
       "  <tbody>\n",
       "    <tr>\n",
       "      <th>count</th>\n",
       "      <td>10.000000</td>\n",
       "    </tr>\n",
       "    <tr>\n",
       "      <th>mean</th>\n",
       "      <td>34.700000</td>\n",
       "    </tr>\n",
       "    <tr>\n",
       "      <th>std</th>\n",
       "      <td>9.333929</td>\n",
       "    </tr>\n",
       "    <tr>\n",
       "      <th>min</th>\n",
       "      <td>23.000000</td>\n",
       "    </tr>\n",
       "    <tr>\n",
       "      <th>25%</th>\n",
       "      <td>26.250000</td>\n",
       "    </tr>\n",
       "    <tr>\n",
       "      <th>50%</th>\n",
       "      <td>37.500000</td>\n",
       "    </tr>\n",
       "    <tr>\n",
       "      <th>75%</th>\n",
       "      <td>39.500000</td>\n",
       "    </tr>\n",
       "    <tr>\n",
       "      <th>max</th>\n",
       "      <td>52.000000</td>\n",
       "    </tr>\n",
       "  </tbody>\n",
       "</table>\n",
       "</div>"
      ],
      "text/plain": [
       "             yaş\n",
       "count  10.000000\n",
       "mean   34.700000\n",
       "std     9.333929\n",
       "min    23.000000\n",
       "25%    26.250000\n",
       "50%    37.500000\n",
       "75%    39.500000\n",
       "max    52.000000"
      ]
     },
     "execution_count": 53,
     "metadata": {},
     "output_type": "execute_result"
    }
   ],
   "source": [
    "veri.describe()"
   ]
  },
  {
   "cell_type": "markdown",
   "id": "5878385d",
   "metadata": {},
   "source": [
    "<u>Çıktıyı incelersek;</u>\n",
    "\n",
    "**count :** yaş isimli sütunda kaç adet veri olduğunu,\n",
    "\n",
    "**mean :** yaş isimli sütudaki verilerin ortalamasını,\n",
    "\n",
    "**std :** yaş isimli sütudaki verilerin standart sapmasını,\n",
    "\n",
    "**min:** yaş isimli sütudaki verilerin en küçük değerini\n",
    "\n",
    "**%25 :** yaş isimli sütundaki verilerin medyanın alt çeyreğini (dörttebirliğini),\n",
    "\n",
    "**%50 :** yaş isimli sütundaki verilerin Ortanca medyanını,\n",
    "\n",
    "**%75 :** yaş isimli sütundaki verilerin medyanın üst çeyreğini (dörttebirliğini),\n",
    "\n",
    "**max :** yaş isimli sütudaki verilerin en büyük değerini, tanımlar\n",
    "\n",
    "## shape Metodu\n",
    "\n",
    "Veri Çerçevesinin yapısını yani satır ve sütun bilgisini öğrenmek için shape fonksiyonunu kullanabiliriz."
   ]
  },
  {
   "cell_type": "code",
   "execution_count": 54,
   "id": "ca4ca34b",
   "metadata": {},
   "outputs": [
    {
     "data": {
      "text/plain": [
       "(10, 3)"
      ]
     },
     "execution_count": 54,
     "metadata": {},
     "output_type": "execute_result"
    }
   ],
   "source": [
    "veri.shape"
   ]
  },
  {
   "cell_type": "markdown",
   "id": "d1f74e4b",
   "metadata": {},
   "source": [
    "## index Fonksiyonu\n",
    "**index** fonksiyonu, Veri Çerçevesinin indeks bilgisini döndürür."
   ]
  },
  {
   "cell_type": "code",
   "execution_count": 55,
   "id": "a28f317e",
   "metadata": {},
   "outputs": [
    {
     "data": {
      "text/plain": [
       "RangeIndex(start=0, stop=10, step=1)"
      ]
     },
     "execution_count": 55,
     "metadata": {},
     "output_type": "execute_result"
    }
   ],
   "source": [
    "veri.index"
   ]
  },
  {
   "cell_type": "markdown",
   "id": "5afdbe26",
   "metadata": {},
   "source": [
    "index değerleri otomatik olarak oluşturulduğunda yukarıaki şekilde çıktı verir. Çıktıyı incelersek;\n",
    "\n",
    "* **start=0** : İlk index değerinin 0 olduğu,\n",
    "* **stop=10** : son index değerinin 10 olduğu,\n",
    "* **step=1** : index değerlerinin 1'er 1'er arttığını belirtmektedir.\n",
    "\n",
    "Peki index değeri sayılardan oluşmazsa yani index bilgisi tarafımızca belirtilen Metinsel veriler olursa **index** fonksiyonu nasıl çıktı verir?."
   ]
  },
  {
   "cell_type": "code",
   "execution_count": 56,
   "id": "d77926d8",
   "metadata": {},
   "outputs": [
    {
     "data": {
      "text/html": [
       "<div>\n",
       "<style scoped>\n",
       "    .dataframe tbody tr th:only-of-type {\n",
       "        vertical-align: middle;\n",
       "    }\n",
       "\n",
       "    .dataframe tbody tr th {\n",
       "        vertical-align: top;\n",
       "    }\n",
       "\n",
       "    .dataframe thead th {\n",
       "        text-align: right;\n",
       "    }\n",
       "</style>\n",
       "<table border=\"1\" class=\"dataframe\">\n",
       "  <thead>\n",
       "    <tr style=\"text-align: right;\">\n",
       "      <th></th>\n",
       "      <th>Yıl</th>\n",
       "      <th>Puan</th>\n",
       "      <th>Oylayan_Kişi</th>\n",
       "    </tr>\n",
       "    <tr>\n",
       "      <th>Film_Adı</th>\n",
       "      <th></th>\n",
       "      <th></th>\n",
       "      <th></th>\n",
       "    </tr>\n",
       "  </thead>\n",
       "  <tbody>\n",
       "    <tr>\n",
       "      <th>The Shawshank Redemption</th>\n",
       "      <td>1994</td>\n",
       "      <td>9,2</td>\n",
       "      <td>1071904</td>\n",
       "    </tr>\n",
       "    <tr>\n",
       "      <th>The Godfather</th>\n",
       "      <td>1972</td>\n",
       "      <td>9,2</td>\n",
       "      <td>751381</td>\n",
       "    </tr>\n",
       "    <tr>\n",
       "      <th>The Godfather: Part II</th>\n",
       "      <td>1974</td>\n",
       "      <td>9</td>\n",
       "      <td>488889</td>\n",
       "    </tr>\n",
       "    <tr>\n",
       "      <th>Pulp Fiction</th>\n",
       "      <td>1994</td>\n",
       "      <td>8,9</td>\n",
       "      <td>830504</td>\n",
       "    </tr>\n",
       "    <tr>\n",
       "      <th>The Dark Knight</th>\n",
       "      <td>2008</td>\n",
       "      <td>8,9</td>\n",
       "      <td>1045186</td>\n",
       "    </tr>\n",
       "  </tbody>\n",
       "</table>\n",
       "</div>"
      ],
      "text/plain": [
       "                            Yıl Puan  Oylayan_Kişi\n",
       "Film_Adı                                          \n",
       "The Shawshank Redemption   1994  9,2       1071904\n",
       "The Godfather              1972  9,2        751381\n",
       "The Godfather: Part II     1974    9        488889\n",
       "Pulp Fiction               1994  8,9        830504\n",
       "The Dark Knight            2008  8,9       1045186"
      ]
     },
     "execution_count": 56,
     "metadata": {},
     "output_type": "execute_result"
    }
   ],
   "source": [
    "imdb = pd.read_excel(\"Veri_Setleri/imdb.xlsx\", index_col=\"Film_Adı\")\n",
    "imdb.head()"
   ]
  },
  {
   "cell_type": "code",
   "execution_count": 57,
   "id": "11074f0e",
   "metadata": {},
   "outputs": [
    {
     "data": {
      "text/plain": [
       "Index(['The Shawshank Redemption ', 'The Godfather ',\n",
       "       'The Godfather: Part II ', 'Pulp Fiction', 'The Dark Knight ',\n",
       "       '12 Angry Men ', 'Schindler's List ',\n",
       "       'The Lord of the Rings: The Return of the King ', 'Fight Club ',\n",
       "       'Star Wars: Episode V - The Empire Strikes Back ',\n",
       "       ...\n",
       "       'The Artist ', 'Nausicaä of the Valley of the Wind ',\n",
       "       'Beauty and the Beast ', 'Three Colors: Red ', 'Bringing Up Baby ',\n",
       "       'Mystic River ', 'In the Heat of the Night ', 'Arsenic and Old Lace ',\n",
       "       'Before Sunrise ', 'Papillon '],\n",
       "      dtype='object', name='Film_Adı', length=247)"
      ]
     },
     "execution_count": 57,
     "metadata": {},
     "output_type": "execute_result"
    }
   ],
   "source": [
    "imdb.index"
   ]
  },
  {
   "cell_type": "markdown",
   "id": "b02c0e68",
   "metadata": {},
   "source": [
    "Gördüğünüz gibi, **indeks** bilgisi Metinsel veriler olduğunda, **index** fonksiyonunun çıktısı yukarıda şekilde alınıyor.\n",
    "\n",
    "* **Index(['The Shawshank Redemption ', 'The Godfather ', 'The Godfather: Part II ', ...]** : İndeks bilgilerini,\n",
    "* **type='object'** : İndeks bilgilerinin Object/String yani Metinsel veri olduğunu,\n",
    "* **name='Film_Adı'** : İndeks başlığının \"Film_Adı\" olduğunu,\n",
    "* **length=247** : toplam 247 adet index verisi (satır) olduğunu temsil etmektedir.\n",
    "\n",
    "## isnull() Fonksiyonu\n",
    "Veri çerçevesinde boş, kayıp veri olup olmadığını **isnull()** fonksiyonu ile tespit edebiliriz. Bu fonksiyonu çalıştırdığımızda veri çerçevesinin satır ve sütun başlıkları ekrana yazdırılır ancak veri yerine **True** ya da **False** bilgisi görüntülenir."
   ]
  },
  {
   "cell_type": "code",
   "execution_count": 58,
   "id": "85080b9d",
   "metadata": {},
   "outputs": [
    {
     "data": {
      "text/html": [
       "<div>\n",
       "<style scoped>\n",
       "    .dataframe tbody tr th:only-of-type {\n",
       "        vertical-align: middle;\n",
       "    }\n",
       "\n",
       "    .dataframe tbody tr th {\n",
       "        vertical-align: top;\n",
       "    }\n",
       "\n",
       "    .dataframe thead th {\n",
       "        text-align: right;\n",
       "    }\n",
       "</style>\n",
       "<table border=\"1\" class=\"dataframe\">\n",
       "  <thead>\n",
       "    <tr style=\"text-align: right;\">\n",
       "      <th></th>\n",
       "      <th>isim</th>\n",
       "      <th>yaş</th>\n",
       "      <th>iş-meslek</th>\n",
       "    </tr>\n",
       "  </thead>\n",
       "  <tbody>\n",
       "    <tr>\n",
       "      <th>0</th>\n",
       "      <td>False</td>\n",
       "      <td>False</td>\n",
       "      <td>False</td>\n",
       "    </tr>\n",
       "    <tr>\n",
       "      <th>1</th>\n",
       "      <td>False</td>\n",
       "      <td>False</td>\n",
       "      <td>False</td>\n",
       "    </tr>\n",
       "    <tr>\n",
       "      <th>2</th>\n",
       "      <td>False</td>\n",
       "      <td>False</td>\n",
       "      <td>False</td>\n",
       "    </tr>\n",
       "    <tr>\n",
       "      <th>3</th>\n",
       "      <td>False</td>\n",
       "      <td>False</td>\n",
       "      <td>False</td>\n",
       "    </tr>\n",
       "    <tr>\n",
       "      <th>4</th>\n",
       "      <td>False</td>\n",
       "      <td>False</td>\n",
       "      <td>False</td>\n",
       "    </tr>\n",
       "    <tr>\n",
       "      <th>5</th>\n",
       "      <td>False</td>\n",
       "      <td>False</td>\n",
       "      <td>False</td>\n",
       "    </tr>\n",
       "    <tr>\n",
       "      <th>6</th>\n",
       "      <td>False</td>\n",
       "      <td>False</td>\n",
       "      <td>False</td>\n",
       "    </tr>\n",
       "    <tr>\n",
       "      <th>7</th>\n",
       "      <td>False</td>\n",
       "      <td>False</td>\n",
       "      <td>False</td>\n",
       "    </tr>\n",
       "    <tr>\n",
       "      <th>8</th>\n",
       "      <td>False</td>\n",
       "      <td>False</td>\n",
       "      <td>False</td>\n",
       "    </tr>\n",
       "    <tr>\n",
       "      <th>9</th>\n",
       "      <td>False</td>\n",
       "      <td>False</td>\n",
       "      <td>False</td>\n",
       "    </tr>\n",
       "  </tbody>\n",
       "</table>\n",
       "</div>"
      ],
      "text/plain": [
       "    isim    yaş  iş-meslek\n",
       "0  False  False      False\n",
       "1  False  False      False\n",
       "2  False  False      False\n",
       "3  False  False      False\n",
       "4  False  False      False\n",
       "5  False  False      False\n",
       "6  False  False      False\n",
       "7  False  False      False\n",
       "8  False  False      False\n",
       "9  False  False      False"
      ]
     },
     "execution_count": 58,
     "metadata": {},
     "output_type": "execute_result"
    }
   ],
   "source": [
    "veri.isnull()"
   ]
  },
  {
   "cell_type": "markdown",
   "id": "3da66dec",
   "metadata": {},
   "source": [
    "**isnull()** fonksiyonuna **any()** Fonksiyonunu da eklersek, veri çerçevesi tümüyle görüntülenmez sadece veri çerçevesi başlıkları ve bu başlıklarda (sütunlarda) eksik/kayıp veri bulunup bulunmadığı bilgisi görüntülenir."
   ]
  },
  {
   "cell_type": "code",
   "execution_count": 59,
   "id": "475e81f0",
   "metadata": {},
   "outputs": [
    {
     "data": {
      "text/plain": [
       "isim         False\n",
       "yaş          False\n",
       "iş-meslek    False\n",
       "dtype: bool"
      ]
     },
     "execution_count": 59,
     "metadata": {},
     "output_type": "execute_result"
    }
   ],
   "source": [
    "veri.isnull().any()"
   ]
  },
  {
   "cell_type": "markdown",
   "id": "2ac50cc6",
   "metadata": {},
   "source": [
    "Görüyoruz ki, veri çerçevemizde hiç eksik/kayıp veri bulunmamaktadır. Yukarıdaki sözlük yapısında bazı verileri boş bırakarak yeni bir veri çerçevesi oluşturalım ve  **isnull()**  fonksiyonunu çalıştırıp sonuçları inceleyelim."
   ]
  },
  {
   "cell_type": "code",
   "execution_count": 2,
   "id": "b28bbe04",
   "metadata": {
    "scrolled": true
   },
   "outputs": [
    {
     "data": {
      "text/html": [
       "<div>\n",
       "<style scoped>\n",
       "    .dataframe tbody tr th:only-of-type {\n",
       "        vertical-align: middle;\n",
       "    }\n",
       "\n",
       "    .dataframe tbody tr th {\n",
       "        vertical-align: top;\n",
       "    }\n",
       "\n",
       "    .dataframe thead th {\n",
       "        text-align: right;\n",
       "    }\n",
       "</style>\n",
       "<table border=\"1\" class=\"dataframe\">\n",
       "  <thead>\n",
       "    <tr style=\"text-align: right;\">\n",
       "      <th></th>\n",
       "      <th>isim</th>\n",
       "      <th>yaş</th>\n",
       "      <th>iş-meslek</th>\n",
       "    </tr>\n",
       "  </thead>\n",
       "  <tbody>\n",
       "    <tr>\n",
       "      <th>0</th>\n",
       "      <td>Mustafa</td>\n",
       "      <td>25</td>\n",
       "      <td>mühendis</td>\n",
       "    </tr>\n",
       "    <tr>\n",
       "      <th>1</th>\n",
       "      <td>NaT</td>\n",
       "      <td>38</td>\n",
       "      <td>programcı</td>\n",
       "    </tr>\n",
       "    <tr>\n",
       "      <th>2</th>\n",
       "      <td>Burak</td>\n",
       "      <td>41</td>\n",
       "      <td>akademisyen</td>\n",
       "    </tr>\n",
       "    <tr>\n",
       "      <th>3</th>\n",
       "      <td>Emre</td>\n",
       "      <td>NaT</td>\n",
       "      <td>yönetici</td>\n",
       "    </tr>\n",
       "    <tr>\n",
       "      <th>4</th>\n",
       "      <td>Ersin</td>\n",
       "      <td>37</td>\n",
       "      <td>amir</td>\n",
       "    </tr>\n",
       "    <tr>\n",
       "      <th>5</th>\n",
       "      <td>Sertaç</td>\n",
       "      <td>52</td>\n",
       "      <td>mühendis</td>\n",
       "    </tr>\n",
       "    <tr>\n",
       "      <th>6</th>\n",
       "      <td>Furkan</td>\n",
       "      <td>30</td>\n",
       "      <td>yönetici</td>\n",
       "    </tr>\n",
       "    <tr>\n",
       "      <th>7</th>\n",
       "      <td>Murat</td>\n",
       "      <td>23</td>\n",
       "      <td>müdür</td>\n",
       "    </tr>\n",
       "    <tr>\n",
       "      <th>8</th>\n",
       "      <td>Ahmet</td>\n",
       "      <td>40</td>\n",
       "      <td>veteriner</td>\n",
       "    </tr>\n",
       "    <tr>\n",
       "      <th>9</th>\n",
       "      <td>Abdülkadir</td>\n",
       "      <td>NaT</td>\n",
       "      <td>yönetici</td>\n",
       "    </tr>\n",
       "  </tbody>\n",
       "</table>\n",
       "</div>"
      ],
      "text/plain": [
       "         isim  yaş    iş-meslek\n",
       "0     Mustafa   25     mühendis\n",
       "1         NaT   38    programcı\n",
       "2       Burak   41  akademisyen\n",
       "3        Emre  NaT     yönetici\n",
       "4       Ersin   37         amir\n",
       "5      Sertaç   52     mühendis\n",
       "6      Furkan   30     yönetici\n",
       "7       Murat   23        müdür\n",
       "8       Ahmet   40    veteriner\n",
       "9  Abdülkadir  NaT     yönetici"
      ]
     },
     "execution_count": 2,
     "metadata": {},
     "output_type": "execute_result"
    }
   ],
   "source": [
    "sozluk_2 = {\"isim\" : [\"Mustafa\", pd.NaT, \"Burak\", \"Emre\", \"Ersin\", \"Sertaç\", \"Furkan\",\"Murat\",\"Ahmet\",\"Abdülkadir\"],\n",
    "                    \"yaş\" : [25, 38, 41, pd.NaT, 37, 52, 30, 23, 40,  pd.NaT],\n",
    "                   \"iş-meslek\" : [\"mühendis\", \"programcı\", \"akademisyen\", \"yönetici\",\"amir\",\"mühendis\", \"yönetici\",\"müdür\",\"veteriner\",\"yönetici\"]}\n",
    "veri_2 = pd.DataFrame(sozluk_2)\n",
    "veri_2"
   ]
  },
  {
   "cell_type": "markdown",
   "id": "4495144f",
   "metadata": {},
   "source": [
    "**1** nolu İndeksteki **isim**, **3** nolu ve **9** nolu İndekslerdeki **yaş** bilgilerin boş olduğunu görüyoruz."
   ]
  },
  {
   "cell_type": "code",
   "execution_count": 69,
   "id": "488c8e41",
   "metadata": {
    "scrolled": true
   },
   "outputs": [
    {
     "data": {
      "text/html": [
       "<div>\n",
       "<style scoped>\n",
       "    .dataframe tbody tr th:only-of-type {\n",
       "        vertical-align: middle;\n",
       "    }\n",
       "\n",
       "    .dataframe tbody tr th {\n",
       "        vertical-align: top;\n",
       "    }\n",
       "\n",
       "    .dataframe thead th {\n",
       "        text-align: right;\n",
       "    }\n",
       "</style>\n",
       "<table border=\"1\" class=\"dataframe\">\n",
       "  <thead>\n",
       "    <tr style=\"text-align: right;\">\n",
       "      <th></th>\n",
       "      <th>isim</th>\n",
       "      <th>yaş</th>\n",
       "      <th>iş-meslek</th>\n",
       "    </tr>\n",
       "  </thead>\n",
       "  <tbody>\n",
       "    <tr>\n",
       "      <th>0</th>\n",
       "      <td>False</td>\n",
       "      <td>False</td>\n",
       "      <td>False</td>\n",
       "    </tr>\n",
       "    <tr>\n",
       "      <th>1</th>\n",
       "      <td>True</td>\n",
       "      <td>False</td>\n",
       "      <td>False</td>\n",
       "    </tr>\n",
       "    <tr>\n",
       "      <th>2</th>\n",
       "      <td>False</td>\n",
       "      <td>False</td>\n",
       "      <td>False</td>\n",
       "    </tr>\n",
       "    <tr>\n",
       "      <th>3</th>\n",
       "      <td>False</td>\n",
       "      <td>True</td>\n",
       "      <td>False</td>\n",
       "    </tr>\n",
       "    <tr>\n",
       "      <th>4</th>\n",
       "      <td>False</td>\n",
       "      <td>False</td>\n",
       "      <td>False</td>\n",
       "    </tr>\n",
       "    <tr>\n",
       "      <th>5</th>\n",
       "      <td>False</td>\n",
       "      <td>False</td>\n",
       "      <td>False</td>\n",
       "    </tr>\n",
       "    <tr>\n",
       "      <th>6</th>\n",
       "      <td>False</td>\n",
       "      <td>False</td>\n",
       "      <td>False</td>\n",
       "    </tr>\n",
       "    <tr>\n",
       "      <th>7</th>\n",
       "      <td>False</td>\n",
       "      <td>False</td>\n",
       "      <td>False</td>\n",
       "    </tr>\n",
       "    <tr>\n",
       "      <th>8</th>\n",
       "      <td>False</td>\n",
       "      <td>False</td>\n",
       "      <td>False</td>\n",
       "    </tr>\n",
       "    <tr>\n",
       "      <th>9</th>\n",
       "      <td>False</td>\n",
       "      <td>True</td>\n",
       "      <td>False</td>\n",
       "    </tr>\n",
       "  </tbody>\n",
       "</table>\n",
       "</div>"
      ],
      "text/plain": [
       "    isim    yaş  iş-meslek\n",
       "0  False  False      False\n",
       "1   True  False      False\n",
       "2  False  False      False\n",
       "3  False   True      False\n",
       "4  False  False      False\n",
       "5  False  False      False\n",
       "6  False  False      False\n",
       "7  False  False      False\n",
       "8  False  False      False\n",
       "9  False   True      False"
      ]
     },
     "execution_count": 69,
     "metadata": {},
     "output_type": "execute_result"
    }
   ],
   "source": [
    "veri_2.isnull()"
   ]
  },
  {
   "cell_type": "markdown",
   "id": "9b473c1e",
   "metadata": {},
   "source": [
    "**1** nolu İndeksteki **isim**, **3** nolu ve **9** nolu İndekslerdeki **yaş** bilgileri **eksik** olduğu için bu değerler **True**, diğer hücrelerde ise eksik veri olmadığı için **False** değeri ile gösterilmektedir.\n",
    "\n",
    "Sütun bazlı eksik/kayıp veri olup olmadığını incelersek;"
   ]
  },
  {
   "cell_type": "code",
   "execution_count": 70,
   "id": "4c3cc810",
   "metadata": {},
   "outputs": [
    {
     "data": {
      "text/plain": [
       "isim          True\n",
       "yaş           True\n",
       "iş-meslek    False\n",
       "dtype: bool"
      ]
     },
     "execution_count": 70,
     "metadata": {},
     "output_type": "execute_result"
    }
   ],
   "source": [
    "veri_2.isnull().any()"
   ]
  },
  {
   "cell_type": "markdown",
   "id": "b23cb0cb",
   "metadata": {},
   "source": [
    "Çıktıdan anlıyoruz ki;\n",
    "* **isim** ve **yaş** sütunlarında Eksik veri bulunuyor\n",
    "* **iş-meslek** sütununda hiç eksik veri bulunmuyor."
   ]
  },
  {
   "cell_type": "markdown",
   "id": "5d36be42",
   "metadata": {},
   "source": [
    "## value_counts() Fonksiyonu\n",
    "Veri çerçevemizde bir sütunda aynı verinin kaç kez tekrar ettiğini (kaç adet bulunduğunu) öğrenmek için `value_counts()` fonksiyonunu kullanbiliriz.\n",
    "\n",
    "Örneğin, **veri_2** isimli veri çerçevemizde **iş-meslek** sütununda hangi veri kaç kez tekrar ediliyor, yani veri çerçevemizde kaç adet Mühendis, Programcı, Yönetici,...vb var."
   ]
  },
  {
   "cell_type": "code",
   "execution_count": 3,
   "id": "57e54608",
   "metadata": {},
   "outputs": [
    {
     "data": {
      "text/plain": [
       "yönetici       3\n",
       "mühendis       2\n",
       "programcı      1\n",
       "akademisyen    1\n",
       "amir           1\n",
       "müdür          1\n",
       "veteriner      1\n",
       "Name: iş-meslek, dtype: int64"
      ]
     },
     "execution_count": 3,
     "metadata": {},
     "output_type": "execute_result"
    }
   ],
   "source": [
    "veri_2[\"iş-meslek\"].value_counts()"
   ]
  }
 ],
 "metadata": {
  "kernelspec": {
   "display_name": "Python 3 (ipykernel)",
   "language": "python",
   "name": "python3"
  },
  "language_info": {
   "codemirror_mode": {
    "name": "ipython",
    "version": 3
   },
   "file_extension": ".py",
   "mimetype": "text/x-python",
   "name": "python",
   "nbconvert_exporter": "python",
   "pygments_lexer": "ipython3",
   "version": "3.10.6"
  }
 },
 "nbformat": 4,
 "nbformat_minor": 5
}
