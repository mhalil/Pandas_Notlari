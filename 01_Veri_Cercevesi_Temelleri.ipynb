{
 "cells": [
  {
   "cell_type": "markdown",
   "id": "ad61609d",
   "metadata": {},
   "source": [
    "# Veri Çerçevesi (Data Frame) Temelleri\n",
    "\n",
    "Bu bölümde sıfırdan **Veri Çerçevesi** (**Data Frame**) oluşturmayı ya da harici kaynaktan verileri okuyarak veri çerçevesine dönüştürmeyi öğreneceğiz.\n",
    "\n",
    "## import Fonksiyonu\n",
    "\n",
    "Öncelikle **Pandas** Kütüphanesini çalışmamıza dahil edip (içe aktarıp), kodlama esnasında kolay sağlaması ve hızlı olması adına bu kütüphaneye **pd** adını atayalım;"
   ]
  },
  {
   "cell_type": "code",
   "execution_count": 45,
   "id": "ac937c9e",
   "metadata": {},
   "outputs": [],
   "source": [
    "import pandas as pd"
   ]
  },
  {
   "cell_type": "markdown",
   "id": "64feb77d",
   "metadata": {},
   "source": [
    "## DataFrame() Fonksiyonu\n",
    "\n",
    "Veri Çerçevesi (Data Frame) Oluşturmak/Dönüştürmek için **DataFrame()** fonksiyonunu kullanıyoruz. Veri Çerçevesine dönüştürmek istediğimiz veriyi, parantez içine, parametre olarak yazmalıyız."
   ]
  },
  {
   "cell_type": "code",
   "execution_count": null,
   "id": "1747f89a",
   "metadata": {},
   "outputs": [],
   "source": [
    "pd.DataFrame(dosya veya veri)"
   ]
  },
  {
   "cell_type": "markdown",
   "id": "3b5dea20",
   "metadata": {},
   "source": [
    "örneğin bir sözlük (dict) yapısı oluşturup bu yapıyı **Veri Çerçevesi**ne (**Data Frame**'e) dönüştürelim;"
   ]
  },
  {
   "cell_type": "code",
   "execution_count": 11,
   "id": "6fa05541",
   "metadata": {},
   "outputs": [],
   "source": [
    "sozluk = {\"isim\" : [\"Mustafa\", \"Halil\", \"Burak\", \"Emre\", \"Ersin\", \"Sertaç\", \"Furkan\",\"Murat\",\"Ahmet\",\"Abdülkadir\"],\n",
    "                    \"yaş\" : [25, 38, 41, 23, 37, 52, 30, 23, 40, 38],\n",
    "                   \"iş-meslek\" : [\"mühendis\", \"programcı\", \"akademisyen\", \"yönetici\",\"amir\",\"mühendis\", \"yönetici\",\"müdür\",\"veteriner\",\"yönetici\"]}\n",
    "veri = pd.DataFrame(sozluk)"
   ]
  },
  {
   "cell_type": "markdown",
   "id": "b918dbbe",
   "metadata": {},
   "source": [
    "Oluşturduğumuz Veri Çerçevesinin içeriğini görelim;"
   ]
  },
  {
   "cell_type": "code",
   "execution_count": 12,
   "id": "2620c919",
   "metadata": {},
   "outputs": [
    {
     "data": {
      "text/html": [
       "<div>\n",
       "<style scoped>\n",
       "    .dataframe tbody tr th:only-of-type {\n",
       "        vertical-align: middle;\n",
       "    }\n",
       "\n",
       "    .dataframe tbody tr th {\n",
       "        vertical-align: top;\n",
       "    }\n",
       "\n",
       "    .dataframe thead th {\n",
       "        text-align: right;\n",
       "    }\n",
       "</style>\n",
       "<table border=\"1\" class=\"dataframe\">\n",
       "  <thead>\n",
       "    <tr style=\"text-align: right;\">\n",
       "      <th></th>\n",
       "      <th>isim</th>\n",
       "      <th>yaş</th>\n",
       "      <th>iş-meslek</th>\n",
       "    </tr>\n",
       "  </thead>\n",
       "  <tbody>\n",
       "    <tr>\n",
       "      <th>0</th>\n",
       "      <td>Mustafa</td>\n",
       "      <td>25</td>\n",
       "      <td>mühendis</td>\n",
       "    </tr>\n",
       "    <tr>\n",
       "      <th>1</th>\n",
       "      <td>Halil</td>\n",
       "      <td>38</td>\n",
       "      <td>programcı</td>\n",
       "    </tr>\n",
       "    <tr>\n",
       "      <th>2</th>\n",
       "      <td>Burak</td>\n",
       "      <td>41</td>\n",
       "      <td>akademisyen</td>\n",
       "    </tr>\n",
       "    <tr>\n",
       "      <th>3</th>\n",
       "      <td>Emre</td>\n",
       "      <td>23</td>\n",
       "      <td>yönetici</td>\n",
       "    </tr>\n",
       "    <tr>\n",
       "      <th>4</th>\n",
       "      <td>Ersin</td>\n",
       "      <td>37</td>\n",
       "      <td>amir</td>\n",
       "    </tr>\n",
       "    <tr>\n",
       "      <th>5</th>\n",
       "      <td>Sertaç</td>\n",
       "      <td>52</td>\n",
       "      <td>mühendis</td>\n",
       "    </tr>\n",
       "    <tr>\n",
       "      <th>6</th>\n",
       "      <td>Furkan</td>\n",
       "      <td>30</td>\n",
       "      <td>yönetici</td>\n",
       "    </tr>\n",
       "    <tr>\n",
       "      <th>7</th>\n",
       "      <td>Murat</td>\n",
       "      <td>23</td>\n",
       "      <td>müdür</td>\n",
       "    </tr>\n",
       "    <tr>\n",
       "      <th>8</th>\n",
       "      <td>Ahmet</td>\n",
       "      <td>40</td>\n",
       "      <td>veteriner</td>\n",
       "    </tr>\n",
       "    <tr>\n",
       "      <th>9</th>\n",
       "      <td>Abdülkadir</td>\n",
       "      <td>38</td>\n",
       "      <td>yönetici</td>\n",
       "    </tr>\n",
       "  </tbody>\n",
       "</table>\n",
       "</div>"
      ],
      "text/plain": [
       "         isim  yaş    iş-meslek\n",
       "0     Mustafa   25     mühendis\n",
       "1       Halil   38    programcı\n",
       "2       Burak   41  akademisyen\n",
       "3        Emre   23     yönetici\n",
       "4       Ersin   37         amir\n",
       "5      Sertaç   52     mühendis\n",
       "6      Furkan   30     yönetici\n",
       "7       Murat   23        müdür\n",
       "8       Ahmet   40    veteriner\n",
       "9  Abdülkadir   38     yönetici"
      ]
     },
     "execution_count": 12,
     "metadata": {},
     "output_type": "execute_result"
    }
   ],
   "source": [
    "veri"
   ]
  },
  {
   "cell_type": "markdown",
   "id": "b1b3f0ab",
   "metadata": {},
   "source": [
    "Gördüğünüz gibi verimiz, **DataFrame()** fonksiyonu ile, SQL ya da Excel tablosuna benzer şekilde satır ve sütunlardan oluşan yapıya dönüştürüldü. artık bu yapıyı yönetmek ve analiz etmek oldukça kolaylaştı.\n",
    "\n",
    "# TEMEL FONKSİYONLAR\n",
    "\n",
    "## Veriyi Keşfet\n",
    "## head() Fonksiyonu\n",
    "\n",
    "Oluşturduğumuz ya da çalışmamıza dahil ettiğimiz (içe aktardığımız) Veri Çerçevelerinin ilk satırlarını görüp, içerik hakkında bilgi edinmek istersek **head()** fonksiyonunu kullanabiliriz. **Head** kelimesi Türkçede **Baş, Kafa** anlamına gelmektedir."
   ]
  },
  {
   "cell_type": "code",
   "execution_count": 6,
   "id": "9d34be21",
   "metadata": {},
   "outputs": [
    {
     "data": {
      "text/html": [
       "<div>\n",
       "<style scoped>\n",
       "    .dataframe tbody tr th:only-of-type {\n",
       "        vertical-align: middle;\n",
       "    }\n",
       "\n",
       "    .dataframe tbody tr th {\n",
       "        vertical-align: top;\n",
       "    }\n",
       "\n",
       "    .dataframe thead th {\n",
       "        text-align: right;\n",
       "    }\n",
       "</style>\n",
       "<table border=\"1\" class=\"dataframe\">\n",
       "  <thead>\n",
       "    <tr style=\"text-align: right;\">\n",
       "      <th></th>\n",
       "      <th>isim</th>\n",
       "      <th>yaş</th>\n",
       "      <th>iş-meslek</th>\n",
       "    </tr>\n",
       "  </thead>\n",
       "  <tbody>\n",
       "    <tr>\n",
       "      <th>0</th>\n",
       "      <td>Mustafa</td>\n",
       "      <td>25</td>\n",
       "      <td>mühendis</td>\n",
       "    </tr>\n",
       "    <tr>\n",
       "      <th>1</th>\n",
       "      <td>Halil</td>\n",
       "      <td>38</td>\n",
       "      <td>programcı</td>\n",
       "    </tr>\n",
       "    <tr>\n",
       "      <th>2</th>\n",
       "      <td>Burak</td>\n",
       "      <td>41</td>\n",
       "      <td>akademisyen</td>\n",
       "    </tr>\n",
       "    <tr>\n",
       "      <th>3</th>\n",
       "      <td>Emre</td>\n",
       "      <td>23</td>\n",
       "      <td>yönetici</td>\n",
       "    </tr>\n",
       "    <tr>\n",
       "      <th>4</th>\n",
       "      <td>Ersin</td>\n",
       "      <td>37</td>\n",
       "      <td>amir</td>\n",
       "    </tr>\n",
       "  </tbody>\n",
       "</table>\n",
       "</div>"
      ],
      "text/plain": [
       "      isim  yaş    iş-meslek\n",
       "0  Mustafa   25     mühendis\n",
       "1    Halil   38    programcı\n",
       "2    Burak   41  akademisyen\n",
       "3     Emre   23     yönetici\n",
       "4    Ersin   37         amir"
      ]
     },
     "execution_count": 6,
     "metadata": {},
     "output_type": "execute_result"
    }
   ],
   "source": [
    "veri.head()"
   ]
  },
  {
   "cell_type": "markdown",
   "id": "e01684a2",
   "metadata": {},
   "source": [
    "**head()** fonksiyonunda parantez içine parametre olarak bir değer yazmazsak, veri çerçevesinin **ilk 5 değeri** görüntülenir. Değer belirtirsek belirttiğimiz değer kadar veri görüntülenir."
   ]
  },
  {
   "cell_type": "code",
   "execution_count": 7,
   "id": "41673237",
   "metadata": {},
   "outputs": [
    {
     "data": {
      "text/html": [
       "<div>\n",
       "<style scoped>\n",
       "    .dataframe tbody tr th:only-of-type {\n",
       "        vertical-align: middle;\n",
       "    }\n",
       "\n",
       "    .dataframe tbody tr th {\n",
       "        vertical-align: top;\n",
       "    }\n",
       "\n",
       "    .dataframe thead th {\n",
       "        text-align: right;\n",
       "    }\n",
       "</style>\n",
       "<table border=\"1\" class=\"dataframe\">\n",
       "  <thead>\n",
       "    <tr style=\"text-align: right;\">\n",
       "      <th></th>\n",
       "      <th>isim</th>\n",
       "      <th>yaş</th>\n",
       "      <th>iş-meslek</th>\n",
       "    </tr>\n",
       "  </thead>\n",
       "  <tbody>\n",
       "    <tr>\n",
       "      <th>0</th>\n",
       "      <td>Mustafa</td>\n",
       "      <td>25</td>\n",
       "      <td>mühendis</td>\n",
       "    </tr>\n",
       "    <tr>\n",
       "      <th>1</th>\n",
       "      <td>Halil</td>\n",
       "      <td>38</td>\n",
       "      <td>programcı</td>\n",
       "    </tr>\n",
       "    <tr>\n",
       "      <th>2</th>\n",
       "      <td>Burak</td>\n",
       "      <td>41</td>\n",
       "      <td>akademisyen</td>\n",
       "    </tr>\n",
       "  </tbody>\n",
       "</table>\n",
       "</div>"
      ],
      "text/plain": [
       "      isim  yaş    iş-meslek\n",
       "0  Mustafa   25     mühendis\n",
       "1    Halil   38    programcı\n",
       "2    Burak   41  akademisyen"
      ]
     },
     "execution_count": 7,
     "metadata": {},
     "output_type": "execute_result"
    }
   ],
   "source": [
    "veri.head(3)"
   ]
  },
  {
   "cell_type": "markdown",
   "id": "9fb3647b",
   "metadata": {},
   "source": [
    "İndex değerinin 2'de bitmesi sizi şaşırtmasın, pekçok programlama dilindi olduğu gibi Python programlama dilinde de, sayma sayıları sıfırdan başlar. Zaten tabloyu incelerseniz, tabloda 3 kullanıcıya ait veri olduğunu görürsünüz.\n",
    "\n",
    "## tail() Fonksiyonu\n",
    "\n",
    "**head()** fonksiyonuna oldukça benzer bir fonksiyondur. Oluşturduğumuz ya da çalışmamıza dahil ettiğimiz Veri Çerçevelerinin **son satırlarını** görüp içerik hakkında bilgi edinmek istersek **tail()** fonksiyonunu kullanabiliriz. **Tail** kelimesi Türkçede, **kuyruk, son kısım** anlamına gelmektedir."
   ]
  },
  {
   "cell_type": "code",
   "execution_count": 8,
   "id": "5dcc8e6e",
   "metadata": {},
   "outputs": [
    {
     "data": {
      "text/html": [
       "<div>\n",
       "<style scoped>\n",
       "    .dataframe tbody tr th:only-of-type {\n",
       "        vertical-align: middle;\n",
       "    }\n",
       "\n",
       "    .dataframe tbody tr th {\n",
       "        vertical-align: top;\n",
       "    }\n",
       "\n",
       "    .dataframe thead th {\n",
       "        text-align: right;\n",
       "    }\n",
       "</style>\n",
       "<table border=\"1\" class=\"dataframe\">\n",
       "  <thead>\n",
       "    <tr style=\"text-align: right;\">\n",
       "      <th></th>\n",
       "      <th>isim</th>\n",
       "      <th>yaş</th>\n",
       "      <th>iş-meslek</th>\n",
       "    </tr>\n",
       "  </thead>\n",
       "  <tbody>\n",
       "    <tr>\n",
       "      <th>5</th>\n",
       "      <td>Sertaç</td>\n",
       "      <td>52</td>\n",
       "      <td>mühendis</td>\n",
       "    </tr>\n",
       "    <tr>\n",
       "      <th>6</th>\n",
       "      <td>Furkan</td>\n",
       "      <td>30</td>\n",
       "      <td>yönetici</td>\n",
       "    </tr>\n",
       "    <tr>\n",
       "      <th>7</th>\n",
       "      <td>Murat</td>\n",
       "      <td>23</td>\n",
       "      <td>müdür</td>\n",
       "    </tr>\n",
       "    <tr>\n",
       "      <th>8</th>\n",
       "      <td>Ahmet</td>\n",
       "      <td>40</td>\n",
       "      <td>veteriner</td>\n",
       "    </tr>\n",
       "    <tr>\n",
       "      <th>9</th>\n",
       "      <td>Abdülkadir</td>\n",
       "      <td>38</td>\n",
       "      <td>yönetici</td>\n",
       "    </tr>\n",
       "  </tbody>\n",
       "</table>\n",
       "</div>"
      ],
      "text/plain": [
       "         isim  yaş  iş-meslek\n",
       "5      Sertaç   52   mühendis\n",
       "6      Furkan   30   yönetici\n",
       "7       Murat   23      müdür\n",
       "8       Ahmet   40  veteriner\n",
       "9  Abdülkadir   38   yönetici"
      ]
     },
     "execution_count": 8,
     "metadata": {},
     "output_type": "execute_result"
    }
   ],
   "source": [
    "veri.tail()"
   ]
  },
  {
   "cell_type": "markdown",
   "id": "9aa45d85",
   "metadata": {},
   "source": [
    "**tail()** fonksiyonunu içine parametre olarak bir değer yazmazsak, veri çerçevesinin **son 5 değerini** görüntüler. Değer belirtirsek belirttiğimiz değer kadar veri görüntüler."
   ]
  },
  {
   "cell_type": "code",
   "execution_count": 10,
   "id": "5a698a8f",
   "metadata": {},
   "outputs": [
    {
     "data": {
      "text/html": [
       "<div>\n",
       "<style scoped>\n",
       "    .dataframe tbody tr th:only-of-type {\n",
       "        vertical-align: middle;\n",
       "    }\n",
       "\n",
       "    .dataframe tbody tr th {\n",
       "        vertical-align: top;\n",
       "    }\n",
       "\n",
       "    .dataframe thead th {\n",
       "        text-align: right;\n",
       "    }\n",
       "</style>\n",
       "<table border=\"1\" class=\"dataframe\">\n",
       "  <thead>\n",
       "    <tr style=\"text-align: right;\">\n",
       "      <th></th>\n",
       "      <th>isim</th>\n",
       "      <th>yaş</th>\n",
       "      <th>iş-meslek</th>\n",
       "    </tr>\n",
       "  </thead>\n",
       "  <tbody>\n",
       "    <tr>\n",
       "      <th>3</th>\n",
       "      <td>Emre</td>\n",
       "      <td>23</td>\n",
       "      <td>yönetici</td>\n",
       "    </tr>\n",
       "    <tr>\n",
       "      <th>4</th>\n",
       "      <td>Ersin</td>\n",
       "      <td>37</td>\n",
       "      <td>amir</td>\n",
       "    </tr>\n",
       "    <tr>\n",
       "      <th>5</th>\n",
       "      <td>Sertaç</td>\n",
       "      <td>52</td>\n",
       "      <td>mühendis</td>\n",
       "    </tr>\n",
       "    <tr>\n",
       "      <th>6</th>\n",
       "      <td>Furkan</td>\n",
       "      <td>30</td>\n",
       "      <td>yönetici</td>\n",
       "    </tr>\n",
       "    <tr>\n",
       "      <th>7</th>\n",
       "      <td>Murat</td>\n",
       "      <td>23</td>\n",
       "      <td>müdür</td>\n",
       "    </tr>\n",
       "    <tr>\n",
       "      <th>8</th>\n",
       "      <td>Ahmet</td>\n",
       "      <td>40</td>\n",
       "      <td>veteriner</td>\n",
       "    </tr>\n",
       "    <tr>\n",
       "      <th>9</th>\n",
       "      <td>Abdülkadir</td>\n",
       "      <td>38</td>\n",
       "      <td>yönetici</td>\n",
       "    </tr>\n",
       "  </tbody>\n",
       "</table>\n",
       "</div>"
      ],
      "text/plain": [
       "         isim  yaş  iş-meslek\n",
       "3        Emre   23   yönetici\n",
       "4       Ersin   37       amir\n",
       "5      Sertaç   52   mühendis\n",
       "6      Furkan   30   yönetici\n",
       "7       Murat   23      müdür\n",
       "8       Ahmet   40  veteriner\n",
       "9  Abdülkadir   38   yönetici"
      ]
     },
     "execution_count": 10,
     "metadata": {},
     "output_type": "execute_result"
    }
   ],
   "source": [
    "veri.tail(7)"
   ]
  },
  {
   "cell_type": "markdown",
   "id": "374044a9",
   "metadata": {},
   "source": [
    "## columns Fonksiyonu\n",
    "\n",
    "**columns** fonksiyonu, oluşturulan ya da içe aktarılan Veri Çerçevelerinin başlık satırını çıktı olarak verir / görüntüler. **columns** fonksiyonunu kullanırken sonunda <u>parantez işaretleri kullanmadığımıza</u> dikkat edin.\n",
    "\n",
    "Sütun isimlerini değiştirmek ya da veri çerçevesine filtreleme işlemi uygulamak istediğimiz zaman, bu fonksiyon çok işimize yarar."
   ]
  },
  {
   "cell_type": "code",
   "execution_count": 11,
   "id": "f2e5df0a",
   "metadata": {},
   "outputs": [
    {
     "data": {
      "text/plain": [
       "Index(['isim', 'yaş', 'iş-meslek'], dtype='object')"
      ]
     },
     "execution_count": 11,
     "metadata": {},
     "output_type": "execute_result"
    }
   ],
   "source": [
    "veri.columns"
   ]
  },
  {
   "cell_type": "markdown",
   "id": "4ef17457",
   "metadata": {},
   "source": [
    "## len() Fonksiyonu\n",
    "\n",
    "**len()** foknsiyonu, Veri Çerçevesinin kaç satırdan oluştuğunu bildirir."
   ]
  },
  {
   "cell_type": "code",
   "execution_count": 12,
   "id": "2e0b1376",
   "metadata": {},
   "outputs": [
    {
     "data": {
      "text/plain": [
       "10"
      ]
     },
     "execution_count": 12,
     "metadata": {},
     "output_type": "execute_result"
    }
   ],
   "source": [
    "len(veri)"
   ]
  },
  {
   "cell_type": "markdown",
   "id": "2e0dda02",
   "metadata": {},
   "source": [
    "Çıktıdan anladığımız kadarıyla, **veri** isimli veri çerçevesi, 10 satırlık bir yapıdan oluşuyor.\n",
    "\n",
    "## info() Fonksiyonu\n",
    "\n",
    "**info()** fonksiyonu, Veri Çerçevesinin satır ve sütun sayısı, başlık tipleri (sayı, metin, ...vb) ve doluluk oranı (boş olmayan hücre sayısı) hakkında bilgi görüntüler."
   ]
  },
  {
   "cell_type": "code",
   "execution_count": 13,
   "id": "fa32a3e2",
   "metadata": {},
   "outputs": [
    {
     "name": "stdout",
     "output_type": "stream",
     "text": [
      "<class 'pandas.core.frame.DataFrame'>\n",
      "RangeIndex: 10 entries, 0 to 9\n",
      "Data columns (total 3 columns):\n",
      " #   Column     Non-Null Count  Dtype \n",
      "---  ------     --------------  ----- \n",
      " 0   isim       10 non-null     object\n",
      " 1   yaş        10 non-null     int64 \n",
      " 2   iş-meslek  10 non-null     object\n",
      "dtypes: int64(1), object(2)\n",
      "memory usage: 368.0+ bytes\n"
     ]
    }
   ],
   "source": [
    "veri.info()"
   ]
  },
  {
   "cell_type": "markdown",
   "id": "dfbc7b92",
   "metadata": {},
   "source": [
    "<u>Çıktıyı incelersek;</u>\n",
    "\n",
    "**class 'pandas.core.frame.DataFrame** : **veri**'nin Pandas sınıfına ait bir DataFrame yapısı olduğunu,\n",
    "\n",
    "**RangeIndex: 10 entries, 0 to 9** : Veri Çerçevesinin 0 ile 9 arasında, toplam 10 satırlık yapı olduğunu,\n",
    "\n",
    "**Data columns (total 3 columns)** : Veri Çerçevesinin 3 sütundan oluştuğunu,\n",
    "\n",
    "**Column** : Sütun isimlerini,\n",
    "\n",
    "**Non-Null Count** : Boş olmayan veri sayısını,\n",
    "\n",
    "**Dtype** : Veri biçimini tanımlar.\n",
    "\n",
    "**int34** ya da int64 **ibaresi**, **tamsayı (integer)** olduğunu, **object** ibaresi, verinin **metin (string)** ifadesi olduğunu,\n",
    "\n",
    "**dtypes: int64(1), object(2)** : Veri Çerçevesinin 1 adet tamsayı (**int64(1)**), 2 adet metinsel (string / **object(2)**) başlık/sütun içerdiğini temsil eder.\n",
    "\n",
    "## dtypes Fonksiyonu\n",
    "\n",
    "**dtypes** fonksiyonu, veri çerçevesinin başlık tiplerini görüntüler. **dtypes** fonksiyonunu kullanırken sonunda <u>parantez işaretleri kullanmadığımıza</u> dikkat edin."
   ]
  },
  {
   "cell_type": "code",
   "execution_count": 14,
   "id": "707716f2",
   "metadata": {},
   "outputs": [
    {
     "data": {
      "text/plain": [
       "isim         object\n",
       "yaş           int64\n",
       "iş-meslek    object\n",
       "dtype: object"
      ]
     },
     "execution_count": 14,
     "metadata": {},
     "output_type": "execute_result"
    }
   ],
   "source": [
    "veri.dtypes"
   ]
  },
  {
   "cell_type": "markdown",
   "id": "3fd7c9da",
   "metadata": {},
   "source": [
    "## describe() Fonksiyonu\n",
    "\n",
    "**describe()** fonksiyonu, sayısal veri barındıran sütunlar hakkında detaylı matematiksel bilgiler verir."
   ]
  },
  {
   "cell_type": "code",
   "execution_count": 15,
   "id": "330f9a48",
   "metadata": {},
   "outputs": [
    {
     "data": {
      "text/html": [
       "<div>\n",
       "<style scoped>\n",
       "    .dataframe tbody tr th:only-of-type {\n",
       "        vertical-align: middle;\n",
       "    }\n",
       "\n",
       "    .dataframe tbody tr th {\n",
       "        vertical-align: top;\n",
       "    }\n",
       "\n",
       "    .dataframe thead th {\n",
       "        text-align: right;\n",
       "    }\n",
       "</style>\n",
       "<table border=\"1\" class=\"dataframe\">\n",
       "  <thead>\n",
       "    <tr style=\"text-align: right;\">\n",
       "      <th></th>\n",
       "      <th>yaş</th>\n",
       "    </tr>\n",
       "  </thead>\n",
       "  <tbody>\n",
       "    <tr>\n",
       "      <th>count</th>\n",
       "      <td>10.000000</td>\n",
       "    </tr>\n",
       "    <tr>\n",
       "      <th>mean</th>\n",
       "      <td>34.700000</td>\n",
       "    </tr>\n",
       "    <tr>\n",
       "      <th>std</th>\n",
       "      <td>9.333929</td>\n",
       "    </tr>\n",
       "    <tr>\n",
       "      <th>min</th>\n",
       "      <td>23.000000</td>\n",
       "    </tr>\n",
       "    <tr>\n",
       "      <th>25%</th>\n",
       "      <td>26.250000</td>\n",
       "    </tr>\n",
       "    <tr>\n",
       "      <th>50%</th>\n",
       "      <td>37.500000</td>\n",
       "    </tr>\n",
       "    <tr>\n",
       "      <th>75%</th>\n",
       "      <td>39.500000</td>\n",
       "    </tr>\n",
       "    <tr>\n",
       "      <th>max</th>\n",
       "      <td>52.000000</td>\n",
       "    </tr>\n",
       "  </tbody>\n",
       "</table>\n",
       "</div>"
      ],
      "text/plain": [
       "             yaş\n",
       "count  10.000000\n",
       "mean   34.700000\n",
       "std     9.333929\n",
       "min    23.000000\n",
       "25%    26.250000\n",
       "50%    37.500000\n",
       "75%    39.500000\n",
       "max    52.000000"
      ]
     },
     "execution_count": 15,
     "metadata": {},
     "output_type": "execute_result"
    }
   ],
   "source": [
    "veri.describe()"
   ]
  },
  {
   "cell_type": "markdown",
   "id": "5878385d",
   "metadata": {},
   "source": [
    "<u>Çıktıyı incelersek;</u>\n",
    "\n",
    "**count :** yaş isimli sütunda kaç adet veri olduğunu,\n",
    "\n",
    "**mean :** yaş isimli sütudaki verilerin ortalamasını,\n",
    "\n",
    "**std :** yaş isimli sütudaki verilerin standart sapmasını,\n",
    "\n",
    "**min:** yaş isimli sütudaki verilerin en küçük değerini\n",
    "\n",
    "**%25 :** yaş isimli sütundaki verilerin medyanın alt çeyreğini (dörttebirliğini),\n",
    "\n",
    "**%50 :** yaş isimli sütundaki verilerin Ortanca medyanını,\n",
    "\n",
    "**%75 :** yaş isimli sütundaki verilerin medyanın üst çeyreğini (dörttebirliğini),\n",
    "\n",
    "**max :** yaş isimli sütudaki verilerin en büyük değerini, tanımlar\n",
    "\n",
    "## shape Metodu\n",
    "\n",
    "Veri Çerçevesinin yapısını yani satır ve sütun bilgisini öğrenmek için shape metodunu kullanabiliriz."
   ]
  },
  {
   "cell_type": "code",
   "execution_count": 16,
   "id": "ca4ca34b",
   "metadata": {},
   "outputs": [
    {
     "data": {
      "text/plain": [
       "(10, 3)"
      ]
     },
     "execution_count": 16,
     "metadata": {},
     "output_type": "execute_result"
    }
   ],
   "source": [
    "veri.shape"
   ]
  },
  {
   "cell_type": "markdown",
   "id": "2e11446b",
   "metadata": {},
   "source": [
    "Çıktıdan anladığımıza göre veri isimli veri çerçevesi, 10 satır ve 3 sütundan oluşan bir yapıdır.\n",
    "\n",
    "# SEÇİM YÖNTEMLERİ (Fonksiyonları, Metotları)\n",
    "\n",
    "# Satır ve Sütun Seçimi\n",
    "\n",
    "## iloc[] Metodu\n",
    "\n",
    "Veri Çerçevesindeki istenilen satır ve sütunu seçmek/görüntülemek için **iloc[]** metodu kullanılır. **iloc[]** kelimesini unutmamak için **İndex Location** yani, **Konumun İndeks Değeri** gibi düşünebilir, hafızanızda kodlayabilirsiniz.\n",
    "Esas olarak **iloc[]** metodu, hem satır hem de sütun numarası alarak çalışır.\n",
    "\n",
    "Veri_Cercevesi_Adı.iloc[Satir_Numarası, Sütun_Numarası]"
   ]
  },
  {
   "cell_type": "code",
   "execution_count": 19,
   "id": "6acdc103",
   "metadata": {},
   "outputs": [
    {
     "data": {
      "text/plain": [
       "'veteriner'"
      ]
     },
     "execution_count": 19,
     "metadata": {},
     "output_type": "execute_result"
    }
   ],
   "source": [
    "veri.iloc[8,2]"
   ]
  },
  {
   "cell_type": "markdown",
   "id": "eb6f5458",
   "metadata": {},
   "source": [
    " Sadece bir sayı değeri aldığında, ilgili indeks sayısına ait **satır** bilgisini verir."
   ]
  },
  {
   "cell_type": "code",
   "execution_count": 17,
   "id": "fd9a9159",
   "metadata": {},
   "outputs": [
    {
     "data": {
      "text/plain": [
       "isim           Sertaç\n",
       "yaş                52\n",
       "iş-meslek    mühendis\n",
       "Name: 5, dtype: object"
      ]
     },
     "execution_count": 17,
     "metadata": {},
     "output_type": "execute_result"
    }
   ],
   "source": [
    "veri.iloc[5]"
   ]
  },
  {
   "cell_type": "markdown",
   "id": "444cb197",
   "metadata": {},
   "source": [
    "## loc[] Metodu\n",
    "\n",
    "**iloc[]** metoduna benzer bir metottur ancak **loc[]** metodunda, satır ve sütun seçmek/görüntülemek istediğimiz zaman, saır ve sütunların isimlerini yazmalıyız. Elimizde aşağıdaki gibi bir veri çerçevesi olduğunu varsayalım."
   ]
  },
  {
   "cell_type": "code",
   "execution_count": 46,
   "id": "46aa5ea2",
   "metadata": {
    "scrolled": true
   },
   "outputs": [
    {
     "data": {
      "text/html": [
       "<div>\n",
       "<style scoped>\n",
       "    .dataframe tbody tr th:only-of-type {\n",
       "        vertical-align: middle;\n",
       "    }\n",
       "\n",
       "    .dataframe tbody tr th {\n",
       "        vertical-align: top;\n",
       "    }\n",
       "\n",
       "    .dataframe thead th {\n",
       "        text-align: right;\n",
       "    }\n",
       "</style>\n",
       "<table border=\"1\" class=\"dataframe\">\n",
       "  <thead>\n",
       "    <tr style=\"text-align: right;\">\n",
       "      <th></th>\n",
       "      <th>Yıl</th>\n",
       "      <th>Puan</th>\n",
       "      <th>Oylayan_Kişi</th>\n",
       "    </tr>\n",
       "    <tr>\n",
       "      <th>Film_Adı</th>\n",
       "      <th></th>\n",
       "      <th></th>\n",
       "      <th></th>\n",
       "    </tr>\n",
       "  </thead>\n",
       "  <tbody>\n",
       "    <tr>\n",
       "      <th>The Shawshank Redemption</th>\n",
       "      <td>1994</td>\n",
       "      <td>9,2</td>\n",
       "      <td>1071904</td>\n",
       "    </tr>\n",
       "    <tr>\n",
       "      <th>The Godfather</th>\n",
       "      <td>1972</td>\n",
       "      <td>9,2</td>\n",
       "      <td>751381</td>\n",
       "    </tr>\n",
       "    <tr>\n",
       "      <th>The Godfather: Part II</th>\n",
       "      <td>1974</td>\n",
       "      <td>9</td>\n",
       "      <td>488889</td>\n",
       "    </tr>\n",
       "    <tr>\n",
       "      <th>Pulp Fiction</th>\n",
       "      <td>1994</td>\n",
       "      <td>8,9</td>\n",
       "      <td>830504</td>\n",
       "    </tr>\n",
       "    <tr>\n",
       "      <th>The Dark Knight</th>\n",
       "      <td>2008</td>\n",
       "      <td>8,9</td>\n",
       "      <td>1045186</td>\n",
       "    </tr>\n",
       "    <tr>\n",
       "      <th>...</th>\n",
       "      <td>...</td>\n",
       "      <td>...</td>\n",
       "      <td>...</td>\n",
       "    </tr>\n",
       "    <tr>\n",
       "      <th>Mystic River</th>\n",
       "      <td>2003</td>\n",
       "      <td>7,9</td>\n",
       "      <td>256159</td>\n",
       "    </tr>\n",
       "    <tr>\n",
       "      <th>In the Heat of the Night</th>\n",
       "      <td>1967</td>\n",
       "      <td>7,9</td>\n",
       "      <td>37081</td>\n",
       "    </tr>\n",
       "    <tr>\n",
       "      <th>Arsenic and Old Lace</th>\n",
       "      <td>1944</td>\n",
       "      <td>7,9</td>\n",
       "      <td>45893</td>\n",
       "    </tr>\n",
       "    <tr>\n",
       "      <th>Before Sunrise</th>\n",
       "      <td>1995</td>\n",
       "      <td>7,9</td>\n",
       "      <td>100974</td>\n",
       "    </tr>\n",
       "    <tr>\n",
       "      <th>Papillon</th>\n",
       "      <td>1973</td>\n",
       "      <td>7,9</td>\n",
       "      <td>62517</td>\n",
       "    </tr>\n",
       "  </tbody>\n",
       "</table>\n",
       "<p>247 rows × 3 columns</p>\n",
       "</div>"
      ],
      "text/plain": [
       "                            Yıl Puan  Oylayan_Kişi\n",
       "Film_Adı                                          \n",
       "The Shawshank Redemption   1994  9,2       1071904\n",
       "The Godfather              1972  9,2        751381\n",
       "The Godfather: Part II     1974    9        488889\n",
       "Pulp Fiction               1994  8,9        830504\n",
       "The Dark Knight            2008  8,9       1045186\n",
       "...                         ...  ...           ...\n",
       "Mystic River               2003  7,9        256159\n",
       "In the Heat of the Night   1967  7,9         37081\n",
       "Arsenic and Old Lace       1944  7,9         45893\n",
       "Before Sunrise             1995  7,9        100974\n",
       "Papillon                   1973  7,9         62517\n",
       "\n",
       "[247 rows x 3 columns]"
      ]
     },
     "execution_count": 46,
     "metadata": {},
     "output_type": "execute_result"
    }
   ],
   "source": [
    "imdb = pd.read_excel(\"Veri_Setleri/imdb.xlsx\", index_col=\"Film_Adı\")\n",
    "imdb"
   ]
  },
  {
   "cell_type": "markdown",
   "id": "bfcca0be",
   "metadata": {},
   "source": [
    "**Pulp Fiction** Filminin **Puan**ını öğrenmek istediğimizi düşünelim. Bu durumda aşağıdaki kodları yazmamız doğru sonucu verecektir."
   ]
  },
  {
   "cell_type": "code",
   "execution_count": 32,
   "id": "c32aa064",
   "metadata": {},
   "outputs": [
    {
     "data": {
      "text/plain": [
       "'8,9'"
      ]
     },
     "execution_count": 32,
     "metadata": {},
     "output_type": "execute_result"
    }
   ],
   "source": [
    "imdb.loc[\"Pulp Fiction\", \"Puan\"]"
   ]
  },
  {
   "cell_type": "markdown",
   "id": "c1f23ac5",
   "metadata": {},
   "source": [
    "**Star Wars** isimli satır verisine ulaşmak için **loc[]** metoduna **Star Wars** metinsel (string) ibaresini eklemeliyiz."
   ]
  },
  {
   "cell_type": "code",
   "execution_count": 61,
   "id": "5b5d9115",
   "metadata": {},
   "outputs": [
    {
     "data": {
      "text/plain": [
       "Yıl               1977\n",
       "Puan               8,7\n",
       "Oylayan_Kişi    585132\n",
       "Name: Star Wars, dtype: object"
      ]
     },
     "execution_count": 61,
     "metadata": {},
     "output_type": "execute_result"
    }
   ],
   "source": [
    "imdb.loc[\"Star Wars\"]"
   ]
  },
  {
   "cell_type": "markdown",
   "id": "03306265",
   "metadata": {},
   "source": [
    "## Sütun Seçimi\n",
    "\n",
    "Sadece bir Sütunu seçmek/görüntülemek için veri çerçevesinin adı ile birlikte seçmek/görüntülemek istediğimiz sütunun ismini yazmak yeterlidir. Bu da iki şekilde gerçekleştirilebilir.\n",
    "\n",
    "* VeriCervecesiAdı.SütunAdı\n",
    "* VeriCervecesiAdı[\"SütunAdı\"]\n",
    "\n",
    "Sütun isminde boşluk ya da nokta karakterleri bulunması halinde, ilk (noktalı) seçeneği kullanamayız, o durumda 2. seçeneği (köşeli parantezli) kullanmak gerekir.\n",
    "Bunları da örneklerle görelim."
   ]
  },
  {
   "cell_type": "code",
   "execution_count": 69,
   "id": "dc80b011",
   "metadata": {
    "scrolled": false
   },
   "outputs": [
    {
     "data": {
      "text/plain": [
       "Film_Adı\n",
       "The Shawshank Redemption     9,2\n",
       "The Godfather                9,2\n",
       "The Godfather: Part II         9\n",
       "Pulp Fiction                 8,9\n",
       "The Dark Knight              8,9\n",
       "                            ... \n",
       "Mystic River                 7,9\n",
       "In the Heat of the Night     7,9\n",
       "Arsenic and Old Lace         7,9\n",
       "Before Sunrise               7,9\n",
       "Papillon                     7,9\n",
       "Name: Puan, Length: 247, dtype: object"
      ]
     },
     "execution_count": 69,
     "metadata": {},
     "output_type": "execute_result"
    }
   ],
   "source": [
    "imdb.Puan"
   ]
  },
  {
   "cell_type": "code",
   "execution_count": 71,
   "id": "1192eecc",
   "metadata": {},
   "outputs": [
    {
     "data": {
      "text/plain": [
       "Film_Adı\n",
       "The Shawshank Redemption     9,2\n",
       "The Godfather                9,2\n",
       "The Godfather: Part II         9\n",
       "Pulp Fiction                 8,9\n",
       "The Dark Knight              8,9\n",
       "                            ... \n",
       "Mystic River                 7,9\n",
       "In the Heat of the Night     7,9\n",
       "Arsenic and Old Lace         7,9\n",
       "Before Sunrise               7,9\n",
       "Papillon                     7,9\n",
       "Name: Puan, Length: 247, dtype: object"
      ]
     },
     "execution_count": 71,
     "metadata": {},
     "output_type": "execute_result"
    }
   ],
   "source": [
    "imdb[\"Puan\"]"
   ]
  },
  {
   "cell_type": "markdown",
   "id": "d354ad9c",
   "metadata": {},
   "source": [
    "Birden fazla sütun seçmek istediğimiz durumda, sütun isimlerini liste olarak (bildğiniz gibi liste veri tipleri köşeli parantez ile temsil edilir) belirtmek/yazmak gerekir."
   ]
  },
  {
   "cell_type": "code",
   "execution_count": 76,
   "id": "9f8e518b",
   "metadata": {},
   "outputs": [
    {
     "data": {
      "text/html": [
       "<div>\n",
       "<style scoped>\n",
       "    .dataframe tbody tr th:only-of-type {\n",
       "        vertical-align: middle;\n",
       "    }\n",
       "\n",
       "    .dataframe tbody tr th {\n",
       "        vertical-align: top;\n",
       "    }\n",
       "\n",
       "    .dataframe thead th {\n",
       "        text-align: right;\n",
       "    }\n",
       "</style>\n",
       "<table border=\"1\" class=\"dataframe\">\n",
       "  <thead>\n",
       "    <tr style=\"text-align: right;\">\n",
       "      <th></th>\n",
       "      <th>Yıl</th>\n",
       "      <th>Puan</th>\n",
       "    </tr>\n",
       "    <tr>\n",
       "      <th>Film_Adı</th>\n",
       "      <th></th>\n",
       "      <th></th>\n",
       "    </tr>\n",
       "  </thead>\n",
       "  <tbody>\n",
       "    <tr>\n",
       "      <th>The Shawshank Redemption</th>\n",
       "      <td>1994</td>\n",
       "      <td>9,2</td>\n",
       "    </tr>\n",
       "    <tr>\n",
       "      <th>The Godfather</th>\n",
       "      <td>1972</td>\n",
       "      <td>9,2</td>\n",
       "    </tr>\n",
       "    <tr>\n",
       "      <th>The Godfather: Part II</th>\n",
       "      <td>1974</td>\n",
       "      <td>9</td>\n",
       "    </tr>\n",
       "    <tr>\n",
       "      <th>Pulp Fiction</th>\n",
       "      <td>1994</td>\n",
       "      <td>8,9</td>\n",
       "    </tr>\n",
       "    <tr>\n",
       "      <th>The Dark Knight</th>\n",
       "      <td>2008</td>\n",
       "      <td>8,9</td>\n",
       "    </tr>\n",
       "    <tr>\n",
       "      <th>...</th>\n",
       "      <td>...</td>\n",
       "      <td>...</td>\n",
       "    </tr>\n",
       "    <tr>\n",
       "      <th>Mystic River</th>\n",
       "      <td>2003</td>\n",
       "      <td>7,9</td>\n",
       "    </tr>\n",
       "    <tr>\n",
       "      <th>In the Heat of the Night</th>\n",
       "      <td>1967</td>\n",
       "      <td>7,9</td>\n",
       "    </tr>\n",
       "    <tr>\n",
       "      <th>Arsenic and Old Lace</th>\n",
       "      <td>1944</td>\n",
       "      <td>7,9</td>\n",
       "    </tr>\n",
       "    <tr>\n",
       "      <th>Before Sunrise</th>\n",
       "      <td>1995</td>\n",
       "      <td>7,9</td>\n",
       "    </tr>\n",
       "    <tr>\n",
       "      <th>Papillon</th>\n",
       "      <td>1973</td>\n",
       "      <td>7,9</td>\n",
       "    </tr>\n",
       "  </tbody>\n",
       "</table>\n",
       "<p>247 rows × 2 columns</p>\n",
       "</div>"
      ],
      "text/plain": [
       "                            Yıl Puan\n",
       "Film_Adı                            \n",
       "The Shawshank Redemption   1994  9,2\n",
       "The Godfather              1972  9,2\n",
       "The Godfather: Part II     1974    9\n",
       "Pulp Fiction               1994  8,9\n",
       "The Dark Knight            2008  8,9\n",
       "...                         ...  ...\n",
       "Mystic River               2003  7,9\n",
       "In the Heat of the Night   1967  7,9\n",
       "Arsenic and Old Lace       1944  7,9\n",
       "Before Sunrise             1995  7,9\n",
       "Papillon                   1973  7,9\n",
       "\n",
       "[247 rows x 2 columns]"
      ]
     },
     "execution_count": 76,
     "metadata": {},
     "output_type": "execute_result"
    }
   ],
   "source": [
    "imdb[[\"Yıl\", \"Puan\"]]"
   ]
  },
  {
   "cell_type": "markdown",
   "id": "24591e41",
   "metadata": {},
   "source": [
    "# SIRALAMA YÖNTEMLERİ\n",
    "\n",
    "## sort_values() Fonksiyonu\n",
    "\n",
    "Veri çerçevesini istediğimiz sütuna göre sıralamak istediğimizde, **sort_values()** fonksiyonunu kullanmalıyız. Örneğin yukarıda oluşturduğumuz **imdb** veri çerçevesini, Yıla göre sıralamak istersek aşağıdaki kodu çalıştırmalıyız."
   ]
  },
  {
   "cell_type": "code",
   "execution_count": 60,
   "id": "0290d4fa",
   "metadata": {},
   "outputs": [
    {
     "data": {
      "text/html": [
       "<div>\n",
       "<style scoped>\n",
       "    .dataframe tbody tr th:only-of-type {\n",
       "        vertical-align: middle;\n",
       "    }\n",
       "\n",
       "    .dataframe tbody tr th {\n",
       "        vertical-align: top;\n",
       "    }\n",
       "\n",
       "    .dataframe thead th {\n",
       "        text-align: right;\n",
       "    }\n",
       "</style>\n",
       "<table border=\"1\" class=\"dataframe\">\n",
       "  <thead>\n",
       "    <tr style=\"text-align: right;\">\n",
       "      <th></th>\n",
       "      <th>Yıl</th>\n",
       "      <th>Puan</th>\n",
       "      <th>Oylayan_Kişi</th>\n",
       "    </tr>\n",
       "    <tr>\n",
       "      <th>Film_Adı</th>\n",
       "      <th></th>\n",
       "      <th></th>\n",
       "      <th></th>\n",
       "    </tr>\n",
       "  </thead>\n",
       "  <tbody>\n",
       "    <tr>\n",
       "      <th>The Kid</th>\n",
       "      <td>1921</td>\n",
       "      <td>8,2</td>\n",
       "      <td>35316</td>\n",
       "    </tr>\n",
       "    <tr>\n",
       "      <th>The Gold Rush</th>\n",
       "      <td>1925</td>\n",
       "      <td>8,2</td>\n",
       "      <td>41458</td>\n",
       "    </tr>\n",
       "    <tr>\n",
       "      <th>The General</th>\n",
       "      <td>1926</td>\n",
       "      <td>8,2</td>\n",
       "      <td>34819</td>\n",
       "    </tr>\n",
       "    <tr>\n",
       "      <th>Metropolis</th>\n",
       "      <td>1927</td>\n",
       "      <td>8,3</td>\n",
       "      <td>74994</td>\n",
       "    </tr>\n",
       "    <tr>\n",
       "      <th>All Quiet on the Western Front</th>\n",
       "      <td>1930</td>\n",
       "      <td>8</td>\n",
       "      <td>38373</td>\n",
       "    </tr>\n",
       "    <tr>\n",
       "      <th>...</th>\n",
       "      <td>...</td>\n",
       "      <td>...</td>\n",
       "      <td>...</td>\n",
       "    </tr>\n",
       "    <tr>\n",
       "      <th>The Avengers</th>\n",
       "      <td>2012</td>\n",
       "      <td>8,1</td>\n",
       "      <td>568037</td>\n",
       "    </tr>\n",
       "    <tr>\n",
       "      <th>The Hobbit: An Unexpected Journey</th>\n",
       "      <td>2012</td>\n",
       "      <td>8</td>\n",
       "      <td>352517</td>\n",
       "    </tr>\n",
       "    <tr>\n",
       "      <th>Life of Pi</th>\n",
       "      <td>2012</td>\n",
       "      <td>8</td>\n",
       "      <td>246325</td>\n",
       "    </tr>\n",
       "    <tr>\n",
       "      <th>Rush</th>\n",
       "      <td>2013</td>\n",
       "      <td>8</td>\n",
       "      <td>28676</td>\n",
       "    </tr>\n",
       "    <tr>\n",
       "      <th>Gravity</th>\n",
       "      <td>2013</td>\n",
       "      <td>8,5</td>\n",
       "      <td>33721</td>\n",
       "    </tr>\n",
       "  </tbody>\n",
       "</table>\n",
       "<p>247 rows × 3 columns</p>\n",
       "</div>"
      ],
      "text/plain": [
       "                                     Yıl Puan  Oylayan_Kişi\n",
       "Film_Adı                                                   \n",
       "The Kid                             1921  8,2         35316\n",
       "The Gold Rush                       1925  8,2         41458\n",
       "The General                         1926  8,2         34819\n",
       "Metropolis                          1927  8,3         74994\n",
       "All Quiet on the Western Front      1930    8         38373\n",
       "...                                  ...  ...           ...\n",
       "The Avengers                        2012  8,1        568037\n",
       "The Hobbit: An Unexpected Journey   2012    8        352517\n",
       "Life of Pi                          2012    8        246325\n",
       "Rush                                2013    8         28676\n",
       "Gravity                             2013  8,5         33721\n",
       "\n",
       "[247 rows x 3 columns]"
      ]
     },
     "execution_count": 60,
     "metadata": {},
     "output_type": "execute_result"
    }
   ],
   "source": [
    "imdb.sort_values(by=\"Yıl\")"
   ]
  },
  {
   "cell_type": "markdown",
   "id": "2d282421",
   "metadata": {},
   "source": [
    "gördüğünüz gibi, veri çerçevesi, yıla göre sıralandı. Eğer yılı artan değil de azalan şeklinde sıralamak istersek **ascending = False** parametresini kullanmalıyız."
   ]
  },
  {
   "cell_type": "code",
   "execution_count": 59,
   "id": "f7917054",
   "metadata": {},
   "outputs": [
    {
     "data": {
      "text/html": [
       "<div>\n",
       "<style scoped>\n",
       "    .dataframe tbody tr th:only-of-type {\n",
       "        vertical-align: middle;\n",
       "    }\n",
       "\n",
       "    .dataframe tbody tr th {\n",
       "        vertical-align: top;\n",
       "    }\n",
       "\n",
       "    .dataframe thead th {\n",
       "        text-align: right;\n",
       "    }\n",
       "</style>\n",
       "<table border=\"1\" class=\"dataframe\">\n",
       "  <thead>\n",
       "    <tr style=\"text-align: right;\">\n",
       "      <th></th>\n",
       "      <th>Yıl</th>\n",
       "      <th>Puan</th>\n",
       "      <th>Oylayan_Kişi</th>\n",
       "    </tr>\n",
       "    <tr>\n",
       "      <th>Film_Adı</th>\n",
       "      <th></th>\n",
       "      <th></th>\n",
       "      <th></th>\n",
       "    </tr>\n",
       "  </thead>\n",
       "  <tbody>\n",
       "    <tr>\n",
       "      <th>Rush</th>\n",
       "      <td>2013</td>\n",
       "      <td>8</td>\n",
       "      <td>28676</td>\n",
       "    </tr>\n",
       "    <tr>\n",
       "      <th>Gravity</th>\n",
       "      <td>2013</td>\n",
       "      <td>8,5</td>\n",
       "      <td>33721</td>\n",
       "    </tr>\n",
       "    <tr>\n",
       "      <th>The Avengers</th>\n",
       "      <td>2012</td>\n",
       "      <td>8,1</td>\n",
       "      <td>568037</td>\n",
       "    </tr>\n",
       "    <tr>\n",
       "      <th>The Dark Knight Rises</th>\n",
       "      <td>2012</td>\n",
       "      <td>8,4</td>\n",
       "      <td>672751</td>\n",
       "    </tr>\n",
       "    <tr>\n",
       "      <th>The Hunt</th>\n",
       "      <td>2012</td>\n",
       "      <td>8,1</td>\n",
       "      <td>39033</td>\n",
       "    </tr>\n",
       "    <tr>\n",
       "      <th>...</th>\n",
       "      <td>...</td>\n",
       "      <td>...</td>\n",
       "      <td>...</td>\n",
       "    </tr>\n",
       "    <tr>\n",
       "      <th>All Quiet on the Western Front</th>\n",
       "      <td>1930</td>\n",
       "      <td>8</td>\n",
       "      <td>38373</td>\n",
       "    </tr>\n",
       "    <tr>\n",
       "      <th>Metropolis</th>\n",
       "      <td>1927</td>\n",
       "      <td>8,3</td>\n",
       "      <td>74994</td>\n",
       "    </tr>\n",
       "    <tr>\n",
       "      <th>The General</th>\n",
       "      <td>1926</td>\n",
       "      <td>8,2</td>\n",
       "      <td>34819</td>\n",
       "    </tr>\n",
       "    <tr>\n",
       "      <th>The Gold Rush</th>\n",
       "      <td>1925</td>\n",
       "      <td>8,2</td>\n",
       "      <td>41458</td>\n",
       "    </tr>\n",
       "    <tr>\n",
       "      <th>The Kid</th>\n",
       "      <td>1921</td>\n",
       "      <td>8,2</td>\n",
       "      <td>35316</td>\n",
       "    </tr>\n",
       "  </tbody>\n",
       "</table>\n",
       "<p>247 rows × 3 columns</p>\n",
       "</div>"
      ],
      "text/plain": [
       "                                  Yıl Puan  Oylayan_Kişi\n",
       "Film_Adı                                                \n",
       "Rush                             2013    8         28676\n",
       "Gravity                          2013  8,5         33721\n",
       "The Avengers                     2012  8,1        568037\n",
       "The Dark Knight Rises            2012  8,4        672751\n",
       "The Hunt                         2012  8,1         39033\n",
       "...                               ...  ...           ...\n",
       "All Quiet on the Western Front   1930    8         38373\n",
       "Metropolis                       1927  8,3         74994\n",
       "The General                      1926  8,2         34819\n",
       "The Gold Rush                    1925  8,2         41458\n",
       "The Kid                          1921  8,2         35316\n",
       "\n",
       "[247 rows x 3 columns]"
      ]
     },
     "execution_count": 59,
     "metadata": {},
     "output_type": "execute_result"
    }
   ],
   "source": [
    "imdb.sort_values(by=\"Yıl\", ascending=False)"
   ]
  },
  {
   "cell_type": "markdown",
   "id": "c497a511",
   "metadata": {},
   "source": [
    "Sıralama işlemini birden fazla sütuna göre yapmak istersek, sütun isimlerini liste olarak belirtmemiz gerekir."
   ]
  },
  {
   "cell_type": "code",
   "execution_count": 62,
   "id": "6fcea57f",
   "metadata": {},
   "outputs": [
    {
     "data": {
      "text/html": [
       "<div>\n",
       "<style scoped>\n",
       "    .dataframe tbody tr th:only-of-type {\n",
       "        vertical-align: middle;\n",
       "    }\n",
       "\n",
       "    .dataframe tbody tr th {\n",
       "        vertical-align: top;\n",
       "    }\n",
       "\n",
       "    .dataframe thead th {\n",
       "        text-align: right;\n",
       "    }\n",
       "</style>\n",
       "<table border=\"1\" class=\"dataframe\">\n",
       "  <thead>\n",
       "    <tr style=\"text-align: right;\">\n",
       "      <th></th>\n",
       "      <th>Yıl</th>\n",
       "      <th>Puan</th>\n",
       "      <th>Oylayan_Kişi</th>\n",
       "    </tr>\n",
       "    <tr>\n",
       "      <th>Film_Adı</th>\n",
       "      <th></th>\n",
       "      <th></th>\n",
       "      <th></th>\n",
       "    </tr>\n",
       "  </thead>\n",
       "  <tbody>\n",
       "    <tr>\n",
       "      <th>The Kid</th>\n",
       "      <td>1921</td>\n",
       "      <td>8,2</td>\n",
       "      <td>35316</td>\n",
       "    </tr>\n",
       "    <tr>\n",
       "      <th>The Gold Rush</th>\n",
       "      <td>1925</td>\n",
       "      <td>8,2</td>\n",
       "      <td>41458</td>\n",
       "    </tr>\n",
       "    <tr>\n",
       "      <th>The General</th>\n",
       "      <td>1926</td>\n",
       "      <td>8,2</td>\n",
       "      <td>34819</td>\n",
       "    </tr>\n",
       "    <tr>\n",
       "      <th>Metropolis</th>\n",
       "      <td>1927</td>\n",
       "      <td>8,3</td>\n",
       "      <td>74994</td>\n",
       "    </tr>\n",
       "    <tr>\n",
       "      <th>All Quiet on the Western Front</th>\n",
       "      <td>1930</td>\n",
       "      <td>8</td>\n",
       "      <td>38373</td>\n",
       "    </tr>\n",
       "    <tr>\n",
       "      <th>...</th>\n",
       "      <td>...</td>\n",
       "      <td>...</td>\n",
       "      <td>...</td>\n",
       "    </tr>\n",
       "    <tr>\n",
       "      <th>Django Unchained</th>\n",
       "      <td>2012</td>\n",
       "      <td>8,4</td>\n",
       "      <td>450505</td>\n",
       "    </tr>\n",
       "    <tr>\n",
       "      <th>The Avengers</th>\n",
       "      <td>2012</td>\n",
       "      <td>8,1</td>\n",
       "      <td>568037</td>\n",
       "    </tr>\n",
       "    <tr>\n",
       "      <th>The Dark Knight Rises</th>\n",
       "      <td>2012</td>\n",
       "      <td>8,4</td>\n",
       "      <td>672751</td>\n",
       "    </tr>\n",
       "    <tr>\n",
       "      <th>Rush</th>\n",
       "      <td>2013</td>\n",
       "      <td>8</td>\n",
       "      <td>28676</td>\n",
       "    </tr>\n",
       "    <tr>\n",
       "      <th>Gravity</th>\n",
       "      <td>2013</td>\n",
       "      <td>8,5</td>\n",
       "      <td>33721</td>\n",
       "    </tr>\n",
       "  </tbody>\n",
       "</table>\n",
       "<p>247 rows × 3 columns</p>\n",
       "</div>"
      ],
      "text/plain": [
       "                                  Yıl Puan  Oylayan_Kişi\n",
       "Film_Adı                                                \n",
       "The Kid                          1921  8,2         35316\n",
       "The Gold Rush                    1925  8,2         41458\n",
       "The General                      1926  8,2         34819\n",
       "Metropolis                       1927  8,3         74994\n",
       "All Quiet on the Western Front   1930    8         38373\n",
       "...                               ...  ...           ...\n",
       "Django Unchained                 2012  8,4        450505\n",
       "The Avengers                     2012  8,1        568037\n",
       "The Dark Knight Rises            2012  8,4        672751\n",
       "Rush                             2013    8         28676\n",
       "Gravity                          2013  8,5         33721\n",
       "\n",
       "[247 rows x 3 columns]"
      ]
     },
     "execution_count": 62,
     "metadata": {},
     "output_type": "execute_result"
    }
   ],
   "source": [
    "imdb.sort_values(by=[\"Yıl\", \"Oylayan_Kişi\"])"
   ]
  },
  {
   "cell_type": "markdown",
   "id": "d17c1786",
   "metadata": {},
   "source": [
    "Bu şekilde sıralama yaptığımızda önce **Yıl**a göre ardından **Oylayan Kişi**ye göre sıralama sonuçlanır.\n",
    "İndeks'e göre sıralamak için **sort_index()** fonksiyonu kullanılabilir."
   ]
  },
  {
   "cell_type": "code",
   "execution_count": 63,
   "id": "cbd216a6",
   "metadata": {},
   "outputs": [
    {
     "data": {
      "text/html": [
       "<div>\n",
       "<style scoped>\n",
       "    .dataframe tbody tr th:only-of-type {\n",
       "        vertical-align: middle;\n",
       "    }\n",
       "\n",
       "    .dataframe tbody tr th {\n",
       "        vertical-align: top;\n",
       "    }\n",
       "\n",
       "    .dataframe thead th {\n",
       "        text-align: right;\n",
       "    }\n",
       "</style>\n",
       "<table border=\"1\" class=\"dataframe\">\n",
       "  <thead>\n",
       "    <tr style=\"text-align: right;\">\n",
       "      <th></th>\n",
       "      <th>Yıl</th>\n",
       "      <th>Puan</th>\n",
       "      <th>Oylayan_Kişi</th>\n",
       "    </tr>\n",
       "    <tr>\n",
       "      <th>Film_Adı</th>\n",
       "      <th></th>\n",
       "      <th></th>\n",
       "      <th></th>\n",
       "    </tr>\n",
       "  </thead>\n",
       "  <tbody>\n",
       "    <tr>\n",
       "      <th>12 Angry Men</th>\n",
       "      <td>1957</td>\n",
       "      <td>8,9</td>\n",
       "      <td>264112</td>\n",
       "    </tr>\n",
       "    <tr>\n",
       "      <th>2001: A Space Odyssey</th>\n",
       "      <td>1968</td>\n",
       "      <td>8,3</td>\n",
       "      <td>275055</td>\n",
       "    </tr>\n",
       "    <tr>\n",
       "      <th>3 Idiots</th>\n",
       "      <td>2009</td>\n",
       "      <td>8</td>\n",
       "      <td>83178</td>\n",
       "    </tr>\n",
       "    <tr>\n",
       "      <th>8½</th>\n",
       "      <td>1963</td>\n",
       "      <td>8</td>\n",
       "      <td>54451</td>\n",
       "    </tr>\n",
       "    <tr>\n",
       "      <th>A Beautiful Mind</th>\n",
       "      <td>2001</td>\n",
       "      <td>8</td>\n",
       "      <td>344294</td>\n",
       "    </tr>\n",
       "    <tr>\n",
       "      <th>...</th>\n",
       "      <td>...</td>\n",
       "      <td>...</td>\n",
       "      <td>...</td>\n",
       "    </tr>\n",
       "    <tr>\n",
       "      <th>Warrior</th>\n",
       "      <td>2011</td>\n",
       "      <td>8,1</td>\n",
       "      <td>190877</td>\n",
       "    </tr>\n",
       "    <tr>\n",
       "      <th>Who's Afraid of Virginia Woolf?</th>\n",
       "      <td>1966</td>\n",
       "      <td>8</td>\n",
       "      <td>38192</td>\n",
       "    </tr>\n",
       "    <tr>\n",
       "      <th>Wild Strawberries</th>\n",
       "      <td>1957</td>\n",
       "      <td>8,2</td>\n",
       "      <td>41744</td>\n",
       "    </tr>\n",
       "    <tr>\n",
       "      <th>Witness for the Prosecution</th>\n",
       "      <td>1957</td>\n",
       "      <td>8,3</td>\n",
       "      <td>36241</td>\n",
       "    </tr>\n",
       "    <tr>\n",
       "      <th>Yojimbo</th>\n",
       "      <td>1961</td>\n",
       "      <td>8,3</td>\n",
       "      <td>49855</td>\n",
       "    </tr>\n",
       "  </tbody>\n",
       "</table>\n",
       "<p>247 rows × 3 columns</p>\n",
       "</div>"
      ],
      "text/plain": [
       "                                   Yıl Puan  Oylayan_Kişi\n",
       "Film_Adı                                                 \n",
       "12 Angry Men                      1957  8,9        264112\n",
       "2001: A Space Odyssey             1968  8,3        275055\n",
       "3 Idiots                          2009    8         83178\n",
       "8½                                1963    8         54451\n",
       "A Beautiful Mind                  2001    8        344294\n",
       "...                                ...  ...           ...\n",
       "Warrior                           2011  8,1        190877\n",
       "Who's Afraid of Virginia Woolf?   1966    8         38192\n",
       "Wild Strawberries                 1957  8,2         41744\n",
       "Witness for the Prosecution       1957  8,3         36241\n",
       "Yojimbo                           1961  8,3         49855\n",
       "\n",
       "[247 rows x 3 columns]"
      ]
     },
     "execution_count": 63,
     "metadata": {},
     "output_type": "execute_result"
    }
   ],
   "source": [
    "imdb.sort_index()"
   ]
  },
  {
   "cell_type": "markdown",
   "id": "47efd739",
   "metadata": {},
   "source": [
    "# FİLTRELEME YÖNTEMLERİ\n",
    "\n",
    "Sütun içerisindeki verilere göre filtreleme uygulamak istersek, **VeriCervecesiAdı[\"SütunAdı\"] == \"Filtre_Kriteri\"** yöntemi kullanılabilir.\n",
    "Örneğin 2010 yılına ait filmleri görmek istersen aşağıdaki filtreleme yöntemini kullanabiliriz."
   ]
  },
  {
   "cell_type": "code",
   "execution_count": 79,
   "id": "11ec885b",
   "metadata": {},
   "outputs": [
    {
     "data": {
      "text/html": [
       "<div>\n",
       "<style scoped>\n",
       "    .dataframe tbody tr th:only-of-type {\n",
       "        vertical-align: middle;\n",
       "    }\n",
       "\n",
       "    .dataframe tbody tr th {\n",
       "        vertical-align: top;\n",
       "    }\n",
       "\n",
       "    .dataframe thead th {\n",
       "        text-align: right;\n",
       "    }\n",
       "</style>\n",
       "<table border=\"1\" class=\"dataframe\">\n",
       "  <thead>\n",
       "    <tr style=\"text-align: right;\">\n",
       "      <th></th>\n",
       "      <th>Yıl</th>\n",
       "      <th>Puan</th>\n",
       "      <th>Oylayan_Kişi</th>\n",
       "    </tr>\n",
       "    <tr>\n",
       "      <th>Film_Adı</th>\n",
       "      <th></th>\n",
       "      <th></th>\n",
       "      <th></th>\n",
       "    </tr>\n",
       "  </thead>\n",
       "  <tbody>\n",
       "    <tr>\n",
       "      <th>Inception</th>\n",
       "      <td>2010</td>\n",
       "      <td>8,7</td>\n",
       "      <td>844938</td>\n",
       "    </tr>\n",
       "    <tr>\n",
       "      <th>Toy Story 3</th>\n",
       "      <td>2010</td>\n",
       "      <td>8,4</td>\n",
       "      <td>320991</td>\n",
       "    </tr>\n",
       "    <tr>\n",
       "      <th>How to Train Your Dragon</th>\n",
       "      <td>2010</td>\n",
       "      <td>8,1</td>\n",
       "      <td>249971</td>\n",
       "    </tr>\n",
       "    <tr>\n",
       "      <th>The King's Speech</th>\n",
       "      <td>2010</td>\n",
       "      <td>8,1</td>\n",
       "      <td>288159</td>\n",
       "    </tr>\n",
       "    <tr>\n",
       "      <th>Black Swan</th>\n",
       "      <td>2010</td>\n",
       "      <td>8</td>\n",
       "      <td>373745</td>\n",
       "    </tr>\n",
       "    <tr>\n",
       "      <th>Shutter Island</th>\n",
       "      <td>2010</td>\n",
       "      <td>8</td>\n",
       "      <td>436151</td>\n",
       "    </tr>\n",
       "    <tr>\n",
       "      <th>Incendies</th>\n",
       "      <td>2010</td>\n",
       "      <td>8</td>\n",
       "      <td>36751</td>\n",
       "    </tr>\n",
       "  </tbody>\n",
       "</table>\n",
       "</div>"
      ],
      "text/plain": [
       "                            Yıl Puan  Oylayan_Kişi\n",
       "Film_Adı                                          \n",
       "Inception                  2010  8,7        844938\n",
       "Toy Story 3                2010  8,4        320991\n",
       "How to Train Your Dragon   2010  8,1        249971\n",
       "The King's Speech          2010  8,1        288159\n",
       "Black Swan                 2010    8        373745\n",
       "Shutter Island             2010    8        436151\n",
       "Incendies                  2010    8         36751"
      ]
     },
     "execution_count": 79,
     "metadata": {},
     "output_type": "execute_result"
    }
   ],
   "source": [
    "imdb[imdb[\"Yıl\"] == 2010]"
   ]
  },
  {
   "cell_type": "markdown",
   "id": "2904ebed",
   "metadata": {},
   "source": [
    "Yukarıdaki yazım tarzı kafanızı karıştırdıysa, aşağıdaki (parçalara ayrılmış) yazım tarzı daha anlaşılır gelebilir.\n",
    "Önce filtreyi tanımlıyor, sonra veri çerçevesine dahil ediyoruz."
   ]
  },
  {
   "cell_type": "code",
   "execution_count": 78,
   "id": "47d8d798",
   "metadata": {
    "scrolled": true
   },
   "outputs": [
    {
     "data": {
      "text/html": [
       "<div>\n",
       "<style scoped>\n",
       "    .dataframe tbody tr th:only-of-type {\n",
       "        vertical-align: middle;\n",
       "    }\n",
       "\n",
       "    .dataframe tbody tr th {\n",
       "        vertical-align: top;\n",
       "    }\n",
       "\n",
       "    .dataframe thead th {\n",
       "        text-align: right;\n",
       "    }\n",
       "</style>\n",
       "<table border=\"1\" class=\"dataframe\">\n",
       "  <thead>\n",
       "    <tr style=\"text-align: right;\">\n",
       "      <th></th>\n",
       "      <th>Yıl</th>\n",
       "      <th>Puan</th>\n",
       "      <th>Oylayan_Kişi</th>\n",
       "    </tr>\n",
       "    <tr>\n",
       "      <th>Film_Adı</th>\n",
       "      <th></th>\n",
       "      <th></th>\n",
       "      <th></th>\n",
       "    </tr>\n",
       "  </thead>\n",
       "  <tbody>\n",
       "    <tr>\n",
       "      <th>Inception</th>\n",
       "      <td>2010</td>\n",
       "      <td>8,7</td>\n",
       "      <td>844938</td>\n",
       "    </tr>\n",
       "    <tr>\n",
       "      <th>Toy Story 3</th>\n",
       "      <td>2010</td>\n",
       "      <td>8,4</td>\n",
       "      <td>320991</td>\n",
       "    </tr>\n",
       "    <tr>\n",
       "      <th>How to Train Your Dragon</th>\n",
       "      <td>2010</td>\n",
       "      <td>8,1</td>\n",
       "      <td>249971</td>\n",
       "    </tr>\n",
       "    <tr>\n",
       "      <th>The King's Speech</th>\n",
       "      <td>2010</td>\n",
       "      <td>8,1</td>\n",
       "      <td>288159</td>\n",
       "    </tr>\n",
       "    <tr>\n",
       "      <th>Black Swan</th>\n",
       "      <td>2010</td>\n",
       "      <td>8</td>\n",
       "      <td>373745</td>\n",
       "    </tr>\n",
       "    <tr>\n",
       "      <th>Shutter Island</th>\n",
       "      <td>2010</td>\n",
       "      <td>8</td>\n",
       "      <td>436151</td>\n",
       "    </tr>\n",
       "    <tr>\n",
       "      <th>Incendies</th>\n",
       "      <td>2010</td>\n",
       "      <td>8</td>\n",
       "      <td>36751</td>\n",
       "    </tr>\n",
       "  </tbody>\n",
       "</table>\n",
       "</div>"
      ],
      "text/plain": [
       "                            Yıl Puan  Oylayan_Kişi\n",
       "Film_Adı                                          \n",
       "Inception                  2010  8,7        844938\n",
       "Toy Story 3                2010  8,4        320991\n",
       "How to Train Your Dragon   2010  8,1        249971\n",
       "The King's Speech          2010  8,1        288159\n",
       "Black Swan                 2010    8        373745\n",
       "Shutter Island             2010    8        436151\n",
       "Incendies                  2010    8         36751"
      ]
     },
     "execution_count": 78,
     "metadata": {},
     "output_type": "execute_result"
    }
   ],
   "source": [
    "filtre_2010 = imdb[\"Yıl\"] == 2010\n",
    "imdb[filtre_2010]"
   ]
  },
  {
   "cell_type": "markdown",
   "id": "eb9f1ba8",
   "metadata": {},
   "source": [
    "Bir sayısal aralık belirterek filtreleme yapmak istersek **between()** metodunu kullanabiliriz.\n",
    "Örneği **1960** ile **1980** yılları arasındaki filmleri filtrelemeye çalışalım."
   ]
  },
  {
   "cell_type": "code",
   "execution_count": 33,
   "id": "50efdb46",
   "metadata": {},
   "outputs": [
    {
     "data": {
      "text/plain": [
       "Film_Adı\n",
       "The Shawshank Redemption     False\n",
       "The Godfather                 True\n",
       "The Godfather: Part II        True\n",
       "Pulp Fiction                 False\n",
       "The Dark Knight              False\n",
       "                             ...  \n",
       "Mystic River                 False\n",
       "In the Heat of the Night      True\n",
       "Arsenic and Old Lace         False\n",
       "Before Sunrise               False\n",
       "Papillon                      True\n",
       "Name: Yıl, Length: 247, dtype: bool"
      ]
     },
     "execution_count": 33,
     "metadata": {},
     "output_type": "execute_result"
    }
   ],
   "source": [
    "imdb[\"Yıl\"].between(1960,1980)"
   ]
  },
  {
   "cell_type": "markdown",
   "id": "f8872b28",
   "metadata": {},
   "source": [
    "Birden fazla kriter içeren filtreleme işlemi uygulamak istersek, aşağıdaki kodlar ile istediğimiz elde edebiliriz.\n",
    "İki kriteri bir arada kullanmak istediğimizde **VE** simgesi olan **&**, İki kriterden birini ayrı ayrı seçmek için **YA DA** simgesi olan **|** kullanılır."
   ]
  },
  {
   "cell_type": "code",
   "execution_count": 86,
   "id": "6788e0ae",
   "metadata": {},
   "outputs": [
    {
     "data": {
      "text/html": [
       "<div>\n",
       "<style scoped>\n",
       "    .dataframe tbody tr th:only-of-type {\n",
       "        vertical-align: middle;\n",
       "    }\n",
       "\n",
       "    .dataframe tbody tr th {\n",
       "        vertical-align: top;\n",
       "    }\n",
       "\n",
       "    .dataframe thead th {\n",
       "        text-align: right;\n",
       "    }\n",
       "</style>\n",
       "<table border=\"1\" class=\"dataframe\">\n",
       "  <thead>\n",
       "    <tr style=\"text-align: right;\">\n",
       "      <th></th>\n",
       "      <th>Yıl</th>\n",
       "      <th>Puan</th>\n",
       "      <th>Oylayan_Kişi</th>\n",
       "    </tr>\n",
       "    <tr>\n",
       "      <th>Film_Adı</th>\n",
       "      <th></th>\n",
       "      <th></th>\n",
       "      <th></th>\n",
       "    </tr>\n",
       "  </thead>\n",
       "  <tbody>\n",
       "    <tr>\n",
       "      <th>The Dark Knight</th>\n",
       "      <td>2008</td>\n",
       "      <td>8,9</td>\n",
       "      <td>1045186</td>\n",
       "    </tr>\n",
       "    <tr>\n",
       "      <th>The Lord of the Rings: The Return of the King</th>\n",
       "      <td>2003</td>\n",
       "      <td>8,8</td>\n",
       "      <td>758388</td>\n",
       "    </tr>\n",
       "    <tr>\n",
       "      <th>The Lord of the Rings: The Fellowship of the Ring</th>\n",
       "      <td>2001</td>\n",
       "      <td>8,8</td>\n",
       "      <td>784999</td>\n",
       "    </tr>\n",
       "    <tr>\n",
       "      <th>Inception</th>\n",
       "      <td>2010</td>\n",
       "      <td>8,7</td>\n",
       "      <td>844938</td>\n",
       "    </tr>\n",
       "    <tr>\n",
       "      <th>The Lord of the Rings: The Two Towers</th>\n",
       "      <td>2002</td>\n",
       "      <td>8,7</td>\n",
       "      <td>680983</td>\n",
       "    </tr>\n",
       "    <tr>\n",
       "      <th>The Departed</th>\n",
       "      <td>2006</td>\n",
       "      <td>8,4</td>\n",
       "      <td>540726</td>\n",
       "    </tr>\n",
       "    <tr>\n",
       "      <th>The Dark Knight Rises</th>\n",
       "      <td>2012</td>\n",
       "      <td>8,4</td>\n",
       "      <td>672751</td>\n",
       "    </tr>\n",
       "    <tr>\n",
       "      <th>Batman Begins</th>\n",
       "      <td>2005</td>\n",
       "      <td>8,3</td>\n",
       "      <td>604923</td>\n",
       "    </tr>\n",
       "    <tr>\n",
       "      <th>Inglourious Basterds</th>\n",
       "      <td>2009</td>\n",
       "      <td>8,2</td>\n",
       "      <td>505702</td>\n",
       "    </tr>\n",
       "    <tr>\n",
       "      <th>V for Vendetta</th>\n",
       "      <td>2005</td>\n",
       "      <td>8,1</td>\n",
       "      <td>507750</td>\n",
       "    </tr>\n",
       "    <tr>\n",
       "      <th>The Avengers</th>\n",
       "      <td>2012</td>\n",
       "      <td>8,1</td>\n",
       "      <td>568037</td>\n",
       "    </tr>\n",
       "    <tr>\n",
       "      <th>Pirates of the Caribbean: The Curse of the Black Pearl</th>\n",
       "      <td>2003</td>\n",
       "      <td>8</td>\n",
       "      <td>519625</td>\n",
       "    </tr>\n",
       "  </tbody>\n",
       "</table>\n",
       "</div>"
      ],
      "text/plain": [
       "                                                     Yıl Puan  Oylayan_Kişi\n",
       "Film_Adı                                                                   \n",
       "The Dark Knight                                     2008  8,9       1045186\n",
       "The Lord of the Rings: The Return of the King       2003  8,8        758388\n",
       "The Lord of the Rings: The Fellowship of the Ring   2001  8,8        784999\n",
       "Inception                                           2010  8,7        844938\n",
       "The Lord of the Rings: The Two Towers               2002  8,7        680983\n",
       "The Departed                                        2006  8,4        540726\n",
       "The Dark Knight Rises                               2012  8,4        672751\n",
       "Batman Begins                                       2005  8,3        604923\n",
       "Inglourious Basterds                                2009  8,2        505702\n",
       "V for Vendetta                                      2005  8,1        507750\n",
       "The Avengers                                        2012  8,1        568037\n",
       "Pirates of the Caribbean: The Curse of the Blac...  2003    8        519625"
      ]
     },
     "execution_count": 86,
     "metadata": {},
     "output_type": "execute_result"
    }
   ],
   "source": [
    "yıl_2000den_buyuk = imdb[\"Yıl\"] > 2000\n",
    "Oylayan_Kişi_500000 = imdb[\"Oylayan_Kişi\"] > 500000\n",
    "imdb[yıl_2000den_buyuk & Oylayan_Kişi_500000]"
   ]
  },
  {
   "cell_type": "code",
   "execution_count": 87,
   "id": "808bcd17",
   "metadata": {
    "scrolled": true
   },
   "outputs": [
    {
     "data": {
      "text/html": [
       "<div>\n",
       "<style scoped>\n",
       "    .dataframe tbody tr th:only-of-type {\n",
       "        vertical-align: middle;\n",
       "    }\n",
       "\n",
       "    .dataframe tbody tr th {\n",
       "        vertical-align: top;\n",
       "    }\n",
       "\n",
       "    .dataframe thead th {\n",
       "        text-align: right;\n",
       "    }\n",
       "</style>\n",
       "<table border=\"1\" class=\"dataframe\">\n",
       "  <thead>\n",
       "    <tr style=\"text-align: right;\">\n",
       "      <th></th>\n",
       "      <th>Yıl</th>\n",
       "      <th>Puan</th>\n",
       "      <th>Oylayan_Kişi</th>\n",
       "    </tr>\n",
       "    <tr>\n",
       "      <th>Film_Adı</th>\n",
       "      <th></th>\n",
       "      <th></th>\n",
       "      <th></th>\n",
       "    </tr>\n",
       "  </thead>\n",
       "  <tbody>\n",
       "    <tr>\n",
       "      <th>The Shawshank Redemption</th>\n",
       "      <td>1994</td>\n",
       "      <td>9,2</td>\n",
       "      <td>1071904</td>\n",
       "    </tr>\n",
       "    <tr>\n",
       "      <th>The Godfather</th>\n",
       "      <td>1972</td>\n",
       "      <td>9,2</td>\n",
       "      <td>751381</td>\n",
       "    </tr>\n",
       "    <tr>\n",
       "      <th>Pulp Fiction</th>\n",
       "      <td>1994</td>\n",
       "      <td>8,9</td>\n",
       "      <td>830504</td>\n",
       "    </tr>\n",
       "    <tr>\n",
       "      <th>The Dark Knight</th>\n",
       "      <td>2008</td>\n",
       "      <td>8,9</td>\n",
       "      <td>1045186</td>\n",
       "    </tr>\n",
       "    <tr>\n",
       "      <th>Schindler's List</th>\n",
       "      <td>1993</td>\n",
       "      <td>8,9</td>\n",
       "      <td>545703</td>\n",
       "    </tr>\n",
       "    <tr>\n",
       "      <th>...</th>\n",
       "      <td>...</td>\n",
       "      <td>...</td>\n",
       "      <td>...</td>\n",
       "    </tr>\n",
       "    <tr>\n",
       "      <th>Shutter Island</th>\n",
       "      <td>2010</td>\n",
       "      <td>8</td>\n",
       "      <td>436151</td>\n",
       "    </tr>\n",
       "    <tr>\n",
       "      <th>Incendies</th>\n",
       "      <td>2010</td>\n",
       "      <td>8</td>\n",
       "      <td>36751</td>\n",
       "    </tr>\n",
       "    <tr>\n",
       "      <th>3 Idiots</th>\n",
       "      <td>2009</td>\n",
       "      <td>8</td>\n",
       "      <td>83178</td>\n",
       "    </tr>\n",
       "    <tr>\n",
       "      <th>The Artist</th>\n",
       "      <td>2011</td>\n",
       "      <td>8</td>\n",
       "      <td>132672</td>\n",
       "    </tr>\n",
       "    <tr>\n",
       "      <th>Mystic River</th>\n",
       "      <td>2003</td>\n",
       "      <td>7,9</td>\n",
       "      <td>256159</td>\n",
       "    </tr>\n",
       "  </tbody>\n",
       "</table>\n",
       "<p>81 rows × 3 columns</p>\n",
       "</div>"
      ],
      "text/plain": [
       "                            Yıl Puan  Oylayan_Kişi\n",
       "Film_Adı                                          \n",
       "The Shawshank Redemption   1994  9,2       1071904\n",
       "The Godfather              1972  9,2        751381\n",
       "Pulp Fiction               1994  8,9        830504\n",
       "The Dark Knight            2008  8,9       1045186\n",
       "Schindler's List           1993  8,9        545703\n",
       "...                         ...  ...           ...\n",
       "Shutter Island             2010    8        436151\n",
       "Incendies                  2010    8         36751\n",
       "3 Idiots                   2009    8         83178\n",
       "The Artist                 2011    8        132672\n",
       "Mystic River               2003  7,9        256159\n",
       "\n",
       "[81 rows x 3 columns]"
      ]
     },
     "execution_count": 87,
     "metadata": {},
     "output_type": "execute_result"
    }
   ],
   "source": [
    "yıl_2000den_buyuk = imdb[\"Yıl\"] > 2000\n",
    "Oylayan_Kişi_500000 = imdb[\"Oylayan_Kişi\"] > 500000\n",
    "imdb[yıl_2000den_buyuk | Oylayan_Kişi_500000]"
   ]
  },
  {
   "cell_type": "markdown",
   "id": "5d05a916",
   "metadata": {},
   "source": [
    "Filreleme esnasında **String** Metotlarını kullanmak için **str** kelimesinden yararlanıyoruz. Diyelim ki içerisinde **star wars** kelime grubu bulunan tüm filmleri filtrelemek istiyoruz. Python küçük harf ve büyük harfe duyarlı olduğu için, **star wars** yazıp atarrığımızda **Star Wars**, **STAR WARS** ,...vb hiçbir film filtreye takılmayacak ve yanlış sonuç almış olacağız. Bu durumun önüne geçmek için, öncelikle tüm film isimlerini küçük harfe ya da büyük harfe çevirerek arama/filtreleme yapmamız gerekecektir.\n",
    "Aşama aşama gidelim.\n",
    "Tüm film isimlerini küçük harfe çevirelim. Film isimleri indeks olarak ayarlandığı için film isimleri sütununu temsilen, **index** kelimesini kullanmalıyız."
   ]
  },
  {
   "cell_type": "code",
   "execution_count": 40,
   "id": "1e9f9de3",
   "metadata": {
    "scrolled": true
   },
   "outputs": [
    {
     "data": {
      "text/plain": [
       "Index(['the shawshank redemption ', 'the godfather ',\n",
       "       'the godfather: part ii ', 'pulp fiction', 'the dark knight ',\n",
       "       '12 angry men ', 'schindler's list ',\n",
       "       'the lord of the rings: the return of the king ', 'fight club ',\n",
       "       'star wars: episode v - the empire strikes back ',\n",
       "       ...\n",
       "       'the artist ', 'nausicaä of the valley of the wind ',\n",
       "       'beauty and the beast ', 'three colors: red ', 'bringing up baby ',\n",
       "       'mystic river ', 'in the heat of the night ', 'arsenic and old lace ',\n",
       "       'before sunrise ', 'papillon '],\n",
       "      dtype='object', name='Film_Adı', length=247)"
      ]
     },
     "execution_count": 40,
     "metadata": {},
     "output_type": "execute_result"
    }
   ],
   "source": [
    "kucuk_harf = imdb.index.str.lower()\n",
    "kucuk_harf"
   ]
  },
  {
   "cell_type": "markdown",
   "id": "beb2d4da",
   "metadata": {},
   "source": [
    "Gördüğünüz gibi film isimleri tamamen küçük harfe dönüşmüş oldu. **String** metotlarından biri olan **contains** ile metin içerisinde **içeren** kelime ya da kelimeleri aratabiliyoruz. Şimdi Sıra geldi filtreleme işlemine."
   ]
  },
  {
   "cell_type": "code",
   "execution_count": 42,
   "id": "f0e8637f",
   "metadata": {
    "scrolled": true
   },
   "outputs": [
    {
     "data": {
      "text/html": [
       "<div>\n",
       "<style scoped>\n",
       "    .dataframe tbody tr th:only-of-type {\n",
       "        vertical-align: middle;\n",
       "    }\n",
       "\n",
       "    .dataframe tbody tr th {\n",
       "        vertical-align: top;\n",
       "    }\n",
       "\n",
       "    .dataframe thead th {\n",
       "        text-align: right;\n",
       "    }\n",
       "</style>\n",
       "<table border=\"1\" class=\"dataframe\">\n",
       "  <thead>\n",
       "    <tr style=\"text-align: right;\">\n",
       "      <th></th>\n",
       "      <th>Yıl</th>\n",
       "      <th>Puan</th>\n",
       "      <th>Oylayan_Kişi</th>\n",
       "    </tr>\n",
       "    <tr>\n",
       "      <th>Film_Adı</th>\n",
       "      <th></th>\n",
       "      <th></th>\n",
       "      <th></th>\n",
       "    </tr>\n",
       "  </thead>\n",
       "  <tbody>\n",
       "    <tr>\n",
       "      <th>Star Wars: Episode V - The Empire Strikes Back</th>\n",
       "      <td>1980</td>\n",
       "      <td>8,8</td>\n",
       "      <td>519895</td>\n",
       "    </tr>\n",
       "    <tr>\n",
       "      <th>Star Wars</th>\n",
       "      <td>1977</td>\n",
       "      <td>8,7</td>\n",
       "      <td>585132</td>\n",
       "    </tr>\n",
       "    <tr>\n",
       "      <th>Star Wars: Episode VI - Return of the Jedi</th>\n",
       "      <td>1983</td>\n",
       "      <td>8,3</td>\n",
       "      <td>410111</td>\n",
       "    </tr>\n",
       "  </tbody>\n",
       "</table>\n",
       "</div>"
      ],
      "text/plain": [
       "                                                  Yıl Puan  Oylayan_Kişi\n",
       "Film_Adı                                                                \n",
       "Star Wars: Episode V - The Empire Strikes Back   1980  8,8        519895\n",
       "Star Wars                                        1977  8,7        585132\n",
       "Star Wars: Episode VI - Return of the Jedi       1983  8,3        410111"
      ]
     },
     "execution_count": 42,
     "metadata": {},
     "output_type": "execute_result"
    }
   ],
   "source": [
    "star_wars_icerir = kucuk_harf.str.contains(\"star wars\")\n",
    "imdb[star_wars_icerir]"
   ]
  },
  {
   "cell_type": "markdown",
   "id": "ab022215",
   "metadata": {},
   "source": [
    "Biraz karışık gelse de tüm kodları irleştirip aynı sonucu elde edebiliriz."
   ]
  },
  {
   "cell_type": "code",
   "execution_count": 44,
   "id": "482898b6",
   "metadata": {
    "scrolled": true
   },
   "outputs": [
    {
     "data": {
      "text/html": [
       "<div>\n",
       "<style scoped>\n",
       "    .dataframe tbody tr th:only-of-type {\n",
       "        vertical-align: middle;\n",
       "    }\n",
       "\n",
       "    .dataframe tbody tr th {\n",
       "        vertical-align: top;\n",
       "    }\n",
       "\n",
       "    .dataframe thead th {\n",
       "        text-align: right;\n",
       "    }\n",
       "</style>\n",
       "<table border=\"1\" class=\"dataframe\">\n",
       "  <thead>\n",
       "    <tr style=\"text-align: right;\">\n",
       "      <th></th>\n",
       "      <th>Yıl</th>\n",
       "      <th>Puan</th>\n",
       "      <th>Oylayan_Kişi</th>\n",
       "    </tr>\n",
       "    <tr>\n",
       "      <th>Film_Adı</th>\n",
       "      <th></th>\n",
       "      <th></th>\n",
       "      <th></th>\n",
       "    </tr>\n",
       "  </thead>\n",
       "  <tbody>\n",
       "    <tr>\n",
       "      <th>Star Wars: Episode V - The Empire Strikes Back</th>\n",
       "      <td>1980</td>\n",
       "      <td>8,8</td>\n",
       "      <td>519895</td>\n",
       "    </tr>\n",
       "    <tr>\n",
       "      <th>Star Wars</th>\n",
       "      <td>1977</td>\n",
       "      <td>8,7</td>\n",
       "      <td>585132</td>\n",
       "    </tr>\n",
       "    <tr>\n",
       "      <th>Star Wars: Episode VI - Return of the Jedi</th>\n",
       "      <td>1983</td>\n",
       "      <td>8,3</td>\n",
       "      <td>410111</td>\n",
       "    </tr>\n",
       "  </tbody>\n",
       "</table>\n",
       "</div>"
      ],
      "text/plain": [
       "                                                  Yıl Puan  Oylayan_Kişi\n",
       "Film_Adı                                                                \n",
       "Star Wars: Episode V - The Empire Strikes Back   1980  8,8        519895\n",
       "Star Wars                                        1977  8,7        585132\n",
       "Star Wars: Episode VI - Return of the Jedi       1983  8,3        410111"
      ]
     },
     "execution_count": 44,
     "metadata": {},
     "output_type": "execute_result"
    }
   ],
   "source": [
    "star_wars_filtrele = imdb.index.str.lower().str.contains(\"star wars\")\n",
    "imdb[star_wars_filtrele]"
   ]
  },
  {
   "cell_type": "markdown",
   "id": "14dbc1c4",
   "metadata": {},
   "source": [
    "# DÜZENLEME KOMUTLARI\n",
    "\n",
    "## İndeks değerlerini Ayarlamak\n",
    "\n",
    "## index_col() Fonksiyonu\n",
    "\n",
    "Veri Çerçevemiz içerisinde bulunan sütunlardan birini, indeks değeri olarak ayarlamak istersek, **index_col()** fonksiyonunu kullanabiliriz."
   ]
  },
  {
   "cell_type": "markdown",
   "id": "f70fba10",
   "metadata": {},
   "source": [
    "# KAYIP / EKSİK VERİ TESPİTİ\n",
    "\n",
    "## isnull() Fonksiyonu\n",
    "\n",
    "Veri çerçevemizde eksik veri (excel tablosundaki boş hücre gibi düşünebiliriz) olup olmadığını, varsa kaç adet olduğunu **isnull()** fonksiyonu ile tespit edebiliriz. \n",
    "Hemen inceleyelim bakalım, acaba **IMDB** listemizde eksik veri var mı? varsa hangi sütunda ne kadar eksik veri var?"
   ]
  },
  {
   "cell_type": "code",
   "execution_count": 49,
   "id": "d9689dab",
   "metadata": {
    "scrolled": true
   },
   "outputs": [
    {
     "data": {
      "text/html": [
       "<div>\n",
       "<style scoped>\n",
       "    .dataframe tbody tr th:only-of-type {\n",
       "        vertical-align: middle;\n",
       "    }\n",
       "\n",
       "    .dataframe tbody tr th {\n",
       "        vertical-align: top;\n",
       "    }\n",
       "\n",
       "    .dataframe thead th {\n",
       "        text-align: right;\n",
       "    }\n",
       "</style>\n",
       "<table border=\"1\" class=\"dataframe\">\n",
       "  <thead>\n",
       "    <tr style=\"text-align: right;\">\n",
       "      <th></th>\n",
       "      <th>Yıl</th>\n",
       "      <th>Puan</th>\n",
       "      <th>Oylayan_Kişi</th>\n",
       "    </tr>\n",
       "    <tr>\n",
       "      <th>Film_Adı</th>\n",
       "      <th></th>\n",
       "      <th></th>\n",
       "      <th></th>\n",
       "    </tr>\n",
       "  </thead>\n",
       "  <tbody>\n",
       "    <tr>\n",
       "      <th>The Shawshank Redemption</th>\n",
       "      <td>False</td>\n",
       "      <td>False</td>\n",
       "      <td>False</td>\n",
       "    </tr>\n",
       "    <tr>\n",
       "      <th>The Godfather</th>\n",
       "      <td>False</td>\n",
       "      <td>False</td>\n",
       "      <td>False</td>\n",
       "    </tr>\n",
       "    <tr>\n",
       "      <th>The Godfather: Part II</th>\n",
       "      <td>False</td>\n",
       "      <td>False</td>\n",
       "      <td>False</td>\n",
       "    </tr>\n",
       "    <tr>\n",
       "      <th>Pulp Fiction</th>\n",
       "      <td>False</td>\n",
       "      <td>False</td>\n",
       "      <td>False</td>\n",
       "    </tr>\n",
       "    <tr>\n",
       "      <th>The Dark Knight</th>\n",
       "      <td>False</td>\n",
       "      <td>False</td>\n",
       "      <td>False</td>\n",
       "    </tr>\n",
       "    <tr>\n",
       "      <th>...</th>\n",
       "      <td>...</td>\n",
       "      <td>...</td>\n",
       "      <td>...</td>\n",
       "    </tr>\n",
       "    <tr>\n",
       "      <th>Mystic River</th>\n",
       "      <td>False</td>\n",
       "      <td>False</td>\n",
       "      <td>False</td>\n",
       "    </tr>\n",
       "    <tr>\n",
       "      <th>In the Heat of the Night</th>\n",
       "      <td>False</td>\n",
       "      <td>False</td>\n",
       "      <td>False</td>\n",
       "    </tr>\n",
       "    <tr>\n",
       "      <th>Arsenic and Old Lace</th>\n",
       "      <td>False</td>\n",
       "      <td>False</td>\n",
       "      <td>False</td>\n",
       "    </tr>\n",
       "    <tr>\n",
       "      <th>Before Sunrise</th>\n",
       "      <td>False</td>\n",
       "      <td>False</td>\n",
       "      <td>False</td>\n",
       "    </tr>\n",
       "    <tr>\n",
       "      <th>Papillon</th>\n",
       "      <td>False</td>\n",
       "      <td>False</td>\n",
       "      <td>False</td>\n",
       "    </tr>\n",
       "  </tbody>\n",
       "</table>\n",
       "<p>247 rows × 3 columns</p>\n",
       "</div>"
      ],
      "text/plain": [
       "                             Yıl   Puan  Oylayan_Kişi\n",
       "Film_Adı                                             \n",
       "The Shawshank Redemption   False  False         False\n",
       "The Godfather              False  False         False\n",
       "The Godfather: Part II     False  False         False\n",
       "Pulp Fiction               False  False         False\n",
       "The Dark Knight            False  False         False\n",
       "...                          ...    ...           ...\n",
       "Mystic River               False  False         False\n",
       "In the Heat of the Night   False  False         False\n",
       "Arsenic and Old Lace       False  False         False\n",
       "Before Sunrise             False  False         False\n",
       "Papillon                   False  False         False\n",
       "\n",
       "[247 rows x 3 columns]"
      ]
     },
     "execution_count": 49,
     "metadata": {},
     "output_type": "execute_result"
    }
   ],
   "source": [
    "imdb.isnull()"
   ]
  },
  {
   "cell_type": "markdown",
   "id": "28e38eb7",
   "metadata": {},
   "source": [
    "Görüldüğü üzere, bu fonksiyon, veri çerçevesindeki her hücreye, kayıp/eksik veri olup olmadığı verisini yazıyor. **False** Yanlış, yani Eksik/Kayıp veri **YOK**, **True** ise Doğru yan, Eksik/Kayıp veri **VAR** anlamına gelir.\n",
    "Tabloya tek tek bakmak yerine, tüm sütunlardaki eksik/kayıp verileri python'a saydırıp, sonucu görüntüleyebiliriz.\n",
    "Python'da aşina olduğumuz **sum()** fonksiyonu işimize yarayacaktır."
   ]
  },
  {
   "cell_type": "code",
   "execution_count": 50,
   "id": "aa9371cb",
   "metadata": {
    "scrolled": true
   },
   "outputs": [
    {
     "data": {
      "text/plain": [
       "Yıl             0\n",
       "Puan            0\n",
       "Oylayan_Kişi    0\n",
       "dtype: int64"
      ]
     },
     "execution_count": 50,
     "metadata": {},
     "output_type": "execute_result"
    }
   ],
   "source": [
    "imdb.isnull().sum()"
   ]
  },
  {
   "cell_type": "code",
   "execution_count": null,
   "id": "cbff1890",
   "metadata": {},
   "outputs": [],
   "source": [
    "Gördüğümüz kadarıyla tüm sonuçlar sıfır, yani veri çerçevemizde hiç eksik/kayıp veri bulunmamaktadır."
   ]
  }
 ],
 "metadata": {
  "kernelspec": {
   "display_name": "Python 3 (ipykernel)",
   "language": "python",
   "name": "python3"
  },
  "language_info": {
   "codemirror_mode": {
    "name": "ipython",
    "version": 3
   },
   "file_extension": ".py",
   "mimetype": "text/x-python",
   "name": "python",
   "nbconvert_exporter": "python",
   "pygments_lexer": "ipython3",
   "version": "3.10.4"
  }
 },
 "nbformat": 4,
 "nbformat_minor": 5
}
