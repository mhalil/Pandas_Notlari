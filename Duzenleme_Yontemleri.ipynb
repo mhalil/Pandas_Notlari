{
 "cells": [
  {
   "cell_type": "markdown",
   "id": "14dbc1c4",
   "metadata": {},
   "source": [
    "# DÜZENLEME KOMUTLARI\n",
    "\n",
    "## İndeks değerlerini Ayarlamak\n",
    "\n",
    "## index_col() Fonksiyonu\n",
    "\n",
    "Veri Çerçevemiz içerisinde bulunan sütunlardan birini, indeks değeri olarak ayarlamak istersek, **index_col()** fonksiyonunu kullanabiliriz."
   ]
  }
 ],
 "metadata": {
  "kernelspec": {
   "display_name": "Python 3 (ipykernel)",
   "language": "python",
   "name": "python3"
  },
  "language_info": {
   "codemirror_mode": {
    "name": "ipython",
    "version": 3
   },
   "file_extension": ".py",
   "mimetype": "text/x-python",
   "name": "python",
   "nbconvert_exporter": "python",
   "pygments_lexer": "ipython3",
   "version": "3.10.4"
  }
 },
 "nbformat": 4,
 "nbformat_minor": 5
}
