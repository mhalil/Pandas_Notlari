{
 "cells": [
  {
   "cell_type": "markdown",
   "id": "1ef4bba4",
   "metadata": {},
   "source": [
    "# Veri Çerçevesi (Data Frame)\n",
    "\n",
    "Bu bölümde sıfırdan **Veri Çerçevesi** (**Data Frame**) oluşturmayı ya da harici kaynaktan verileri okuyarak veri çerçevesine dönüştürmeyi öğreneceğiz.\n",
    "\n",
    "## import Fonksiyonu\n",
    "\n",
    "Öncelikle **Pandas** Kütüphanesini çalışmamıza dahil edip (içe aktarıp), kodlama esnasında kolay sağlaması ve hızlı olması adına bu kütüphaneye **pd** adını atayalım;"
   ]
  },
  {
   "cell_type": "code",
   "execution_count": 1,
   "id": "6ae9250d",
   "metadata": {},
   "outputs": [],
   "source": [
    "import pandas as pd"
   ]
  },
  {
   "cell_type": "markdown",
   "id": "01c23c74",
   "metadata": {},
   "source": [
    "## DataFrame() Fonksiyonu\n",
    "\n",
    "Veri Çerçevesi (Data Frame) Oluşturmak/Dönüştürmek için **DataFrame()** fonksiyonunu kullanıyoruz. Veri Çerçevesine dönüştürmek istediğimiz veriyi, parantez içine, parametre olarak yazmalıyız."
   ]
  },
  {
   "cell_type": "code",
   "execution_count": null,
   "id": "0f1c8593",
   "metadata": {},
   "outputs": [],
   "source": [
    "pd.DataFrame(dosya veya veri)"
   ]
  },
  {
   "cell_type": "markdown",
   "id": "99d46b65",
   "metadata": {},
   "source": [
    "örneğin bir sözlük (dict) yapısı oluşturup bu yapıyı **Veri Çerçevesi**ne (**Data Frame**'e) dönüştürelim;"
   ]
  },
  {
   "cell_type": "code",
   "execution_count": 3,
   "id": "8afc17a1",
   "metadata": {},
   "outputs": [],
   "source": [
    "sozluk = {\"isim\" : [\"Mustafa\", \"Halil\", \"Burak\", \"Emre\", \"Ersin\", \"Sertaç\", \"Furkan\",\"Murat\",\"Ahmet\",\"Abdülkadir\"],\n",
    "                    \"yaş\" : [25, 38, 41, 23, 37, 52, 30, 23, 40, 38],\n",
    "                   \"iş-meslek\" : [\"mühendis\", \"programcı\", \"akademisyen\", \"yönetici\",\"amir\",\"mühendis\", \"yönetici\",\"müdür\",\"veteriner\",\"yönetici\"]}\n",
    "veri = pd.DataFrame(sozluk)"
   ]
  },
  {
   "cell_type": "markdown",
   "id": "b48c245b",
   "metadata": {},
   "source": [
    "Oluşturduğumuz Veri Çerçevesinin içeriğini görelim;"
   ]
  },
  {
   "cell_type": "code",
   "execution_count": 5,
   "id": "3a171197",
   "metadata": {},
   "outputs": [
    {
     "data": {
      "text/html": [
       "<div>\n",
       "<style scoped>\n",
       "    .dataframe tbody tr th:only-of-type {\n",
       "        vertical-align: middle;\n",
       "    }\n",
       "\n",
       "    .dataframe tbody tr th {\n",
       "        vertical-align: top;\n",
       "    }\n",
       "\n",
       "    .dataframe thead th {\n",
       "        text-align: right;\n",
       "    }\n",
       "</style>\n",
       "<table border=\"1\" class=\"dataframe\">\n",
       "  <thead>\n",
       "    <tr style=\"text-align: right;\">\n",
       "      <th></th>\n",
       "      <th>isim</th>\n",
       "      <th>yaş</th>\n",
       "      <th>iş-meslek</th>\n",
       "    </tr>\n",
       "  </thead>\n",
       "  <tbody>\n",
       "    <tr>\n",
       "      <th>0</th>\n",
       "      <td>Mustafa</td>\n",
       "      <td>25</td>\n",
       "      <td>mühendis</td>\n",
       "    </tr>\n",
       "    <tr>\n",
       "      <th>1</th>\n",
       "      <td>Halil</td>\n",
       "      <td>38</td>\n",
       "      <td>programcı</td>\n",
       "    </tr>\n",
       "    <tr>\n",
       "      <th>2</th>\n",
       "      <td>Burak</td>\n",
       "      <td>41</td>\n",
       "      <td>akademisyen</td>\n",
       "    </tr>\n",
       "    <tr>\n",
       "      <th>3</th>\n",
       "      <td>Emre</td>\n",
       "      <td>23</td>\n",
       "      <td>yönetici</td>\n",
       "    </tr>\n",
       "    <tr>\n",
       "      <th>4</th>\n",
       "      <td>Ersin</td>\n",
       "      <td>37</td>\n",
       "      <td>amir</td>\n",
       "    </tr>\n",
       "    <tr>\n",
       "      <th>5</th>\n",
       "      <td>Sertaç</td>\n",
       "      <td>52</td>\n",
       "      <td>mühendis</td>\n",
       "    </tr>\n",
       "    <tr>\n",
       "      <th>6</th>\n",
       "      <td>Furkan</td>\n",
       "      <td>30</td>\n",
       "      <td>yönetici</td>\n",
       "    </tr>\n",
       "    <tr>\n",
       "      <th>7</th>\n",
       "      <td>Murat</td>\n",
       "      <td>23</td>\n",
       "      <td>müdür</td>\n",
       "    </tr>\n",
       "    <tr>\n",
       "      <th>8</th>\n",
       "      <td>Ahmet</td>\n",
       "      <td>40</td>\n",
       "      <td>veteriner</td>\n",
       "    </tr>\n",
       "    <tr>\n",
       "      <th>9</th>\n",
       "      <td>Abdülkadir</td>\n",
       "      <td>38</td>\n",
       "      <td>yönetici</td>\n",
       "    </tr>\n",
       "  </tbody>\n",
       "</table>\n",
       "</div>"
      ],
      "text/plain": [
       "         isim  yaş    iş-meslek\n",
       "0     Mustafa   25     mühendis\n",
       "1       Halil   38    programcı\n",
       "2       Burak   41  akademisyen\n",
       "3        Emre   23     yönetici\n",
       "4       Ersin   37         amir\n",
       "5      Sertaç   52     mühendis\n",
       "6      Furkan   30     yönetici\n",
       "7       Murat   23        müdür\n",
       "8       Ahmet   40    veteriner\n",
       "9  Abdülkadir   38     yönetici"
      ]
     },
     "execution_count": 5,
     "metadata": {},
     "output_type": "execute_result"
    }
   ],
   "source": [
    "veri"
   ]
  },
  {
   "cell_type": "markdown",
   "id": "635de4e7",
   "metadata": {},
   "source": [
    "Gördüğünüz gibi verimiz, **DataFrame()** fonksiyonu ile, SQL ya da Excel tablosuna benzer şekilde satır ve sütunlardan oluşan yapıya dönüştürüldü. artık bu yapıyı yönetmek ve analiz etmek oldukça kolaylaştı.\n",
    "\n",
    "# Veri Çerçevesi Temel Fonksiyonları\n",
    "\n",
    "## head() Fonksiyonu\n",
    "\n",
    "Oluşturduğumuz ya da çalışmamıza dahil ettiğimiz (içe aktardığımız) Veri Çerçevelerinin ilk satırlarını görüp, içerik hakkında bilgi edinmek istersek **head()** fonksiyonunu kullanabiliriz. **Head** kelimesi Türkçede **Baş, Kafa** anlamına gelmektedir."
   ]
  },
  {
   "cell_type": "code",
   "execution_count": 6,
   "id": "d17c989d",
   "metadata": {},
   "outputs": [
    {
     "data": {
      "text/html": [
       "<div>\n",
       "<style scoped>\n",
       "    .dataframe tbody tr th:only-of-type {\n",
       "        vertical-align: middle;\n",
       "    }\n",
       "\n",
       "    .dataframe tbody tr th {\n",
       "        vertical-align: top;\n",
       "    }\n",
       "\n",
       "    .dataframe thead th {\n",
       "        text-align: right;\n",
       "    }\n",
       "</style>\n",
       "<table border=\"1\" class=\"dataframe\">\n",
       "  <thead>\n",
       "    <tr style=\"text-align: right;\">\n",
       "      <th></th>\n",
       "      <th>isim</th>\n",
       "      <th>yaş</th>\n",
       "      <th>iş-meslek</th>\n",
       "    </tr>\n",
       "  </thead>\n",
       "  <tbody>\n",
       "    <tr>\n",
       "      <th>0</th>\n",
       "      <td>Mustafa</td>\n",
       "      <td>25</td>\n",
       "      <td>mühendis</td>\n",
       "    </tr>\n",
       "    <tr>\n",
       "      <th>1</th>\n",
       "      <td>Halil</td>\n",
       "      <td>38</td>\n",
       "      <td>programcı</td>\n",
       "    </tr>\n",
       "    <tr>\n",
       "      <th>2</th>\n",
       "      <td>Burak</td>\n",
       "      <td>41</td>\n",
       "      <td>akademisyen</td>\n",
       "    </tr>\n",
       "    <tr>\n",
       "      <th>3</th>\n",
       "      <td>Emre</td>\n",
       "      <td>23</td>\n",
       "      <td>yönetici</td>\n",
       "    </tr>\n",
       "    <tr>\n",
       "      <th>4</th>\n",
       "      <td>Ersin</td>\n",
       "      <td>37</td>\n",
       "      <td>amir</td>\n",
       "    </tr>\n",
       "  </tbody>\n",
       "</table>\n",
       "</div>"
      ],
      "text/plain": [
       "      isim  yaş    iş-meslek\n",
       "0  Mustafa   25     mühendis\n",
       "1    Halil   38    programcı\n",
       "2    Burak   41  akademisyen\n",
       "3     Emre   23     yönetici\n",
       "4    Ersin   37         amir"
      ]
     },
     "execution_count": 6,
     "metadata": {},
     "output_type": "execute_result"
    }
   ],
   "source": [
    "veri.head()"
   ]
  },
  {
   "cell_type": "markdown",
   "id": "31cbc53d",
   "metadata": {},
   "source": [
    "**head()** fonksiyonunda parantez içine parametre olarak bir değer yazmazsak, veri çerçevesinin **ilk 5 değeri** görüntülenir. Değer belirtirsek belirttiğimiz değer kadar veri görüntülenir."
   ]
  },
  {
   "cell_type": "code",
   "execution_count": 7,
   "id": "1437d835",
   "metadata": {},
   "outputs": [
    {
     "data": {
      "text/html": [
       "<div>\n",
       "<style scoped>\n",
       "    .dataframe tbody tr th:only-of-type {\n",
       "        vertical-align: middle;\n",
       "    }\n",
       "\n",
       "    .dataframe tbody tr th {\n",
       "        vertical-align: top;\n",
       "    }\n",
       "\n",
       "    .dataframe thead th {\n",
       "        text-align: right;\n",
       "    }\n",
       "</style>\n",
       "<table border=\"1\" class=\"dataframe\">\n",
       "  <thead>\n",
       "    <tr style=\"text-align: right;\">\n",
       "      <th></th>\n",
       "      <th>isim</th>\n",
       "      <th>yaş</th>\n",
       "      <th>iş-meslek</th>\n",
       "    </tr>\n",
       "  </thead>\n",
       "  <tbody>\n",
       "    <tr>\n",
       "      <th>0</th>\n",
       "      <td>Mustafa</td>\n",
       "      <td>25</td>\n",
       "      <td>mühendis</td>\n",
       "    </tr>\n",
       "    <tr>\n",
       "      <th>1</th>\n",
       "      <td>Halil</td>\n",
       "      <td>38</td>\n",
       "      <td>programcı</td>\n",
       "    </tr>\n",
       "    <tr>\n",
       "      <th>2</th>\n",
       "      <td>Burak</td>\n",
       "      <td>41</td>\n",
       "      <td>akademisyen</td>\n",
       "    </tr>\n",
       "  </tbody>\n",
       "</table>\n",
       "</div>"
      ],
      "text/plain": [
       "      isim  yaş    iş-meslek\n",
       "0  Mustafa   25     mühendis\n",
       "1    Halil   38    programcı\n",
       "2    Burak   41  akademisyen"
      ]
     },
     "execution_count": 7,
     "metadata": {},
     "output_type": "execute_result"
    }
   ],
   "source": [
    "veri.head(3)"
   ]
  },
  {
   "cell_type": "markdown",
   "id": "fd14771d",
   "metadata": {},
   "source": [
    "İndex değerinin 2'de bitmesi sizi şaşırtmasın, pekçok programlama dilindi olduğu gibi Python programlama dilinde de, sayma sayıları sıfırdan başlar. Zaten tabloyu incelerseniz, tabloda 3 kullanıcıya ait veri olduğunu görürsünüz.\n",
    "\n",
    "## tail() Fonksiyonu\n",
    "\n",
    "**head()** fonksiyonuna oldukça benzer bir fonksiyondur. Oluşturduğumuz ya da çalışmamıza dahil ettiğimiz Veri Çerçevelerinin **son satırlarını** görüp içerik hakkında bilgi edinmek istersek **tail()** fonksiyonunu kullanabiliriz. **Tail** kelimesi Türkçede, **kuyruk, son kısım** anlamına gelmektedir."
   ]
  },
  {
   "cell_type": "code",
   "execution_count": 8,
   "id": "bbf52b97",
   "metadata": {},
   "outputs": [
    {
     "data": {
      "text/html": [
       "<div>\n",
       "<style scoped>\n",
       "    .dataframe tbody tr th:only-of-type {\n",
       "        vertical-align: middle;\n",
       "    }\n",
       "\n",
       "    .dataframe tbody tr th {\n",
       "        vertical-align: top;\n",
       "    }\n",
       "\n",
       "    .dataframe thead th {\n",
       "        text-align: right;\n",
       "    }\n",
       "</style>\n",
       "<table border=\"1\" class=\"dataframe\">\n",
       "  <thead>\n",
       "    <tr style=\"text-align: right;\">\n",
       "      <th></th>\n",
       "      <th>isim</th>\n",
       "      <th>yaş</th>\n",
       "      <th>iş-meslek</th>\n",
       "    </tr>\n",
       "  </thead>\n",
       "  <tbody>\n",
       "    <tr>\n",
       "      <th>5</th>\n",
       "      <td>Sertaç</td>\n",
       "      <td>52</td>\n",
       "      <td>mühendis</td>\n",
       "    </tr>\n",
       "    <tr>\n",
       "      <th>6</th>\n",
       "      <td>Furkan</td>\n",
       "      <td>30</td>\n",
       "      <td>yönetici</td>\n",
       "    </tr>\n",
       "    <tr>\n",
       "      <th>7</th>\n",
       "      <td>Murat</td>\n",
       "      <td>23</td>\n",
       "      <td>müdür</td>\n",
       "    </tr>\n",
       "    <tr>\n",
       "      <th>8</th>\n",
       "      <td>Ahmet</td>\n",
       "      <td>40</td>\n",
       "      <td>veteriner</td>\n",
       "    </tr>\n",
       "    <tr>\n",
       "      <th>9</th>\n",
       "      <td>Abdülkadir</td>\n",
       "      <td>38</td>\n",
       "      <td>yönetici</td>\n",
       "    </tr>\n",
       "  </tbody>\n",
       "</table>\n",
       "</div>"
      ],
      "text/plain": [
       "         isim  yaş  iş-meslek\n",
       "5      Sertaç   52   mühendis\n",
       "6      Furkan   30   yönetici\n",
       "7       Murat   23      müdür\n",
       "8       Ahmet   40  veteriner\n",
       "9  Abdülkadir   38   yönetici"
      ]
     },
     "execution_count": 8,
     "metadata": {},
     "output_type": "execute_result"
    }
   ],
   "source": [
    "veri.tail()"
   ]
  },
  {
   "cell_type": "markdown",
   "id": "18584f12",
   "metadata": {},
   "source": [
    "**tail()** fonksiyonunu içine parametre olarak bir değer yazmazsak, veri çerçevesinin **son 5 değerini** görüntüler. Değer belirtirsek belirttiğimiz değer kadar veri görüntüler."
   ]
  },
  {
   "cell_type": "code",
   "execution_count": 10,
   "id": "99e14f6a",
   "metadata": {},
   "outputs": [
    {
     "data": {
      "text/html": [
       "<div>\n",
       "<style scoped>\n",
       "    .dataframe tbody tr th:only-of-type {\n",
       "        vertical-align: middle;\n",
       "    }\n",
       "\n",
       "    .dataframe tbody tr th {\n",
       "        vertical-align: top;\n",
       "    }\n",
       "\n",
       "    .dataframe thead th {\n",
       "        text-align: right;\n",
       "    }\n",
       "</style>\n",
       "<table border=\"1\" class=\"dataframe\">\n",
       "  <thead>\n",
       "    <tr style=\"text-align: right;\">\n",
       "      <th></th>\n",
       "      <th>isim</th>\n",
       "      <th>yaş</th>\n",
       "      <th>iş-meslek</th>\n",
       "    </tr>\n",
       "  </thead>\n",
       "  <tbody>\n",
       "    <tr>\n",
       "      <th>3</th>\n",
       "      <td>Emre</td>\n",
       "      <td>23</td>\n",
       "      <td>yönetici</td>\n",
       "    </tr>\n",
       "    <tr>\n",
       "      <th>4</th>\n",
       "      <td>Ersin</td>\n",
       "      <td>37</td>\n",
       "      <td>amir</td>\n",
       "    </tr>\n",
       "    <tr>\n",
       "      <th>5</th>\n",
       "      <td>Sertaç</td>\n",
       "      <td>52</td>\n",
       "      <td>mühendis</td>\n",
       "    </tr>\n",
       "    <tr>\n",
       "      <th>6</th>\n",
       "      <td>Furkan</td>\n",
       "      <td>30</td>\n",
       "      <td>yönetici</td>\n",
       "    </tr>\n",
       "    <tr>\n",
       "      <th>7</th>\n",
       "      <td>Murat</td>\n",
       "      <td>23</td>\n",
       "      <td>müdür</td>\n",
       "    </tr>\n",
       "    <tr>\n",
       "      <th>8</th>\n",
       "      <td>Ahmet</td>\n",
       "      <td>40</td>\n",
       "      <td>veteriner</td>\n",
       "    </tr>\n",
       "    <tr>\n",
       "      <th>9</th>\n",
       "      <td>Abdülkadir</td>\n",
       "      <td>38</td>\n",
       "      <td>yönetici</td>\n",
       "    </tr>\n",
       "  </tbody>\n",
       "</table>\n",
       "</div>"
      ],
      "text/plain": [
       "         isim  yaş  iş-meslek\n",
       "3        Emre   23   yönetici\n",
       "4       Ersin   37       amir\n",
       "5      Sertaç   52   mühendis\n",
       "6      Furkan   30   yönetici\n",
       "7       Murat   23      müdür\n",
       "8       Ahmet   40  veteriner\n",
       "9  Abdülkadir   38   yönetici"
      ]
     },
     "execution_count": 10,
     "metadata": {},
     "output_type": "execute_result"
    }
   ],
   "source": [
    "veri.tail(7)"
   ]
  },
  {
   "cell_type": "markdown",
   "id": "4ff6b21d",
   "metadata": {},
   "source": [
    "## columns Fonksiyonu\n",
    "\n",
    "**columns** fonksiyonu, oluşturulan ya da içe aktarılan Veri Çerçevelerinin başlık satırını çıktı olarak verir / görüntüler. **columns** fonksiyonunu kullanırken sonunda <u>parantez işaretleri kullanmadığımıza</u> dikkat edin.\n",
    "\n",
    "Sütun isimlerini değiştirmek ya da veri çerçevesine filtreleme işlemi uygulamak istediğimiz zaman, bu fonksiyon çok işimize yarar."
   ]
  },
  {
   "cell_type": "code",
   "execution_count": 11,
   "id": "f7e57112",
   "metadata": {},
   "outputs": [
    {
     "data": {
      "text/plain": [
       "Index(['isim', 'yaş', 'iş-meslek'], dtype='object')"
      ]
     },
     "execution_count": 11,
     "metadata": {},
     "output_type": "execute_result"
    }
   ],
   "source": [
    "veri.columns"
   ]
  },
  {
   "cell_type": "markdown",
   "id": "8a550109",
   "metadata": {},
   "source": [
    "## len() Fonksiyonu\n",
    "\n",
    "**len()** foknsiyonu, Veri Çerçevesinin kaç satırdan oluştuğunu bildirir."
   ]
  },
  {
   "cell_type": "code",
   "execution_count": 12,
   "id": "20fd6a47",
   "metadata": {},
   "outputs": [
    {
     "data": {
      "text/plain": [
       "10"
      ]
     },
     "execution_count": 12,
     "metadata": {},
     "output_type": "execute_result"
    }
   ],
   "source": [
    "len(veri)"
   ]
  },
  {
   "cell_type": "markdown",
   "id": "17c6dbc0",
   "metadata": {},
   "source": [
    "Çıktıdan anladığımız kadarıyla, **veri** isimli veri çerçevesi, 10 satırlık bir yapıdan oluşuyor.\n",
    "\n",
    "## info() Fonksiyonu\n",
    "\n",
    "**info()** fonksiyonu, Veri Çerçevesinin satır ve sütun sayısı, başlık tipleri (sayı, metin, ...vb) ve doluluk oranı (boş olmayan hücre sayısı) hakkında bilgi görüntüler."
   ]
  },
  {
   "cell_type": "code",
   "execution_count": 13,
   "id": "0fdf7346",
   "metadata": {},
   "outputs": [
    {
     "name": "stdout",
     "output_type": "stream",
     "text": [
      "<class 'pandas.core.frame.DataFrame'>\n",
      "RangeIndex: 10 entries, 0 to 9\n",
      "Data columns (total 3 columns):\n",
      " #   Column     Non-Null Count  Dtype \n",
      "---  ------     --------------  ----- \n",
      " 0   isim       10 non-null     object\n",
      " 1   yaş        10 non-null     int64 \n",
      " 2   iş-meslek  10 non-null     object\n",
      "dtypes: int64(1), object(2)\n",
      "memory usage: 368.0+ bytes\n"
     ]
    }
   ],
   "source": [
    "veri.info()"
   ]
  },
  {
   "cell_type": "markdown",
   "id": "4e28f5f1",
   "metadata": {},
   "source": [
    "<u>Çıktıyı incelersek;</u>\n",
    "\n",
    "**class 'pandas.core.frame.DataFrame** : **veri**'nin Pandas sınıfına ait bir DataFrame yapısı olduğunu,\n",
    "\n",
    "**RangeIndex: 10 entries, 0 to 9** : Veri Çerçevesinin 0 ile 9 arasında, toplam 10 satırlık yapı olduğunu,\n",
    "\n",
    "**Data columns (total 3 columns)** : Veri Çerçevesinin 3 sütundan oluştuğunu,\n",
    "\n",
    "**Column** : Sütun isimlerini,\n",
    "\n",
    "**Non-Null Count** : Boş olmayan veri sayısını,\n",
    "\n",
    "**Dtype** : Veri biçimini tanımlar.\n",
    "\n",
    "**int34** ya da int64 **ibaresi**, **tamsayı (integer)** olduğunu, **object** ibaresi, verinin **metin (string)** ifadesi olduğunu,\n",
    "\n",
    "**dtypes: int64(1), object(2)** : Veri Çerçevesinin 1 adet tamsayı (**int64(1)**), 2 adet metinsel (string / **object(2)**) başlık/sütun içerdiğini temsil eder.\n",
    "\n",
    "## dtypes Fonksiyonu\n",
    "\n",
    "**dtypes** fonksiyonu, veri çerçevesinin başlık tiplerini görüntüler. **dtypes** fonksiyonunu kullanırken sonunda <u>parantez işaretleri kullanmadığımıza</u> dikkat edin."
   ]
  },
  {
   "cell_type": "code",
   "execution_count": 14,
   "id": "c79d57b5",
   "metadata": {},
   "outputs": [
    {
     "data": {
      "text/plain": [
       "isim         object\n",
       "yaş           int64\n",
       "iş-meslek    object\n",
       "dtype: object"
      ]
     },
     "execution_count": 14,
     "metadata": {},
     "output_type": "execute_result"
    }
   ],
   "source": [
    "veri.dtypes"
   ]
  },
  {
   "cell_type": "markdown",
   "id": "3567ef16",
   "metadata": {},
   "source": [
    "## describe() Fonksiyonu\n",
    "\n",
    "**describe()** fonksiyonu, sayısal veri barındıran sütunlar hakkında detaylı matematiksel bilgiler verir."
   ]
  },
  {
   "cell_type": "code",
   "execution_count": 15,
   "id": "e7e3dc46",
   "metadata": {},
   "outputs": [
    {
     "data": {
      "text/html": [
       "<div>\n",
       "<style scoped>\n",
       "    .dataframe tbody tr th:only-of-type {\n",
       "        vertical-align: middle;\n",
       "    }\n",
       "\n",
       "    .dataframe tbody tr th {\n",
       "        vertical-align: top;\n",
       "    }\n",
       "\n",
       "    .dataframe thead th {\n",
       "        text-align: right;\n",
       "    }\n",
       "</style>\n",
       "<table border=\"1\" class=\"dataframe\">\n",
       "  <thead>\n",
       "    <tr style=\"text-align: right;\">\n",
       "      <th></th>\n",
       "      <th>yaş</th>\n",
       "    </tr>\n",
       "  </thead>\n",
       "  <tbody>\n",
       "    <tr>\n",
       "      <th>count</th>\n",
       "      <td>10.000000</td>\n",
       "    </tr>\n",
       "    <tr>\n",
       "      <th>mean</th>\n",
       "      <td>34.700000</td>\n",
       "    </tr>\n",
       "    <tr>\n",
       "      <th>std</th>\n",
       "      <td>9.333929</td>\n",
       "    </tr>\n",
       "    <tr>\n",
       "      <th>min</th>\n",
       "      <td>23.000000</td>\n",
       "    </tr>\n",
       "    <tr>\n",
       "      <th>25%</th>\n",
       "      <td>26.250000</td>\n",
       "    </tr>\n",
       "    <tr>\n",
       "      <th>50%</th>\n",
       "      <td>37.500000</td>\n",
       "    </tr>\n",
       "    <tr>\n",
       "      <th>75%</th>\n",
       "      <td>39.500000</td>\n",
       "    </tr>\n",
       "    <tr>\n",
       "      <th>max</th>\n",
       "      <td>52.000000</td>\n",
       "    </tr>\n",
       "  </tbody>\n",
       "</table>\n",
       "</div>"
      ],
      "text/plain": [
       "             yaş\n",
       "count  10.000000\n",
       "mean   34.700000\n",
       "std     9.333929\n",
       "min    23.000000\n",
       "25%    26.250000\n",
       "50%    37.500000\n",
       "75%    39.500000\n",
       "max    52.000000"
      ]
     },
     "execution_count": 15,
     "metadata": {},
     "output_type": "execute_result"
    }
   ],
   "source": [
    "veri.describe()"
   ]
  },
  {
   "cell_type": "markdown",
   "id": "c2443e06",
   "metadata": {},
   "source": [
    "<u>Çıktıyı incelersek;</u>\n",
    "\n",
    "**count :** yaş isimli sütunda kaç adet veri olduğunu,\n",
    "\n",
    "**mean :** yaş isimli sütudaki verilerin ortalamasını,\n",
    "\n",
    "**std :** yaş isimli sütudaki verilerin standart sapmasını,\n",
    "\n",
    "**min:** yaş isimli sütudaki verilerin en küçük değerini\n",
    "\n",
    "**%25 :** yaş isimli sütundaki verilerin medyanın alt çeyreğini (dörttebirliğini),\n",
    "\n",
    "**%50 :** yaş isimli sütundaki verilerin Ortanca medyanını,\n",
    "\n",
    "**%75 :** yaş isimli sütundaki verilerin medyanın üst çeyreğini (dörttebirliğini),\n",
    "\n",
    "**max :** yaş isimli sütudaki verilerin en büyük değerini, tanımlar\n",
    "\n",
    "## shape Metodu\n",
    "\n",
    "Veri Çerçevesinin yapısını yani satır ve sütun bilgisini öğrenmek için shape metodunu kullanabiliriz."
   ]
  },
  {
   "cell_type": "code",
   "execution_count": 16,
   "id": "11c8d2c4",
   "metadata": {},
   "outputs": [
    {
     "data": {
      "text/plain": [
       "(10, 3)"
      ]
     },
     "execution_count": 16,
     "metadata": {},
     "output_type": "execute_result"
    }
   ],
   "source": [
    "veri.shape"
   ]
  },
  {
   "cell_type": "markdown",
   "id": "67276308",
   "metadata": {},
   "source": [
    "Çıktıdan anladığımıza göre veri isimli veri çerçevesi, 10 satır ve 3 sütundan oluşan bir yapıdır.\n",
    "\n",
    "## iloc Metodu\n",
    "\n",
    "Veri Çerçevesindeki istenilen satırı görüntülemek için **iloc** metodu kullanılır. **iloc** kelimesini unutmamak için **İndex Location** yani, **Konum İndeksi/numarası** gibi düşünebilir, kafanıza kodlayabilirsiniz."
   ]
  },
  {
   "cell_type": "code",
   "execution_count": 17,
   "id": "f4f1f78c",
   "metadata": {},
   "outputs": [
    {
     "data": {
      "text/plain": [
       "isim           Sertaç\n",
       "yaş                52\n",
       "iş-meslek    mühendis\n",
       "Name: 5, dtype: object"
      ]
     },
     "execution_count": 17,
     "metadata": {},
     "output_type": "execute_result"
    }
   ],
   "source": [
    "veri.iloc[5]"
   ]
  },
  {
   "cell_type": "markdown",
   "id": "4313fd7f",
   "metadata": {},
   "source": [
    "## loc Metodu\n",
    "\n",
    "**iloc** metoduna benzer bir metottur ancak **loc** metodunda, görüntülemek istediğimiz satırın indeks ismi yazmalıyız. Elimizde aşağıdaki gibi bir veri çerçevesi olduğunu düşünürsek;"
   ]
  },
  {
   "cell_type": "code",
   "execution_count": 19,
   "id": "68d90b4f",
   "metadata": {},
   "outputs": [
    {
     "data": {
      "text/html": [
       "<div>\n",
       "<style scoped>\n",
       "    .dataframe tbody tr th:only-of-type {\n",
       "        vertical-align: middle;\n",
       "    }\n",
       "\n",
       "    .dataframe tbody tr th {\n",
       "        vertical-align: top;\n",
       "    }\n",
       "\n",
       "    .dataframe thead th {\n",
       "        text-align: right;\n",
       "    }\n",
       "</style>\n",
       "<table border=\"1\" class=\"dataframe\">\n",
       "  <thead>\n",
       "    <tr style=\"text-align: right;\">\n",
       "      <th></th>\n",
       "      <th>Team</th>\n",
       "      <th>Number</th>\n",
       "      <th>Position</th>\n",
       "      <th>Age</th>\n",
       "      <th>Height</th>\n",
       "      <th>Weight</th>\n",
       "      <th>College</th>\n",
       "      <th>Salary</th>\n",
       "    </tr>\n",
       "    <tr>\n",
       "      <th>Name</th>\n",
       "      <th></th>\n",
       "      <th></th>\n",
       "      <th></th>\n",
       "      <th></th>\n",
       "      <th></th>\n",
       "      <th></th>\n",
       "      <th></th>\n",
       "      <th></th>\n",
       "    </tr>\n",
       "  </thead>\n",
       "  <tbody>\n",
       "    <tr>\n",
       "      <th>Avery Bradley</th>\n",
       "      <td>Boston Celtics</td>\n",
       "      <td>0.0</td>\n",
       "      <td>PG</td>\n",
       "      <td>25.0</td>\n",
       "      <td>6-2</td>\n",
       "      <td>180.0</td>\n",
       "      <td>Texas</td>\n",
       "      <td>7730337.0</td>\n",
       "    </tr>\n",
       "    <tr>\n",
       "      <th>Jae Crowder</th>\n",
       "      <td>Boston Celtics</td>\n",
       "      <td>99.0</td>\n",
       "      <td>SF</td>\n",
       "      <td>25.0</td>\n",
       "      <td>6-6</td>\n",
       "      <td>235.0</td>\n",
       "      <td>Marquette</td>\n",
       "      <td>6796117.0</td>\n",
       "    </tr>\n",
       "    <tr>\n",
       "      <th>John Holland</th>\n",
       "      <td>Boston Celtics</td>\n",
       "      <td>30.0</td>\n",
       "      <td>SG</td>\n",
       "      <td>27.0</td>\n",
       "      <td>6-5</td>\n",
       "      <td>205.0</td>\n",
       "      <td>Boston University</td>\n",
       "      <td>NaN</td>\n",
       "    </tr>\n",
       "    <tr>\n",
       "      <th>R.J. Hunter</th>\n",
       "      <td>Boston Celtics</td>\n",
       "      <td>28.0</td>\n",
       "      <td>SG</td>\n",
       "      <td>22.0</td>\n",
       "      <td>6-5</td>\n",
       "      <td>185.0</td>\n",
       "      <td>Georgia State</td>\n",
       "      <td>1148640.0</td>\n",
       "    </tr>\n",
       "    <tr>\n",
       "      <th>Jonas Jerebko</th>\n",
       "      <td>Boston Celtics</td>\n",
       "      <td>8.0</td>\n",
       "      <td>PF</td>\n",
       "      <td>29.0</td>\n",
       "      <td>6-10</td>\n",
       "      <td>231.0</td>\n",
       "      <td>NaN</td>\n",
       "      <td>5000000.0</td>\n",
       "    </tr>\n",
       "  </tbody>\n",
       "</table>\n",
       "</div>"
      ],
      "text/plain": [
       "                         Team  Number Position   Age Height  Weight  \\\n",
       "Name                                                                  \n",
       "Avery Bradley  Boston Celtics     0.0       PG  25.0    6-2   180.0   \n",
       "Jae Crowder    Boston Celtics    99.0       SF  25.0    6-6   235.0   \n",
       "John Holland   Boston Celtics    30.0       SG  27.0    6-5   205.0   \n",
       "R.J. Hunter    Boston Celtics    28.0       SG  22.0    6-5   185.0   \n",
       "Jonas Jerebko  Boston Celtics     8.0       PF  29.0   6-10   231.0   \n",
       "\n",
       "                         College     Salary  \n",
       "Name                                         \n",
       "Avery Bradley              Texas  7730337.0  \n",
       "Jae Crowder            Marquette  6796117.0  \n",
       "John Holland   Boston University        NaN  \n",
       "R.J. Hunter        Georgia State  1148640.0  \n",
       "Jonas Jerebko                NaN  5000000.0  "
      ]
     },
     "execution_count": 19,
     "metadata": {},
     "output_type": "execute_result"
    }
   ],
   "source": [
    "nba_csv = pd.read_csv(\"Veri_Setleri/nba.csv\", index_col=\"Name\")\n",
    "nba_csv.head()"
   ]
  },
  {
   "cell_type": "markdown",
   "id": "d3de32dd",
   "metadata": {},
   "source": [
    "**John Holland** isimli satır verisine ulaşmak için **loc** metoduna **John Holland** metinsel (string) ibaresini eklemeliyiz."
   ]
  },
  {
   "cell_type": "code",
   "execution_count": 20,
   "id": "369a4678",
   "metadata": {},
   "outputs": [
    {
     "data": {
      "text/plain": [
       "Team           Boston Celtics\n",
       "Number                   30.0\n",
       "Position                   SG\n",
       "Age                      27.0\n",
       "Height                    6-5\n",
       "Weight                  205.0\n",
       "College     Boston University\n",
       "Salary                    NaN\n",
       "Name: John Holland, dtype: object"
      ]
     },
     "execution_count": 20,
     "metadata": {},
     "output_type": "execute_result"
    }
   ],
   "source": [
    "nba_csv.loc[\"John Holland\"]"
   ]
  }
 ],
 "metadata": {
  "kernelspec": {
   "display_name": "Python 3 (ipykernel)",
   "language": "python",
   "name": "python3"
  },
  "language_info": {
   "codemirror_mode": {
    "name": "ipython",
    "version": 3
   },
   "file_extension": ".py",
   "mimetype": "text/x-python",
   "name": "python",
   "nbconvert_exporter": "python",
   "pygments_lexer": "ipython3",
   "version": "3.10.4"
  }
 },
 "nbformat": 4,
 "nbformat_minor": 5
}
