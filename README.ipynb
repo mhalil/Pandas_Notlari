{
 "cells": [
  {
   "cell_type": "markdown",
   "id": "80930684",
   "metadata": {},
   "source": [
    "# PANDAS NEDİR?\n",
    "\n",
    "Pandas Kütüphanesinin ne olduğu ve bu kütüphane ile (**Özellikle Veri Çerçevesi (Data Frame) konusunda**) neler yapılabildiğine dair öğrendiklerimi paylaştığım repo.\n",
    "\n",
    "Pandas, veri işleme ve veri analizi için Python Python programlama dilinde yazılmış olan bir Python kütüphanesidir. \n",
    "Bu kütüphane, **Seriler (Series)** ve **Veri Çerçevesi (DataFrame)** isimli iki veri yapısının üzerine kurulmuştur. serileri tek boyutlu diziler, veri çerçevelerini ise iki boyutlu matrisler (SQL ya da Excel tabloları) gibi düşünebiliriz.\n",
    "\n",
    "Kütüphane özellikleri\n",
    "\n",
    "- İndeksli DataFrame (veri çerçevesi) objeleri ile veri işlemesi yapabilmek.\n",
    "- Hafızadaki veya farklı türlerde bulunan veriyi okuyabilmek ve yazabilmek için araçlar sağlamak.\n",
    "- Veri sıralama ve bütünleşik kayıp veri senaryolarına karşı esnek imkanlar sunmak\n",
    "- Veri setlerinin tekrar boyutlandırılması veya döndürülmesi.\n",
    "- Etiket bazlı dilimleme, özel indeksleme ve büyük veri setlerini ayrıştırmak\n",
    "- Veri çerçevesine sütun ekleme veya var olan sütunu çıkarma.\n",
    "- Veri gruplama özelliği ile ayırma-uygulama-birleştirme uygulamaları yapılabilmek.\n",
    "- Veri setlerini birleştirilmek ve birbirine eklenmek.\n",
    "- Çok boyutlu veriden, daha az boyutlu veri elde edilebilmek.\n",
    "- Veri filtrelemek.\n",
    "\n",
    "Kütüphane performans konusunda son derece iyidir. Bu yüzden kütüphanenin önemli parçaları CPython ve C üzerinde yazılmışlardır.\n",
    "\n",
    "## Pandas Veri Çerçevesi (Data Frame) Konu Başlıkları\n",
    "\n",
    "1. [Veri Çerçevesi (Data Frame) Oluştur](01_Veri_Cercevesi_Olustur.ipynb)\n",
    "2. [Veriyi Keşfet (İncele)](02_Veriyi_Kesfet_incele.ipynb)\n",
    "3. [Veri Seçim Yöntemleri](03_Secim_Yontemleri.ipynb)\n",
    "4. [Eksik - Kayıp Veri Yöntemleri](04_Eksik_Kayip_Veri_Yontemleri.ipynb)\n",
    "5. [Veri Düzenleme Yöntemleri](05_Duzenleme_Yontemleri.ipynb)\n",
    "6. [Veri Sıralama Yöntemleri](06_Siralama_Yontemleri.ipynb)\n",
    "7. [Veri Filtreleme Yöntemleri](07_Filtreleme_Yontemleri.ipynb)\n",
    "\n",
    "### Ek / İlave Detay Bilgi:\n",
    "* [Excel Dosyaları ile Çalışmak](Excel_Dosyasi_ile_Calis.ipynb)\n"
   ]
  },
  {
   "cell_type": "code",
   "execution_count": null,
   "id": "15037320",
   "metadata": {},
   "outputs": [],
   "source": []
  }
 ],
 "metadata": {
  "kernelspec": {
   "display_name": "Python 3 (ipykernel)",
   "language": "python",
   "name": "python3"
  },
  "language_info": {
   "codemirror_mode": {
    "name": "ipython",
    "version": 3
   },
   "file_extension": ".py",
   "mimetype": "text/x-python",
   "name": "python",
   "nbconvert_exporter": "python",
   "pygments_lexer": "ipython3",
   "version": "3.10.4"
  }
 },
 "nbformat": 4,
 "nbformat_minor": 5
}
