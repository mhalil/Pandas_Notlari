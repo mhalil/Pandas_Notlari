{
 "cells": [
  {
   "cell_type": "markdown",
   "id": "f70fba10",
   "metadata": {},
   "source": [
    "# VERİ TEMİZLEME\n",
    "\n",
    "## KAYIP / EKSİK VERİ TESPİTİ\n",
    "\n",
    "## isnull() Fonksiyonu\n",
    "\n",
    "Veri çerçevemizde eksik veri (excel tablosundaki boş hücre gibi düşünebiliriz) olup olmadığını, varsa kaç adet olduğunu **isnull()** fonksiyonu ile tespit edebiliriz. \n",
    "Hemen inceleyelim bakalım, acaba **IMDB** listemizde eksik veri var mı? varsa hangi sütunda ne kadar eksik veri var?"
   ]
  },
  {
   "cell_type": "code",
   "execution_count": 49,
   "id": "d9689dab",
   "metadata": {
    "scrolled": false
   },
   "outputs": [
    {
     "data": {
      "text/html": [
       "<div>\n",
       "<style scoped>\n",
       "    .dataframe tbody tr th:only-of-type {\n",
       "        vertical-align: middle;\n",
       "    }\n",
       "\n",
       "    .dataframe tbody tr th {\n",
       "        vertical-align: top;\n",
       "    }\n",
       "\n",
       "    .dataframe thead th {\n",
       "        text-align: right;\n",
       "    }\n",
       "</style>\n",
       "<table border=\"1\" class=\"dataframe\">\n",
       "  <thead>\n",
       "    <tr style=\"text-align: right;\">\n",
       "      <th></th>\n",
       "      <th>Yıl</th>\n",
       "      <th>Puan</th>\n",
       "      <th>Oylayan_Kişi</th>\n",
       "    </tr>\n",
       "    <tr>\n",
       "      <th>Film_Adı</th>\n",
       "      <th></th>\n",
       "      <th></th>\n",
       "      <th></th>\n",
       "    </tr>\n",
       "  </thead>\n",
       "  <tbody>\n",
       "    <tr>\n",
       "      <th>The Shawshank Redemption</th>\n",
       "      <td>False</td>\n",
       "      <td>False</td>\n",
       "      <td>False</td>\n",
       "    </tr>\n",
       "    <tr>\n",
       "      <th>The Godfather</th>\n",
       "      <td>False</td>\n",
       "      <td>False</td>\n",
       "      <td>False</td>\n",
       "    </tr>\n",
       "    <tr>\n",
       "      <th>The Godfather: Part II</th>\n",
       "      <td>False</td>\n",
       "      <td>False</td>\n",
       "      <td>False</td>\n",
       "    </tr>\n",
       "    <tr>\n",
       "      <th>Pulp Fiction</th>\n",
       "      <td>False</td>\n",
       "      <td>False</td>\n",
       "      <td>False</td>\n",
       "    </tr>\n",
       "    <tr>\n",
       "      <th>The Dark Knight</th>\n",
       "      <td>False</td>\n",
       "      <td>False</td>\n",
       "      <td>False</td>\n",
       "    </tr>\n",
       "    <tr>\n",
       "      <th>...</th>\n",
       "      <td>...</td>\n",
       "      <td>...</td>\n",
       "      <td>...</td>\n",
       "    </tr>\n",
       "    <tr>\n",
       "      <th>Mystic River</th>\n",
       "      <td>False</td>\n",
       "      <td>False</td>\n",
       "      <td>False</td>\n",
       "    </tr>\n",
       "    <tr>\n",
       "      <th>In the Heat of the Night</th>\n",
       "      <td>False</td>\n",
       "      <td>False</td>\n",
       "      <td>False</td>\n",
       "    </tr>\n",
       "    <tr>\n",
       "      <th>Arsenic and Old Lace</th>\n",
       "      <td>False</td>\n",
       "      <td>False</td>\n",
       "      <td>False</td>\n",
       "    </tr>\n",
       "    <tr>\n",
       "      <th>Before Sunrise</th>\n",
       "      <td>False</td>\n",
       "      <td>False</td>\n",
       "      <td>False</td>\n",
       "    </tr>\n",
       "    <tr>\n",
       "      <th>Papillon</th>\n",
       "      <td>False</td>\n",
       "      <td>False</td>\n",
       "      <td>False</td>\n",
       "    </tr>\n",
       "  </tbody>\n",
       "</table>\n",
       "<p>247 rows × 3 columns</p>\n",
       "</div>"
      ],
      "text/plain": [
       "                             Yıl   Puan  Oylayan_Kişi\n",
       "Film_Adı                                             \n",
       "The Shawshank Redemption   False  False         False\n",
       "The Godfather              False  False         False\n",
       "The Godfather: Part II     False  False         False\n",
       "Pulp Fiction               False  False         False\n",
       "The Dark Knight            False  False         False\n",
       "...                          ...    ...           ...\n",
       "Mystic River               False  False         False\n",
       "In the Heat of the Night   False  False         False\n",
       "Arsenic and Old Lace       False  False         False\n",
       "Before Sunrise             False  False         False\n",
       "Papillon                   False  False         False\n",
       "\n",
       "[247 rows x 3 columns]"
      ]
     },
     "execution_count": 49,
     "metadata": {},
     "output_type": "execute_result"
    }
   ],
   "source": [
    "imdb.isnull()"
   ]
  },
  {
   "cell_type": "markdown",
   "id": "28e38eb7",
   "metadata": {},
   "source": [
    "Görüldüğü üzere, bu fonksiyon, veri çerçevesindeki her hücreye, kayıp/eksik veri olup olmadığı verisini yazıyor. **False** Yanlış, yani Eksik/Kayıp veri **YOK**, **True** ise Doğru yan, Eksik/Kayıp veri **VAR** anlamına gelir.\n",
    "Tabloya tek tek bakmak yerine, tüm sütunlardaki eksik/kayıp verileri python'a saydırıp, sonucu görüntüleyebiliriz.\n",
    "Python'da aşina olduğumuz **sum()** fonksiyonu işimize yarayacaktır."
   ]
  },
  {
   "cell_type": "code",
   "execution_count": 50,
   "id": "aa9371cb",
   "metadata": {
    "scrolled": true
   },
   "outputs": [
    {
     "data": {
      "text/plain": [
       "Yıl             0\n",
       "Puan            0\n",
       "Oylayan_Kişi    0\n",
       "dtype: int64"
      ]
     },
     "execution_count": 50,
     "metadata": {},
     "output_type": "execute_result"
    }
   ],
   "source": [
    "imdb.isnull().sum()"
   ]
  },
  {
   "cell_type": "code",
   "execution_count": null,
   "id": "cbff1890",
   "metadata": {},
   "outputs": [],
   "source": [
    "Gördüğümüz kadarıyla tüm sonuçlar sıfır, yani veri çerçevemizde hiç eksik/kayıp veri bulunmamaktadır."
   ]
  }
 ],
 "metadata": {
  "kernelspec": {
   "display_name": "Python 3 (ipykernel)",
   "language": "python",
   "name": "python3"
  },
  "language_info": {
   "codemirror_mode": {
    "name": "ipython",
    "version": 3
   },
   "file_extension": ".py",
   "mimetype": "text/x-python",
   "name": "python",
   "nbconvert_exporter": "python",
   "pygments_lexer": "ipython3",
   "version": "3.10.4"
  }
 },
 "nbformat": 4,
 "nbformat_minor": 5
}
