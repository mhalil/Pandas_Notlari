{
 "cells": [
  {
   "cell_type": "markdown",
   "id": "2e11446b",
   "metadata": {},
   "source": [
    "# Seçim Yöntemleri\n",
    "\n",
    "# Satır ve Sütun Seçimi\n",
    "\n",
    "## iloc[] Metodu\n",
    "\n",
    "Veri Çerçevesindeki istenilen satır ve sütunu seçmek/görüntülemek için **iloc[]** metodu kullanılır. **iloc[]** kelimesini unutmamak için **İndex Location** yani, **Konumun İndeks Değeri** gibi düşünebilir, hafızanızda kodlayabilirsiniz. Bir başka ifadeyle, <code>iloc[]</code> için, Tamsayı değerine dayalı konum indeksleme metodu diyebiliriz. Esas olarak **iloc[]** metodu, hem satır hem de sütun numarası alarak çalışır.\n",
    "\n",
    "<code>Veri_Cercevesi_Adı.iloc[Satir_Numarası, Sütun_Numarası]</code>"
   ]
  },
  {
   "cell_type": "markdown",
   "id": "2dff819b",
   "metadata": {},
   "source": [
    "<code>iloc[]</code> metodunun alabileceği parametreler şunlardır:\n",
    "\n",
    "* Bir satır ve sütun dizini, ör. <code>(0,1)</code>\n",
    "* Bir tamsayı, ör. <code>5</code>\n",
    "* Bir tamsayı listesi veya dizisi, ör. <code>[4, 3, 0]</code>\n",
    "* Tamsayılı bir dilim nesnesi, ör. <code>1:7</code>\n",
    "* Bir mantık (boole) dizisi.\n",
    "\n",
    "Öncelikle **Pandas** Kütüphanesini içe aktarıp, kodlama esnasında hızlı olması adına bu kütüphaneye **pd** adını atayalım;"
   ]
  },
  {
   "cell_type": "code",
   "execution_count": 1,
   "id": "3ce1831f",
   "metadata": {},
   "outputs": [],
   "source": [
    "import pandas as pd"
   ]
  },
  {
   "cell_type": "markdown",
   "id": "f8d69df9",
   "metadata": {},
   "source": [
    "Bu eğitimde, fonksiyon ve metotlar konusunu anlatırken kullanmak üzere, basit bir Veri Çerçevesi (Data Frame) oluşturalım ve oluşturduğumuz Veri Çerçevesinin içeriğini görelim;"
   ]
  },
  {
   "cell_type": "code",
   "execution_count": 2,
   "id": "432e32eb",
   "metadata": {},
   "outputs": [
    {
     "data": {
      "text/html": [
       "<div>\n",
       "<style scoped>\n",
       "    .dataframe tbody tr th:only-of-type {\n",
       "        vertical-align: middle;\n",
       "    }\n",
       "\n",
       "    .dataframe tbody tr th {\n",
       "        vertical-align: top;\n",
       "    }\n",
       "\n",
       "    .dataframe thead th {\n",
       "        text-align: right;\n",
       "    }\n",
       "</style>\n",
       "<table border=\"1\" class=\"dataframe\">\n",
       "  <thead>\n",
       "    <tr style=\"text-align: right;\">\n",
       "      <th></th>\n",
       "      <th>isim</th>\n",
       "      <th>yaş</th>\n",
       "      <th>iş-meslek</th>\n",
       "    </tr>\n",
       "  </thead>\n",
       "  <tbody>\n",
       "    <tr>\n",
       "      <th>0</th>\n",
       "      <td>Mustafa</td>\n",
       "      <td>25</td>\n",
       "      <td>mühendis</td>\n",
       "    </tr>\n",
       "    <tr>\n",
       "      <th>1</th>\n",
       "      <td>Halil</td>\n",
       "      <td>38</td>\n",
       "      <td>programcı</td>\n",
       "    </tr>\n",
       "    <tr>\n",
       "      <th>2</th>\n",
       "      <td>Burak</td>\n",
       "      <td>41</td>\n",
       "      <td>akademisyen</td>\n",
       "    </tr>\n",
       "    <tr>\n",
       "      <th>3</th>\n",
       "      <td>Emre</td>\n",
       "      <td>23</td>\n",
       "      <td>yönetici</td>\n",
       "    </tr>\n",
       "    <tr>\n",
       "      <th>4</th>\n",
       "      <td>Ersin</td>\n",
       "      <td>37</td>\n",
       "      <td>amir</td>\n",
       "    </tr>\n",
       "    <tr>\n",
       "      <th>5</th>\n",
       "      <td>Sertaç</td>\n",
       "      <td>52</td>\n",
       "      <td>mühendis</td>\n",
       "    </tr>\n",
       "    <tr>\n",
       "      <th>6</th>\n",
       "      <td>Furkan</td>\n",
       "      <td>30</td>\n",
       "      <td>yönetici</td>\n",
       "    </tr>\n",
       "    <tr>\n",
       "      <th>7</th>\n",
       "      <td>Murat</td>\n",
       "      <td>23</td>\n",
       "      <td>müdür</td>\n",
       "    </tr>\n",
       "    <tr>\n",
       "      <th>8</th>\n",
       "      <td>Ahmet</td>\n",
       "      <td>40</td>\n",
       "      <td>veteriner</td>\n",
       "    </tr>\n",
       "    <tr>\n",
       "      <th>9</th>\n",
       "      <td>Abdülkadir</td>\n",
       "      <td>38</td>\n",
       "      <td>yönetici</td>\n",
       "    </tr>\n",
       "  </tbody>\n",
       "</table>\n",
       "</div>"
      ],
      "text/plain": [
       "         isim  yaş    iş-meslek\n",
       "0     Mustafa   25     mühendis\n",
       "1       Halil   38    programcı\n",
       "2       Burak   41  akademisyen\n",
       "3        Emre   23     yönetici\n",
       "4       Ersin   37         amir\n",
       "5      Sertaç   52     mühendis\n",
       "6      Furkan   30     yönetici\n",
       "7       Murat   23        müdür\n",
       "8       Ahmet   40    veteriner\n",
       "9  Abdülkadir   38     yönetici"
      ]
     },
     "execution_count": 2,
     "metadata": {},
     "output_type": "execute_result"
    }
   ],
   "source": [
    "sozluk = {\"isim\" : [\"Mustafa\", \"Halil\", \"Burak\", \"Emre\", \"Ersin\", \"Sertaç\", \"Furkan\",\"Murat\",\"Ahmet\",\"Abdülkadir\"],\n",
    "                    \"yaş\" : [25, 38, 41, 23, 37, 52, 30, 23, 40, 38],\n",
    "                   \"iş-meslek\" : [\"mühendis\", \"programcı\", \"akademisyen\", \"yönetici\",\"amir\",\"mühendis\", \"yönetici\",\"müdür\",\"veteriner\",\"yönetici\"]}\n",
    "veri = pd.DataFrame(sozluk)\n",
    "veri"
   ]
  },
  {
   "cell_type": "markdown",
   "id": "c198cbfa",
   "metadata": {},
   "source": [
    "Verimizi <code>.iloc[]</code> metodu ile seçelim. "
   ]
  },
  {
   "cell_type": "code",
   "execution_count": 19,
   "id": "6acdc103",
   "metadata": {},
   "outputs": [
    {
     "data": {
      "text/plain": [
       "'veteriner'"
      ]
     },
     "execution_count": 19,
     "metadata": {},
     "output_type": "execute_result"
    }
   ],
   "source": [
    "veri.iloc[8,2]"
   ]
  },
  {
   "cell_type": "markdown",
   "id": "eb6f5458",
   "metadata": {},
   "source": [
    "<code>iloc[]</code> metodu, parametre olarak tam sayı alabileceği gibi, sayı listesi de alabilir. Bildiğiniz gibi Python'da liste veri tipleri köşeli parantez <code>[]</code> ile ifade ediliyor. O nedenle <code>iloc[]</code> metoduna parametre olarak liste veri tipi girileceği zaman içiçe köşeli parantezler (hem satıra hemde sütuna ait listeler yazılacağı için) konuyu yeni öğrenenlerde kafa karışıklığına sebep olabilir. Anlatmak istediğimi aşağıdaki koda bakarak rahatlıkla anlayabilirsiniz.\n",
    "\n",
    "<code>iloc[[satır_listesi], [sütun_listesi]]</code>"
   ]
  },
  {
   "cell_type": "code",
   "execution_count": 6,
   "id": "9cf170ba",
   "metadata": {
    "scrolled": false
   },
   "outputs": [
    {
     "data": {
      "text/html": [
       "<div>\n",
       "<style scoped>\n",
       "    .dataframe tbody tr th:only-of-type {\n",
       "        vertical-align: middle;\n",
       "    }\n",
       "\n",
       "    .dataframe tbody tr th {\n",
       "        vertical-align: top;\n",
       "    }\n",
       "\n",
       "    .dataframe thead th {\n",
       "        text-align: right;\n",
       "    }\n",
       "</style>\n",
       "<table border=\"1\" class=\"dataframe\">\n",
       "  <thead>\n",
       "    <tr style=\"text-align: right;\">\n",
       "      <th></th>\n",
       "      <th>isim</th>\n",
       "      <th>iş-meslek</th>\n",
       "    </tr>\n",
       "  </thead>\n",
       "  <tbody>\n",
       "    <tr>\n",
       "      <th>1</th>\n",
       "      <td>Halil</td>\n",
       "      <td>programcı</td>\n",
       "    </tr>\n",
       "    <tr>\n",
       "      <th>3</th>\n",
       "      <td>Emre</td>\n",
       "      <td>yönetici</td>\n",
       "    </tr>\n",
       "    <tr>\n",
       "      <th>5</th>\n",
       "      <td>Sertaç</td>\n",
       "      <td>mühendis</td>\n",
       "    </tr>\n",
       "  </tbody>\n",
       "</table>\n",
       "</div>"
      ],
      "text/plain": [
       "     isim  iş-meslek\n",
       "1   Halil  programcı\n",
       "3    Emre   yönetici\n",
       "5  Sertaç   mühendis"
      ]
     },
     "execution_count": 6,
     "metadata": {},
     "output_type": "execute_result"
    }
   ],
   "source": [
    "veri.iloc[[1,3,5],[0,2]]"
   ]
  },
  {
   "cell_type": "markdown",
   "id": "73991ea8",
   "metadata": {},
   "source": [
    "## Sadece Satırları İndekslemek\n",
    "\n",
    "### Bir Tamsayı ile Satır Seçimi\n",
    "<code>iloc[]</code> metoduna parametre olarak sadece **bir tamsayı değeri** girildiğinde, girilen sayıya (indeks bilgisine) ait **satır** verisi döndürülür. Hemen aşağıdaki örneğe bakalım."
   ]
  },
  {
   "cell_type": "code",
   "execution_count": 17,
   "id": "fd9a9159",
   "metadata": {
    "scrolled": true
   },
   "outputs": [
    {
     "data": {
      "text/plain": [
       "isim           Sertaç\n",
       "yaş                52\n",
       "iş-meslek    mühendis\n",
       "Name: 5, dtype: object"
      ]
     },
     "execution_count": 17,
     "metadata": {},
     "output_type": "execute_result"
    }
   ],
   "source": [
    "veri.iloc[5]"
   ]
  },
  {
   "cell_type": "markdown",
   "id": "081f90be",
   "metadata": {},
   "source": [
    "### Bir Sayı Listesi ile Satır Seçimi\n",
    "Veri çerçevemizden **belirli bazı satırları** seçmek istersek <code>iloc[]</code> metoduna parametre olarak bir **liste** tanımlamalıyız. Bu liste, bir satırdan başlayıp diğer bir satıra kadar olan aralık (dilimleme) olabileceği gibi tek tek te belirtilebilir. Şimdi bunları inceleyelim.\n",
    "\n",
    "Örneğin veri çerçevemizde indeks değeri 3, 5 ve 7 olan satırları seçmek istersek aşağıdaki şekilde kod ayzmamız gerekir."
   ]
  },
  {
   "cell_type": "code",
   "execution_count": 3,
   "id": "1d209d40",
   "metadata": {
    "scrolled": true
   },
   "outputs": [
    {
     "data": {
      "text/html": [
       "<div>\n",
       "<style scoped>\n",
       "    .dataframe tbody tr th:only-of-type {\n",
       "        vertical-align: middle;\n",
       "    }\n",
       "\n",
       "    .dataframe tbody tr th {\n",
       "        vertical-align: top;\n",
       "    }\n",
       "\n",
       "    .dataframe thead th {\n",
       "        text-align: right;\n",
       "    }\n",
       "</style>\n",
       "<table border=\"1\" class=\"dataframe\">\n",
       "  <thead>\n",
       "    <tr style=\"text-align: right;\">\n",
       "      <th></th>\n",
       "      <th>isim</th>\n",
       "      <th>yaş</th>\n",
       "      <th>iş-meslek</th>\n",
       "    </tr>\n",
       "  </thead>\n",
       "  <tbody>\n",
       "    <tr>\n",
       "      <th>3</th>\n",
       "      <td>Emre</td>\n",
       "      <td>23</td>\n",
       "      <td>yönetici</td>\n",
       "    </tr>\n",
       "    <tr>\n",
       "      <th>5</th>\n",
       "      <td>Sertaç</td>\n",
       "      <td>52</td>\n",
       "      <td>mühendis</td>\n",
       "    </tr>\n",
       "    <tr>\n",
       "      <th>7</th>\n",
       "      <td>Murat</td>\n",
       "      <td>23</td>\n",
       "      <td>müdür</td>\n",
       "    </tr>\n",
       "  </tbody>\n",
       "</table>\n",
       "</div>"
      ],
      "text/plain": [
       "     isim  yaş iş-meslek\n",
       "3    Emre   23  yönetici\n",
       "5  Sertaç   52  mühendis\n",
       "7   Murat   23     müdür"
      ]
     },
     "execution_count": 3,
     "metadata": {},
     "output_type": "execute_result"
    }
   ],
   "source": [
    "veri.iloc[[3,5,7]]"
   ]
  },
  {
   "cell_type": "markdown",
   "id": "00013faf",
   "metadata": {},
   "source": [
    "<code>veri.iloc[[3,5,7]]</code> koduna dikkat ederseniz <code>iloc[]</code> metoduna parametre olarak sadece bir adet köşeli parantez yazıldı, ikinci köşeli parantez yazılmadı. Bu demek oluyor ki, **parametre olarak sadece satır bilgisi** var yani sütunlarda seçme ya da kısıtlamaya işlemi yapılmadı, tüm sütun bilgileri gösterilmeli. Zaten Çıktıya baktığımızda anlattığımız gibi sonuç elde ettiğimizi görüyoruz.\n",
    "\n",
    "### Dilimleyerek Satır Seçimi\n",
    "Python'da **listeler** konusunu okuduğunuzda, dilimlemenin nasıl yapıldığını da görmüş olmalısınız. Kısaca bahsedecek olursak, dilimleme için <code>:</code> karakteri kullanılır. <code>:</code> karakterinin solunda **başlangıç**, sağında **bitiş** değeri yazılır. Elimizde veri çerçevemizin indeks değerleri gibi **0 ile 9** arasında sayılardan oluşan bir liste varsa, bu listeden aralık seçmek yani dilimleme yapmak istersek aşağıdaki kodu yazmalıyız.\n",
    "\n",
    "<code>[1:5]</code>\n",
    "\n",
    "Bu kodun anlamı, 1. öğeden başlayarak **5. öğeye kadar** (yani 5. öğe dahil **DEĞİL**) dilimleme yap, 1,2,3,4 sonucunu ver.\n",
    "\n",
    "<code>[3:]</code>\n",
    "\n",
    "Bu kodun anlamı, **3. öğeden başlayarak** listenin sonuna kadar dilimleme yap, 3,4,5,6,7,8,9 sonucunu ver.\n",
    "\n",
    "<code>[3:]</code> koduna dikkat ederseniz, <code>:</code>'dan sonra kısıtlama/sınırlama getirilmemiştir, yani liste sona kadar devam eder.\n",
    "\n",
    "Bir aralık belirterek veri çerçevemizde dilimleme yapalım ve sonucu görelim;"
   ]
  },
  {
   "cell_type": "code",
   "execution_count": 4,
   "id": "376c61a7",
   "metadata": {
    "scrolled": false
   },
   "outputs": [
    {
     "data": {
      "text/html": [
       "<div>\n",
       "<style scoped>\n",
       "    .dataframe tbody tr th:only-of-type {\n",
       "        vertical-align: middle;\n",
       "    }\n",
       "\n",
       "    .dataframe tbody tr th {\n",
       "        vertical-align: top;\n",
       "    }\n",
       "\n",
       "    .dataframe thead th {\n",
       "        text-align: right;\n",
       "    }\n",
       "</style>\n",
       "<table border=\"1\" class=\"dataframe\">\n",
       "  <thead>\n",
       "    <tr style=\"text-align: right;\">\n",
       "      <th></th>\n",
       "      <th>isim</th>\n",
       "      <th>yaş</th>\n",
       "      <th>iş-meslek</th>\n",
       "    </tr>\n",
       "  </thead>\n",
       "  <tbody>\n",
       "    <tr>\n",
       "      <th>1</th>\n",
       "      <td>Halil</td>\n",
       "      <td>38</td>\n",
       "      <td>programcı</td>\n",
       "    </tr>\n",
       "    <tr>\n",
       "      <th>2</th>\n",
       "      <td>Burak</td>\n",
       "      <td>41</td>\n",
       "      <td>akademisyen</td>\n",
       "    </tr>\n",
       "    <tr>\n",
       "      <th>3</th>\n",
       "      <td>Emre</td>\n",
       "      <td>23</td>\n",
       "      <td>yönetici</td>\n",
       "    </tr>\n",
       "    <tr>\n",
       "      <th>4</th>\n",
       "      <td>Ersin</td>\n",
       "      <td>37</td>\n",
       "      <td>amir</td>\n",
       "    </tr>\n",
       "  </tbody>\n",
       "</table>\n",
       "</div>"
      ],
      "text/plain": [
       "    isim  yaş    iş-meslek\n",
       "1  Halil   38    programcı\n",
       "2  Burak   41  akademisyen\n",
       "3   Emre   23     yönetici\n",
       "4  Ersin   37         amir"
      ]
     },
     "execution_count": 4,
     "metadata": {},
     "output_type": "execute_result"
    }
   ],
   "source": [
    "veri.iloc[1:5]"
   ]
  },
  {
   "cell_type": "markdown",
   "id": "e50f5b7c",
   "metadata": {},
   "source": [
    "Dilimleme yaparken <code>iloc[]</code> metodunun içine ayrıca köşeli parantez **kullanmadığımıza** dikkat edin. \n",
    "\n",
    "Belirli bir satırdan başlayıp, veri çerçevesinin sonuna kadar giden bir dilimleme yapmak istersek, aşağıda bulunan kod gibi <code>:</code>'nin sağına değer yazmamalı, boş bırakmalıyız."
   ]
  },
  {
   "cell_type": "code",
   "execution_count": 13,
   "id": "ea2c3951",
   "metadata": {
    "scrolled": true
   },
   "outputs": [
    {
     "data": {
      "text/html": [
       "<div>\n",
       "<style scoped>\n",
       "    .dataframe tbody tr th:only-of-type {\n",
       "        vertical-align: middle;\n",
       "    }\n",
       "\n",
       "    .dataframe tbody tr th {\n",
       "        vertical-align: top;\n",
       "    }\n",
       "\n",
       "    .dataframe thead th {\n",
       "        text-align: right;\n",
       "    }\n",
       "</style>\n",
       "<table border=\"1\" class=\"dataframe\">\n",
       "  <thead>\n",
       "    <tr style=\"text-align: right;\">\n",
       "      <th></th>\n",
       "      <th>isim</th>\n",
       "      <th>yaş</th>\n",
       "      <th>iş-meslek</th>\n",
       "    </tr>\n",
       "  </thead>\n",
       "  <tbody>\n",
       "    <tr>\n",
       "      <th>3</th>\n",
       "      <td>Emre</td>\n",
       "      <td>23</td>\n",
       "      <td>yönetici</td>\n",
       "    </tr>\n",
       "    <tr>\n",
       "      <th>4</th>\n",
       "      <td>Ersin</td>\n",
       "      <td>37</td>\n",
       "      <td>amir</td>\n",
       "    </tr>\n",
       "    <tr>\n",
       "      <th>5</th>\n",
       "      <td>Sertaç</td>\n",
       "      <td>52</td>\n",
       "      <td>mühendis</td>\n",
       "    </tr>\n",
       "    <tr>\n",
       "      <th>6</th>\n",
       "      <td>Furkan</td>\n",
       "      <td>30</td>\n",
       "      <td>yönetici</td>\n",
       "    </tr>\n",
       "    <tr>\n",
       "      <th>7</th>\n",
       "      <td>Murat</td>\n",
       "      <td>23</td>\n",
       "      <td>müdür</td>\n",
       "    </tr>\n",
       "    <tr>\n",
       "      <th>8</th>\n",
       "      <td>Ahmet</td>\n",
       "      <td>40</td>\n",
       "      <td>veteriner</td>\n",
       "    </tr>\n",
       "    <tr>\n",
       "      <th>9</th>\n",
       "      <td>Abdülkadir</td>\n",
       "      <td>38</td>\n",
       "      <td>yönetici</td>\n",
       "    </tr>\n",
       "  </tbody>\n",
       "</table>\n",
       "</div>"
      ],
      "text/plain": [
       "         isim  yaş  iş-meslek\n",
       "3        Emre   23   yönetici\n",
       "4       Ersin   37       amir\n",
       "5      Sertaç   52   mühendis\n",
       "6      Furkan   30   yönetici\n",
       "7       Murat   23      müdür\n",
       "8       Ahmet   40  veteriner\n",
       "9  Abdülkadir   38   yönetici"
      ]
     },
     "execution_count": 13,
     "metadata": {},
     "output_type": "execute_result"
    }
   ],
   "source": [
    "veri.iloc[3:]"
   ]
  },
  {
   "cell_type": "markdown",
   "id": "7a595469",
   "metadata": {},
   "source": [
    "Yukarıdaki anlatımın tersi olan ilk satırdan başlayıp, veri çerçevesinin istenilen satırına kadar giden bir dilimleme yapmak istersek te, aşağıda bulunan kod gibi <code>:</code>'nin soluna değer yazmamalı, boş bırakmalıyız."
   ]
  },
  {
   "cell_type": "code",
   "execution_count": 14,
   "id": "3854e1d1",
   "metadata": {},
   "outputs": [
    {
     "data": {
      "text/html": [
       "<div>\n",
       "<style scoped>\n",
       "    .dataframe tbody tr th:only-of-type {\n",
       "        vertical-align: middle;\n",
       "    }\n",
       "\n",
       "    .dataframe tbody tr th {\n",
       "        vertical-align: top;\n",
       "    }\n",
       "\n",
       "    .dataframe thead th {\n",
       "        text-align: right;\n",
       "    }\n",
       "</style>\n",
       "<table border=\"1\" class=\"dataframe\">\n",
       "  <thead>\n",
       "    <tr style=\"text-align: right;\">\n",
       "      <th></th>\n",
       "      <th>isim</th>\n",
       "      <th>yaş</th>\n",
       "      <th>iş-meslek</th>\n",
       "    </tr>\n",
       "  </thead>\n",
       "  <tbody>\n",
       "    <tr>\n",
       "      <th>0</th>\n",
       "      <td>Mustafa</td>\n",
       "      <td>25</td>\n",
       "      <td>mühendis</td>\n",
       "    </tr>\n",
       "    <tr>\n",
       "      <th>1</th>\n",
       "      <td>Halil</td>\n",
       "      <td>38</td>\n",
       "      <td>programcı</td>\n",
       "    </tr>\n",
       "    <tr>\n",
       "      <th>2</th>\n",
       "      <td>Burak</td>\n",
       "      <td>41</td>\n",
       "      <td>akademisyen</td>\n",
       "    </tr>\n",
       "    <tr>\n",
       "      <th>3</th>\n",
       "      <td>Emre</td>\n",
       "      <td>23</td>\n",
       "      <td>yönetici</td>\n",
       "    </tr>\n",
       "  </tbody>\n",
       "</table>\n",
       "</div>"
      ],
      "text/plain": [
       "      isim  yaş    iş-meslek\n",
       "0  Mustafa   25     mühendis\n",
       "1    Halil   38    programcı\n",
       "2    Burak   41  akademisyen\n",
       "3     Emre   23     yönetici"
      ]
     },
     "execution_count": 14,
     "metadata": {},
     "output_type": "execute_result"
    }
   ],
   "source": [
    "veri.iloc[:4]"
   ]
  },
  {
   "cell_type": "markdown",
   "id": "a0d15f2e",
   "metadata": {},
   "source": [
    "## Satır ve Sütunları İndekslemek\n",
    "\n",
    "Yukarıda yazdığımız <code>veri.iloc[8,2]</code> kodu, hem satır hemde sütun belirterek değer elde ettiğimiz bir indeksleme yöntemidir.\n",
    "\n",
    "### Satır ve Sütunda dilimleme yapmak\n",
    "\n",
    "Hem satırda hemde sütunda dilimleme yapmak istersek aşağıdaki şekilde kod yazmalıyız;"
   ]
  },
  {
   "cell_type": "code",
   "execution_count": 11,
   "id": "57d18137",
   "metadata": {
    "scrolled": true
   },
   "outputs": [
    {
     "data": {
      "text/html": [
       "<div>\n",
       "<style scoped>\n",
       "    .dataframe tbody tr th:only-of-type {\n",
       "        vertical-align: middle;\n",
       "    }\n",
       "\n",
       "    .dataframe tbody tr th {\n",
       "        vertical-align: top;\n",
       "    }\n",
       "\n",
       "    .dataframe thead th {\n",
       "        text-align: right;\n",
       "    }\n",
       "</style>\n",
       "<table border=\"1\" class=\"dataframe\">\n",
       "  <thead>\n",
       "    <tr style=\"text-align: right;\">\n",
       "      <th></th>\n",
       "      <th>isim</th>\n",
       "      <th>yaş</th>\n",
       "    </tr>\n",
       "  </thead>\n",
       "  <tbody>\n",
       "    <tr>\n",
       "      <th>3</th>\n",
       "      <td>Emre</td>\n",
       "      <td>23</td>\n",
       "    </tr>\n",
       "    <tr>\n",
       "      <th>4</th>\n",
       "      <td>Ersin</td>\n",
       "      <td>37</td>\n",
       "    </tr>\n",
       "    <tr>\n",
       "      <th>5</th>\n",
       "      <td>Sertaç</td>\n",
       "      <td>52</td>\n",
       "    </tr>\n",
       "    <tr>\n",
       "      <th>6</th>\n",
       "      <td>Furkan</td>\n",
       "      <td>30</td>\n",
       "    </tr>\n",
       "    <tr>\n",
       "      <th>7</th>\n",
       "      <td>Murat</td>\n",
       "      <td>23</td>\n",
       "    </tr>\n",
       "  </tbody>\n",
       "</table>\n",
       "</div>"
      ],
      "text/plain": [
       "     isim  yaş\n",
       "3    Emre   23\n",
       "4   Ersin   37\n",
       "5  Sertaç   52\n",
       "6  Furkan   30\n",
       "7   Murat   23"
      ]
     },
     "execution_count": 11,
     "metadata": {},
     "output_type": "execute_result"
    }
   ],
   "source": [
    "veri.iloc[3:8,:2]"
   ]
  },
  {
   "cell_type": "markdown",
   "id": "6044cdd3",
   "metadata": {},
   "source": [
    "<code>veri.iloc[3:8,:2]</code> kodu ile, 3-8 arası satır, 0-2 arası sütun verileri dilimlenmiş. (**Satırlarda**, 3'ten başlayan 8'de biten bir sınırlama yazılmış, **Sütunlarda** başlangıçta sınır yok yani 0'dan başlıyor, 2. sütuna kadar sınırlama getirilmiş.)"
   ]
  },
  {
   "cell_type": "markdown",
   "id": "444cb197",
   "metadata": {},
   "source": [
    "## loc[] Metodu\n",
    "\n",
    "**iloc[]** metoduna benzer bir metottur ancak **loc[]** metodunda, satır ve sütun seçmek/görüntülemek istediğimiz zaman, saır ve sütunların isimlerini yazmalıyız. Elimizde aşağıdaki gibi bir veri çerçevesi olduğunu varsayalım."
   ]
  },
  {
   "cell_type": "code",
   "execution_count": 46,
   "id": "46aa5ea2",
   "metadata": {
    "scrolled": true
   },
   "outputs": [
    {
     "data": {
      "text/html": [
       "<div>\n",
       "<style scoped>\n",
       "    .dataframe tbody tr th:only-of-type {\n",
       "        vertical-align: middle;\n",
       "    }\n",
       "\n",
       "    .dataframe tbody tr th {\n",
       "        vertical-align: top;\n",
       "    }\n",
       "\n",
       "    .dataframe thead th {\n",
       "        text-align: right;\n",
       "    }\n",
       "</style>\n",
       "<table border=\"1\" class=\"dataframe\">\n",
       "  <thead>\n",
       "    <tr style=\"text-align: right;\">\n",
       "      <th></th>\n",
       "      <th>Yıl</th>\n",
       "      <th>Puan</th>\n",
       "      <th>Oylayan_Kişi</th>\n",
       "    </tr>\n",
       "    <tr>\n",
       "      <th>Film_Adı</th>\n",
       "      <th></th>\n",
       "      <th></th>\n",
       "      <th></th>\n",
       "    </tr>\n",
       "  </thead>\n",
       "  <tbody>\n",
       "    <tr>\n",
       "      <th>The Shawshank Redemption</th>\n",
       "      <td>1994</td>\n",
       "      <td>9,2</td>\n",
       "      <td>1071904</td>\n",
       "    </tr>\n",
       "    <tr>\n",
       "      <th>The Godfather</th>\n",
       "      <td>1972</td>\n",
       "      <td>9,2</td>\n",
       "      <td>751381</td>\n",
       "    </tr>\n",
       "    <tr>\n",
       "      <th>The Godfather: Part II</th>\n",
       "      <td>1974</td>\n",
       "      <td>9</td>\n",
       "      <td>488889</td>\n",
       "    </tr>\n",
       "    <tr>\n",
       "      <th>Pulp Fiction</th>\n",
       "      <td>1994</td>\n",
       "      <td>8,9</td>\n",
       "      <td>830504</td>\n",
       "    </tr>\n",
       "    <tr>\n",
       "      <th>The Dark Knight</th>\n",
       "      <td>2008</td>\n",
       "      <td>8,9</td>\n",
       "      <td>1045186</td>\n",
       "    </tr>\n",
       "    <tr>\n",
       "      <th>...</th>\n",
       "      <td>...</td>\n",
       "      <td>...</td>\n",
       "      <td>...</td>\n",
       "    </tr>\n",
       "    <tr>\n",
       "      <th>Mystic River</th>\n",
       "      <td>2003</td>\n",
       "      <td>7,9</td>\n",
       "      <td>256159</td>\n",
       "    </tr>\n",
       "    <tr>\n",
       "      <th>In the Heat of the Night</th>\n",
       "      <td>1967</td>\n",
       "      <td>7,9</td>\n",
       "      <td>37081</td>\n",
       "    </tr>\n",
       "    <tr>\n",
       "      <th>Arsenic and Old Lace</th>\n",
       "      <td>1944</td>\n",
       "      <td>7,9</td>\n",
       "      <td>45893</td>\n",
       "    </tr>\n",
       "    <tr>\n",
       "      <th>Before Sunrise</th>\n",
       "      <td>1995</td>\n",
       "      <td>7,9</td>\n",
       "      <td>100974</td>\n",
       "    </tr>\n",
       "    <tr>\n",
       "      <th>Papillon</th>\n",
       "      <td>1973</td>\n",
       "      <td>7,9</td>\n",
       "      <td>62517</td>\n",
       "    </tr>\n",
       "  </tbody>\n",
       "</table>\n",
       "<p>247 rows × 3 columns</p>\n",
       "</div>"
      ],
      "text/plain": [
       "                            Yıl Puan  Oylayan_Kişi\n",
       "Film_Adı                                          \n",
       "The Shawshank Redemption   1994  9,2       1071904\n",
       "The Godfather              1972  9,2        751381\n",
       "The Godfather: Part II     1974    9        488889\n",
       "Pulp Fiction               1994  8,9        830504\n",
       "The Dark Knight            2008  8,9       1045186\n",
       "...                         ...  ...           ...\n",
       "Mystic River               2003  7,9        256159\n",
       "In the Heat of the Night   1967  7,9         37081\n",
       "Arsenic and Old Lace       1944  7,9         45893\n",
       "Before Sunrise             1995  7,9        100974\n",
       "Papillon                   1973  7,9         62517\n",
       "\n",
       "[247 rows x 3 columns]"
      ]
     },
     "execution_count": 46,
     "metadata": {},
     "output_type": "execute_result"
    }
   ],
   "source": [
    "imdb = pd.read_excel(\"Veri_Setleri/imdb.xlsx\", index_col=\"Film_Adı\")\n",
    "imdb"
   ]
  },
  {
   "cell_type": "markdown",
   "id": "bfcca0be",
   "metadata": {},
   "source": [
    "**Pulp Fiction** Filminin **Puan**ını öğrenmek istediğimizi düşünelim. Bu durumda aşağıdaki kodları yazmamız doğru sonucu verecektir."
   ]
  },
  {
   "cell_type": "code",
   "execution_count": 32,
   "id": "c32aa064",
   "metadata": {},
   "outputs": [
    {
     "data": {
      "text/plain": [
       "'8,9'"
      ]
     },
     "execution_count": 32,
     "metadata": {},
     "output_type": "execute_result"
    }
   ],
   "source": [
    "imdb.loc[\"Pulp Fiction\", \"Puan\"]"
   ]
  },
  {
   "cell_type": "markdown",
   "id": "c1f23ac5",
   "metadata": {},
   "source": [
    "**Star Wars** isimli satır verisine ulaşmak için **loc[]** metoduna **Star Wars** metinsel (string) ibaresini eklemeliyiz."
   ]
  },
  {
   "cell_type": "code",
   "execution_count": 61,
   "id": "5b5d9115",
   "metadata": {},
   "outputs": [
    {
     "data": {
      "text/plain": [
       "Yıl               1977\n",
       "Puan               8,7\n",
       "Oylayan_Kişi    585132\n",
       "Name: Star Wars, dtype: object"
      ]
     },
     "execution_count": 61,
     "metadata": {},
     "output_type": "execute_result"
    }
   ],
   "source": [
    "imdb.loc[\"Star Wars\"]"
   ]
  },
  {
   "cell_type": "markdown",
   "id": "03306265",
   "metadata": {},
   "source": [
    "## Sütun Seçimi\n",
    "\n",
    "Sadece bir Sütunu seçmek/görüntülemek için veri çerçevesinin adı ile birlikte seçmek/görüntülemek istediğimiz sütunun ismini yazmak yeterlidir. Bu da iki şekilde gerçekleştirilebilir.\n",
    "\n",
    "1. **VeriCervecesiAdı.SütunAdı**\n",
    "2. **VeriCervecesiAdı[\"SütunAdı\"]**\n",
    "\n",
    "Sütun isminde boşluk ya da nokta karakterleri bulunması halinde, ilk (noktalı) seçeneği kullanamayız, o durumda 2. seçeneği (köşeli parantezli) kullanmak gerekir.\n",
    "Bunları da örneklerle görelim."
   ]
  },
  {
   "cell_type": "code",
   "execution_count": 69,
   "id": "dc80b011",
   "metadata": {
    "scrolled": false
   },
   "outputs": [
    {
     "data": {
      "text/plain": [
       "Film_Adı\n",
       "The Shawshank Redemption     9,2\n",
       "The Godfather                9,2\n",
       "The Godfather: Part II         9\n",
       "Pulp Fiction                 8,9\n",
       "The Dark Knight              8,9\n",
       "                            ... \n",
       "Mystic River                 7,9\n",
       "In the Heat of the Night     7,9\n",
       "Arsenic and Old Lace         7,9\n",
       "Before Sunrise               7,9\n",
       "Papillon                     7,9\n",
       "Name: Puan, Length: 247, dtype: object"
      ]
     },
     "execution_count": 69,
     "metadata": {},
     "output_type": "execute_result"
    }
   ],
   "source": [
    "imdb.Puan"
   ]
  },
  {
   "cell_type": "code",
   "execution_count": 71,
   "id": "1192eecc",
   "metadata": {},
   "outputs": [
    {
     "data": {
      "text/plain": [
       "Film_Adı\n",
       "The Shawshank Redemption     9,2\n",
       "The Godfather                9,2\n",
       "The Godfather: Part II         9\n",
       "Pulp Fiction                 8,9\n",
       "The Dark Knight              8,9\n",
       "                            ... \n",
       "Mystic River                 7,9\n",
       "In the Heat of the Night     7,9\n",
       "Arsenic and Old Lace         7,9\n",
       "Before Sunrise               7,9\n",
       "Papillon                     7,9\n",
       "Name: Puan, Length: 247, dtype: object"
      ]
     },
     "execution_count": 71,
     "metadata": {},
     "output_type": "execute_result"
    }
   ],
   "source": [
    "imdb[\"Puan\"]"
   ]
  },
  {
   "cell_type": "markdown",
   "id": "d354ad9c",
   "metadata": {},
   "source": [
    "Birden fazla sütun seçmek istediğimiz durumda, sütun isimlerini liste olarak (bildiğiniz gibi liste veri tipleri köşeli parantez ile temsil edilir) belirtmek/yazmak gerekir."
   ]
  },
  {
   "cell_type": "code",
   "execution_count": 76,
   "id": "9f8e518b",
   "metadata": {},
   "outputs": [
    {
     "data": {
      "text/html": [
       "<div>\n",
       "<style scoped>\n",
       "    .dataframe tbody tr th:only-of-type {\n",
       "        vertical-align: middle;\n",
       "    }\n",
       "\n",
       "    .dataframe tbody tr th {\n",
       "        vertical-align: top;\n",
       "    }\n",
       "\n",
       "    .dataframe thead th {\n",
       "        text-align: right;\n",
       "    }\n",
       "</style>\n",
       "<table border=\"1\" class=\"dataframe\">\n",
       "  <thead>\n",
       "    <tr style=\"text-align: right;\">\n",
       "      <th></th>\n",
       "      <th>Yıl</th>\n",
       "      <th>Puan</th>\n",
       "    </tr>\n",
       "    <tr>\n",
       "      <th>Film_Adı</th>\n",
       "      <th></th>\n",
       "      <th></th>\n",
       "    </tr>\n",
       "  </thead>\n",
       "  <tbody>\n",
       "    <tr>\n",
       "      <th>The Shawshank Redemption</th>\n",
       "      <td>1994</td>\n",
       "      <td>9,2</td>\n",
       "    </tr>\n",
       "    <tr>\n",
       "      <th>The Godfather</th>\n",
       "      <td>1972</td>\n",
       "      <td>9,2</td>\n",
       "    </tr>\n",
       "    <tr>\n",
       "      <th>The Godfather: Part II</th>\n",
       "      <td>1974</td>\n",
       "      <td>9</td>\n",
       "    </tr>\n",
       "    <tr>\n",
       "      <th>Pulp Fiction</th>\n",
       "      <td>1994</td>\n",
       "      <td>8,9</td>\n",
       "    </tr>\n",
       "    <tr>\n",
       "      <th>The Dark Knight</th>\n",
       "      <td>2008</td>\n",
       "      <td>8,9</td>\n",
       "    </tr>\n",
       "    <tr>\n",
       "      <th>...</th>\n",
       "      <td>...</td>\n",
       "      <td>...</td>\n",
       "    </tr>\n",
       "    <tr>\n",
       "      <th>Mystic River</th>\n",
       "      <td>2003</td>\n",
       "      <td>7,9</td>\n",
       "    </tr>\n",
       "    <tr>\n",
       "      <th>In the Heat of the Night</th>\n",
       "      <td>1967</td>\n",
       "      <td>7,9</td>\n",
       "    </tr>\n",
       "    <tr>\n",
       "      <th>Arsenic and Old Lace</th>\n",
       "      <td>1944</td>\n",
       "      <td>7,9</td>\n",
       "    </tr>\n",
       "    <tr>\n",
       "      <th>Before Sunrise</th>\n",
       "      <td>1995</td>\n",
       "      <td>7,9</td>\n",
       "    </tr>\n",
       "    <tr>\n",
       "      <th>Papillon</th>\n",
       "      <td>1973</td>\n",
       "      <td>7,9</td>\n",
       "    </tr>\n",
       "  </tbody>\n",
       "</table>\n",
       "<p>247 rows × 2 columns</p>\n",
       "</div>"
      ],
      "text/plain": [
       "                            Yıl Puan\n",
       "Film_Adı                            \n",
       "The Shawshank Redemption   1994  9,2\n",
       "The Godfather              1972  9,2\n",
       "The Godfather: Part II     1974    9\n",
       "Pulp Fiction               1994  8,9\n",
       "The Dark Knight            2008  8,9\n",
       "...                         ...  ...\n",
       "Mystic River               2003  7,9\n",
       "In the Heat of the Night   1967  7,9\n",
       "Arsenic and Old Lace       1944  7,9\n",
       "Before Sunrise             1995  7,9\n",
       "Papillon                   1973  7,9\n",
       "\n",
       "[247 rows x 2 columns]"
      ]
     },
     "execution_count": 76,
     "metadata": {},
     "output_type": "execute_result"
    }
   ],
   "source": [
    "imdb[[\"Yıl\", \"Puan\"]]"
   ]
  }
 ],
 "metadata": {
  "kernelspec": {
   "display_name": "Python 3 (ipykernel)",
   "language": "python",
   "name": "python3"
  },
  "language_info": {
   "codemirror_mode": {
    "name": "ipython",
    "version": 3
   },
   "file_extension": ".py",
   "mimetype": "text/x-python",
   "name": "python",
   "nbconvert_exporter": "python",
   "pygments_lexer": "ipython3",
   "version": "3.10.6"
  }
 },
 "nbformat": 4,
 "nbformat_minor": 5
}
